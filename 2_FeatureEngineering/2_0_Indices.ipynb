{
 "cells": [
  {
   "attachments": {},
   "cell_type": "markdown",
   "metadata": {},
   "source": [
    "https://gisgeography.com/sentinel-2-bands-combinations/\n",
    "\n",
    "Index | Band | Description\n",
    "--- | --- | ---\n",
    "0 | B2 | Blue\n",
    "1 | B3 | Green\n",
    "2 | B4 | Red\n",
    "3 | B5 | Visible and Near Infrared (VNIR)\n",
    "4 | B6 | VNIR\n",
    "5 | B7 | VNIR\n",
    "6 | B8 | VNIR\n",
    "7 | B8A | VNIR\n",
    "8 | B11 | Short Wave Infrared (SWIR)\n",
    "9 | B12 | SWIR\n",
    "10 | B08/B04 | Simple Ratio (SR)\n",
    "11 | (B08 − B04)/(B08 + B04) | Normalized Difference Vegetation Index (NDVI)\n",
    "12 | (B08 − B03)/(B08 + B03) | Green Normalized Difference Vegetation Index (GNDVI)\n",
    "13 | (B03 − B04)/(B03 + B04) | Vegetation Index green (VIgreen)\n",
    "14 | (B07 − B04)/(B07 + B04) | Red Edge Normalized Difference Vegetation Index (RENDVI)\n",
    "15 | B05/B04 | Red Edge Simple Ratio (SRRE)\n",
    "16 | B8A/B05 | Red edge Ratio Index 1 (RRI1)\n",
    "17 | (B07−B04)/(B05/B06) | Inverted Red Edge Chlorophyll Index (IRECI)\n",
    "18 | B11/B8A | Moisture Stress Index (MSI)\n",
    "19 | (B8A − B11)/(B8A + B11) | Normalized Difference Infrared Index (NDII)\n",
    "20 | (B8A − B12)/(B8A + B12) | Normalized Burn Ratio (NBR)\n",
    "21 | B8A/(B05 + B12) | Specific Leaf Area Vegetation Index (SLAVI)"
   ]
  },
  {
   "cell_type": "code",
   "execution_count": 4,
   "metadata": {},
   "outputs": [],
   "source": [
    "import numpy as np\n",
    "import pandas as pd"
   ]
  },
  {
   "cell_type": "code",
   "execution_count": 5,
   "metadata": {},
   "outputs": [],
   "source": [
    "X_train = np.load('../data/X_train.npy')\n",
    "y_train = np.load('../data/y_test.npy')\n",
    "\n",
    "X_test = np.load('../data/X_test.npy')\n",
    "y_test = np.load('../data/y_test.npy')"
   ]
  },
  {
   "attachments": {},
   "cell_type": "markdown",
   "metadata": {},
   "source": [
    "## Indices\n",
    "- Paper: \"Canopy Height Mapping by Sentinel 1 and 2 Satellite Images, Airborne LiDAR Data, and Machine Learning\" (2022)"
   ]
  },
  {
   "cell_type": "code",
   "execution_count": 6,
   "metadata": {},
   "outputs": [],
   "source": [
    "sr = X_train[:,6]/X_train[:,2]\n",
    "ndvi = (X_train[:,6]-X_train[:,2])/(X_train[:,6]+X_train[:,2])\n",
    "gndvi = (X_train[:,6]-X_train[:,1])/(X_train[:,6]+X_train[:,1])\n",
    "VIgreen = (X_train[:,1]-X_train[:,2])/(X_train[:,1]+X_train[:,2])\n",
    "RENDVI = (X_train[:,5]-X_train[:,2])/(X_train[:,5]+X_train[:,2])\n",
    "SRRE = X_train[:,3]/X_train[:,2]\n",
    "RR1 = X_train[:,7]/X_train[:,3]\n",
    "IRECI = (X_train[:,5]-X_train[:,2])/(X_train[:,3]/X_train[:,4])\n",
    "MSI = X_train[:,8]/X_train[:,7]\n",
    "NDII = (X_train[:,7]-X_train[:,8])/(X_train[:,7]+X_train[:,8])\n",
    "NBR = (X_train[:,7]-X_train[:,9])/(X_train[:,7]+X_train[:,9])\n",
    "SLAVI = X_train[:,7]/(X_train[:,3]+X_train[:,9])\n",
    "\n",
    "sr_t = X_test[:,6]/X_test[:,2]\n",
    "ndvi_t = (X_test[:,6]-X_test[:,2])/(X_test[:,6]+X_test[:,2])\n",
    "gndvi_t = (X_test[:,6]-X_test[:,1])/(X_test[:,6]+X_test[:,1])\n",
    "VIgreen_t = (X_test[:,1]-X_test[:,2])/(X_test[:,1]+X_test[:,2])\n",
    "RENDVI_t = (X_test[:,5]-X_test[:,2])/(X_test[:,5]+X_test[:,2])\n",
    "SRRE_t = X_test[:,3]/X_test[:,2]\n",
    "RR1_t = X_test[:,7]/X_test[:,3]\n",
    "IRECI_t = (X_test[:,5]-X_test[:,2])/(X_test[:,3]/X_test[:,4])\n",
    "MSI_t = X_test[:,8]/X_test[:,7]\n",
    "NDII_t = (X_test[:,7]-X_test[:,8])/(X_test[:,7]+X_test[:,8])\n",
    "NBR_t = (X_test[:,7]-X_test[:,9])/(X_test[:,7]+X_test[:,9])\n",
    "SLAVI_t = X_test[:,7]/(X_test[:,3]+X_test[:,9])"
   ]
  },
  {
   "cell_type": "code",
   "execution_count": 8,
   "metadata": {},
   "outputs": [],
   "source": [
    "X_train_with_indices = np.append(X_train, np.array([sr, ndvi, gndvi, VIgreen, RENDVI, SRRE, RR1, IRECI, MSI, NDII, NBR, SLAVI]).T, axis=1)\n",
    "X_test_with_indices = np.append(X_test, np.array([sr_t, ndvi_t, gndvi_t, VIgreen_t, RENDVI_t, SRRE_t, RR1_t, IRECI_t, MSI_t, NDII_t, NBR_t, SLAVI_t]).T, axis=1)\n",
    "\n",
    "X_train_with_selected_indices = X_train_with_indices[:, (1, 2, 3, 12, 16, 18, 19, 20)]\n",
    "X_test_with_selected_indices = X_test_with_indices[:, (1, 2, 3, 12, 16, 18, 19, 20)]"
   ]
  },
  {
   "cell_type": "code",
   "execution_count": 10,
   "metadata": {},
   "outputs": [],
   "source": [
    "np.save('../data/X_train_all_indices.npy', X_train_with_indices)\n",
    "np.save('../data/X_test_all_indices.npy', X_test_with_indices)\n",
    "\n",
    "np.save('../data/X_train_selected_indices.npy', X_train_with_selected_indices)\n",
    "np.save('../data/X_test_selected_indices.npy', X_test_with_selected_indices)"
   ]
  }
 ],
 "metadata": {
  "kernelspec": {
   "display_name": "Python 3",
   "language": "python",
   "name": "python3"
  },
  "language_info": {
   "codemirror_mode": {
    "name": "ipython",
    "version": 3
   },
   "file_extension": ".py",
   "mimetype": "text/x-python",
   "name": "python",
   "nbconvert_exporter": "python",
   "pygments_lexer": "ipython3",
   "version": "3.11.3"
  },
  "orig_nbformat": 4
 },
 "nbformat": 4,
 "nbformat_minor": 2
}
