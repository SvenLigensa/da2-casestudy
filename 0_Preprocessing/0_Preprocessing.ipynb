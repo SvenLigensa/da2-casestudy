{
 "cells": [
  {
   "cell_type": "code",
   "execution_count": 1,
   "metadata": {},
   "outputs": [],
   "source": [
    "from pathlib import Path\n",
    "import numpy as np\n",
    "from sklearn.model_selection import train_test_split\n",
    "from xgboost import XGBRegressor\n",
    "from sklearn.metrics import mean_squared_error, mean_absolute_error\n",
    "import matplotlib.pyplot as pyplot"
   ]
  },
  {
   "cell_type": "code",
   "execution_count": 2,
   "metadata": {},
   "outputs": [
    {
     "name": "stdout",
     "output_type": "stream",
     "text": [
      "Number of images: 40\n",
      "Channels: 10\n",
      "Height: 1024\n",
      "Width: 1024\n"
     ]
    }
   ],
   "source": [
    "def load_files(directory: str):\n",
    "    return np.stack(list(map(lambda path: np.load(path), Path(directory).glob('**/*.npy'))))\n",
    "\n",
    "images = load_files('../data/images_train')\n",
    "masks = load_files('../data/masks_train').squeeze()  # squeeze removes the dimension of size 1\n",
    "\n",
    "if (len(images.shape) != 4):\n",
    "    raise Exception(f\"Unexpected shape of images: {images.shape}\")\n",
    "if (len(images.shape)-1 != len(masks.shape)\n",
    "    or images.shape[0] != masks.shape[0] \n",
    "    or images.shape[2] != masks.shape[1] \n",
    "    or images.shape[3] != masks.shape[2]):\n",
    "    raise Exception(f\"Shape mismatch between images and masks: {images.shape} != {masks.shape}\")\n",
    "\n",
    "print(f\"Number of images: {images.shape[0]}\\nChannels: {images.shape[1]}\\nHeight: {images.shape[2]}\\nWidth: {images.shape[3]}\")"
   ]
  },
  {
   "attachments": {},
   "cell_type": "markdown",
   "metadata": {},
   "source": [
    "Find the indices of non-zero labels."
   ]
  },
  {
   "cell_type": "code",
   "execution_count": 3,
   "metadata": {},
   "outputs": [],
   "source": [
    "indices = np.argwhere(masks)"
   ]
  },
  {
   "attachments": {},
   "cell_type": "markdown",
   "metadata": {},
   "source": [
    "Split the indices into a training and a test set. We use 90% for training and (cross-)validation and 10% for testing (the final evaluation)."
   ]
  },
  {
   "cell_type": "code",
   "execution_count": 4,
   "metadata": {},
   "outputs": [
    {
     "name": "stdout",
     "output_type": "stream",
     "text": [
      "Generated 34976 training and 3887 testing indices and saved them to 'indices_train.npy' and 'indices_test.npy'\n"
     ]
    }
   ],
   "source": [
    "indices_train, indices_test = train_test_split(indices, train_size=0.9, random_state=42)\n",
    "np.save('../data/indices_train.npy', indices_train)\n",
    "np.save('../data/indices_test.npy', indices_test)\n",
    "\n",
    "print(f\"Generated {indices_train.shape[0]} training and {indices_test.shape[0]} testing indices \"\n",
    "       \"and saved them to 'indices_train.npy' and 'indices_test.npy'\")"
   ]
  },
  {
   "attachments": {},
   "cell_type": "markdown",
   "metadata": {},
   "source": [
    "Obtain the feature vectors $\\mathbf X$ and labels $\\mathbf y$ of the given indices."
   ]
  },
  {
   "cell_type": "code",
   "execution_count": 5,
   "metadata": {},
   "outputs": [],
   "source": [
    "X_train = images[indices_train[:, 0], :, indices_train[:, 1], indices_train[:, 2]]\n",
    "X_test = images[indices_test[:, 0], :, indices_test[:, 1], indices_test[:, 2]]\n",
    "y_train = masks[indices_train[:, 0], indices_train[:, 1], indices_train[:, 2]]\n",
    "y_test = masks[indices_test[:, 0], indices_test[:, 1], indices_test[:, 2]]\n",
    "\n",
    "np.save('../data/X_train.npy', X_train)\n",
    "np.save('../data/X_test.npy', X_test)\n",
    "np.save('../data/y_train.npy', y_train)\n",
    "np.save('../data/y_test.npy', y_test)"
   ]
  }
 ],
 "metadata": {
  "kernelspec": {
   "display_name": "Python 3",
   "language": "python",
   "name": "python3"
  },
  "language_info": {
   "codemirror_mode": {
    "name": "ipython",
    "version": 3
   },
   "file_extension": ".py",
   "mimetype": "text/x-python",
   "name": "python",
   "nbconvert_exporter": "python",
   "pygments_lexer": "ipython3",
   "version": "3.11.3"
  },
  "orig_nbformat": 4
 },
 "nbformat": 4,
 "nbformat_minor": 2
}
