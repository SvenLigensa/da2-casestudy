{
 "cells": [
  {
   "attachments": {},
   "cell_type": "markdown",
   "metadata": {},
   "source": [
    "# Setup"
   ]
  },
  {
   "cell_type": "code",
   "execution_count": null,
   "metadata": {},
   "outputs": [],
   "source": [
    "import os\n",
    "import numpy as np\n",
    "from tensorflow.keras.models import load_model\n",
    "import matplotlib.pyplot as plt\n",
    "import matplotlib.colors as mcolors\n",
    "from mpl_toolkits.axes_grid1 import make_axes_locatable"
   ]
  },
  {
   "attachments": {},
   "cell_type": "markdown",
   "metadata": {},
   "source": [
    "## Load Data"
   ]
  },
  {
   "cell_type": "code",
   "execution_count": null,
   "metadata": {},
   "outputs": [],
   "source": [
    "X_test = np.load('private_test.npy')\n",
    "\n",
    "channels = X_test.shape[0]\n",
    "height = X_test.shape[1]\n",
    "width = X_test.shape[2]\n",
    "\n",
    "print(f\"Loaded image with channels: {channels}, height: {height}, width: {width}\")"
   ]
  },
  {
   "attachments": {},
   "cell_type": "markdown",
   "metadata": {},
   "source": [
    "# Apply Model"
   ]
  },
  {
   "cell_type": "code",
   "execution_count": null,
   "metadata": {},
   "outputs": [],
   "source": [
    "cnn = load_model('../models/cnn')"
   ]
  },
  {
   "cell_type": "code",
   "execution_count": 4,
   "metadata": {},
   "outputs": [],
   "source": [
    "def get_neighborhood(image, x, y):\n",
    "    neighborhood = image[x:x+7, y:y+7,:]\n",
    "    return neighborhood"
   ]
  },
  {
   "attachments": {},
   "cell_type": "markdown",
   "metadata": {},
   "source": [
    "Apply the CNN row-wise to the input. And store the predictions row-wise."
   ]
  },
  {
   "attachments": {},
   "cell_type": "markdown",
   "metadata": {},
   "source": [
    "It's a pain to run this cell and takes ages... (about 16 hours). And maybe your RAM capacity is exceeded..."
   ]
  },
  {
   "cell_type": "code",
   "execution_count": null,
   "metadata": {},
   "outputs": [],
   "source": [
    "X_batch = np.zeros((width, 7, 7, 10))\n",
    "\n",
    "X_test = np.moveaxis(X_test, 0, -1)\n",
    "X_test_padded = np.pad(X_test, ((3, 3), (3, 3), (0, 0)), mode='edge')\n",
    "del X_test\n",
    "\n",
    "for y in range(height):\n",
    "    for x in range(width):\n",
    "        X_new = get_neighborhood(X_test_padded, x, y)\n",
    "        mean = np.mean(X_new)\n",
    "        std = np.std(X_new)\n",
    "        X_new = (X_new - mean) / std\n",
    "        X_batch[x] = X_new\n",
    "    pred = cnn.predict(X_batch).flatten()\n",
    "    np.save(f'cnn_pred/private_test_cnn_{y}.npy', pred)"
   ]
  },
  {
   "cell_type": "code",
   "execution_count": null,
   "metadata": {},
   "outputs": [],
   "source": [
    "num_files = len(os.listdir('cnn_pred/'))\n",
    "num_files"
   ]
  },
  {
   "attachments": {},
   "cell_type": "markdown",
   "metadata": {},
   "source": [
    "Concatenate all rows of the numpy array to obtain a single array containing all predictions."
   ]
  },
  {
   "cell_type": "code",
   "execution_count": null,
   "metadata": {},
   "outputs": [],
   "source": [
    "rows = np.stack(list(map(lambda index: np.load(f'./private_test_cnn_{index}.npy'), range(16384))))\n",
    "predictions = rows.reshape((1, 16384, 16384)).swapaxes(1, 2)\n",
    "np.save('../private_test_cnn.npy', predictions)"
   ]
  },
  {
   "attachments": {},
   "cell_type": "markdown",
   "metadata": {},
   "source": [
    "# Visualize Predictions"
   ]
  },
  {
   "cell_type": "code",
   "execution_count": null,
   "metadata": {},
   "outputs": [],
   "source": [
    "fig, ax = plt.subplots(figsize=(20, 20))\n",
    "colors = [\"white\", \"#942738\"]\n",
    "cmap = mcolors.LinearSegmentedColormap.from_list(\"mycmap\", colors)\n",
    "im = ax.imshow(np.load('../private_test_cnn.npy')[0], cmap=cmap, vmin=0, vmax=40)\n",
    "divider = make_axes_locatable(ax)\n",
    "cax = divider.append_axes(\"right\", size=\"5%\", pad=0.2)\n",
    "plt.colorbar(im, cax=cax)\n",
    "ax.axis('off')\n",
    "plt.savefig('../Private_Test_CNN.png', bbox_inches='tight')\n",
    "plt.show()"
   ]
  }
 ],
 "metadata": {
  "kernelspec": {
   "display_name": "Python 3",
   "language": "python",
   "name": "python3"
  },
  "language_info": {
   "codemirror_mode": {
    "name": "ipython",
    "version": 3
   },
   "file_extension": ".py",
   "mimetype": "text/x-python",
   "name": "python",
   "nbconvert_exporter": "python",
   "pygments_lexer": "ipython3",
   "version": "3.11.3"
  },
  "orig_nbformat": 4
 },
 "nbformat": 4,
 "nbformat_minor": 2
}
