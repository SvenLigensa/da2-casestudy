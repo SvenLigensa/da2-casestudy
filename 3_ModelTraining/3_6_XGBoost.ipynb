{
 "cells": [
  {
   "attachments": {},
   "cell_type": "markdown",
   "metadata": {},
   "source": [
    "# Setup"
   ]
  },
  {
   "cell_type": "code",
   "execution_count": null,
   "metadata": {},
   "outputs": [],
   "source": [
    "import numpy as np\n",
    "import pandas as pd\n",
    "import matplotlib.pyplot as plt\n",
    "import xgboost\n",
    "from sklearn.model_selection import GridSearchCV\n",
    "from sklearn.metrics import mean_absolute_error\n",
    "from joblib import dump"
   ]
  },
  {
   "cell_type": "code",
   "execution_count": null,
   "metadata": {},
   "outputs": [],
   "source": [
    "X_train_all_indices = np.load('../data/X_train_all_indices.npy')\n",
    "y_train = np.load('../data/y_train.npy')"
   ]
  },
  {
   "attachments": {},
   "cell_type": "markdown",
   "metadata": {},
   "source": [
    "# Model Training"
   ]
  },
  {
   "cell_type": "code",
   "execution_count": null,
   "metadata": {},
   "outputs": [],
   "source": [
    "model_all_indices = xgboost.XGBRegressor(objective ='reg:absoluteerror')\n",
    "\n",
    "param_grid = {\n",
    "    'learning_rate': [0.01, 0.05, 0.1],\n",
    "    'colsample_bytree': [0.75, 1.0],\n",
    "    'reg_lambda': [0.5, 1.0],\n",
    "    'n_estimators': [250, 500, 750],\n",
    "    'max_depth': [5, 10, None],\n",
    "}\n",
    "\n",
    "grid_search = GridSearchCV(model_all_indices, param_grid, cv=3, n_jobs=-1, verbose=1, scoring='neg_mean_absolute_error')\n",
    "grid_search.fit(X_train_all_indices, y_train)"
   ]
  },
  {
   "cell_type": "code",
   "execution_count": null,
   "metadata": {},
   "outputs": [],
   "source": [
    "print(f\"Best parameters: {grid_search.best_params_}\")\n",
    "model_all_indices = xgboost.XGBRegressor(\n",
    "    objective ='reg:absoluteerror', \n",
    "    colsample_bytree = 0.75, \n",
    "    learning_rate = 0.1,\n",
    "    max_depth = None,\n",
    "    reg_lambda = 1.0,\n",
    "    n_estimators = 750)\n",
    "model_all_indices.fit(X_train_all_indices, y_train)\n",
    "dump(model_all_indices, '../models/xgboost.joblib')"
   ]
  },
  {
   "cell_type": "code",
   "execution_count": null,
   "metadata": {},
   "outputs": [],
   "source": [
    "model_all_indices = xgboost.XGBRegressor(objective ='reg:absoluteerror')\n",
    "\n",
    "param_grid = {\n",
    "    'learning_rate': [0.1, 0.25, 0.5],\n",
    "    'colsample_bytree': [0.5, 0.75],\n",
    "    'reg_lambda': [1.0, 5.0],\n",
    "    'n_estimators': [750, 1000, 1250],\n",
    "    'max_depth': [None],\n",
    "}\n",
    "\n",
    "grid_search = GridSearchCV(model_all_indices, param_grid, cv=3, n_jobs=-1, verbose=1, scoring='neg_mean_absolute_error')\n",
    "grid_search.fit(X_train_all_indices, y_train)"
   ]
  },
  {
   "cell_type": "code",
   "execution_count": null,
   "metadata": {},
   "outputs": [],
   "source": [
    "print(f\"Best parameters: {grid_search.best_params_}\")\n",
    "model_all_indices = xgboost.XGBRegressor(\n",
    "    objective ='reg:absoluteerror', \n",
    "    colsample_bytree = 0.5, \n",
    "    learning_rate = 0.1,\n",
    "    max_depth = None,\n",
    "    reg_lambda = 5.0,\n",
    "    n_estimators = 750)\n",
    "model_all_indices.fit(X_train_all_indices, y_train)\n",
    "dump(model_all_indices, '../models/xgboost.joblib')"
   ]
  },
  {
   "cell_type": "code",
   "execution_count": null,
   "metadata": {},
   "outputs": [],
   "source": [
    "model_all_indices = xgboost.XGBRegressor(objective ='reg:absoluteerror')\n",
    "\n",
    "param_grid = {\n",
    "    'learning_rate': [0.1],\n",
    "    'colsample_bytree': [0.3, 0.4, 0.5],\n",
    "    'reg_lambda': [2.5, 5.0, 10.0, 20.0],\n",
    "    'n_estimators': [750],\n",
    "    'max_depth': [None],\n",
    "}\n",
    "\n",
    "grid_search = GridSearchCV(model_all_indices, param_grid, cv=3, n_jobs=-1, verbose=1, scoring='neg_mean_absolute_error')\n",
    "grid_search.fit(X_train_all_indices, y_train)"
   ]
  },
  {
   "cell_type": "code",
   "execution_count": null,
   "metadata": {},
   "outputs": [],
   "source": [
    "print(f\"Best parameters: {grid_search.best_params_}\")\n",
    "model_all_indices = xgboost.XGBRegressor(\n",
    "    objective ='reg:absoluteerror', \n",
    "    colsample_bytree = 0.5, \n",
    "    learning_rate = 0.1,\n",
    "    max_depth = None,\n",
    "    reg_lambda = 20.0,\n",
    "    n_estimators = 750)\n",
    "model_all_indices.fit(X_train_all_indices, y_train)\n",
    "dump(model_all_indices, '../models/xgboost.joblib')"
   ]
  },
  {
   "cell_type": "code",
   "execution_count": null,
   "metadata": {},
   "outputs": [],
   "source": [
    "model_all_indices = xgboost.XGBRegressor(objective ='reg:absoluteerror')\n",
    "\n",
    "param_grid = {\n",
    "    'learning_rate': [0.1],\n",
    "    'colsample_bytree': [0.5],\n",
    "    'reg_lambda': [20.0, 40.0, 60.0],\n",
    "    'n_estimators': [750],\n",
    "    'max_depth': [None],\n",
    "}\n",
    "\n",
    "grid_search = GridSearchCV(model_all_indices, param_grid, cv=3, n_jobs=-1, verbose=1, scoring='neg_mean_absolute_error')\n",
    "grid_search.fit(X_train_all_indices, y_train)"
   ]
  },
  {
   "cell_type": "code",
   "execution_count": null,
   "metadata": {},
   "outputs": [],
   "source": [
    "print(f\"Best parameters: {grid_search.best_params_}\")\n",
    "model_all_indices = xgboost.XGBRegressor(\n",
    "    objective ='reg:absoluteerror', \n",
    "    colsample_bytree = 0.5, \n",
    "    learning_rate = 0.1,\n",
    "    max_depth = None,\n",
    "    reg_lambda = 60.0,\n",
    "    n_estimators = 750)\n",
    "model_all_indices.fit(X_train_all_indices, y_train)\n",
    "dump(model_all_indices, '../models/xgboost.joblib')"
   ]
  }
 ],
 "metadata": {
  "kernelspec": {
   "display_name": "Python 3",
   "language": "python",
   "name": "python3"
  },
  "language_info": {
   "codemirror_mode": {
    "name": "ipython",
    "version": 3
   },
   "file_extension": ".py",
   "mimetype": "text/x-python",
   "name": "python",
   "nbconvert_exporter": "python",
   "pygments_lexer": "ipython3",
   "version": "3.11.3"
  },
  "orig_nbformat": 4
 },
 "nbformat": 4,
 "nbformat_minor": 2
}
