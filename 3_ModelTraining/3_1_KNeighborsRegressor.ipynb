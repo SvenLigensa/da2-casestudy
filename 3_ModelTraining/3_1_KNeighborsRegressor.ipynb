{
 "cells": [
  {
   "attachments": {},
   "cell_type": "markdown",
   "metadata": {},
   "source": [
    "# Setup"
   ]
  },
  {
   "cell_type": "code",
   "execution_count": null,
   "metadata": {},
   "outputs": [],
   "source": [
    "import numpy as np\n",
    "import pandas as pd\n",
    "import matplotlib.pyplot as plt\n",
    "from sklearn.neighbors import KNeighborsRegressor\n",
    "from sklearn.preprocessing import MinMaxScaler, StandardScaler\n",
    "from sklearn.model_selection import GridSearchCV\n",
    "from sklearn.metrics import mean_absolute_error\n",
    "from joblib import dump"
   ]
  },
  {
   "cell_type": "code",
   "execution_count": null,
   "metadata": {},
   "outputs": [],
   "source": [
    "X_train = np.load('../data/X_train.npy')\n",
    "X_train_all_indices = np.load('../data/X_train_all_indices.npy')\n",
    "X_train_selected_indices = np.load('../data/X_train_selected_indices.npy')\n",
    "y_train = np.load('../data/y_train.npy')"
   ]
  },
  {
   "cell_type": "code",
   "execution_count": null,
   "metadata": {},
   "outputs": [],
   "source": [
    "scaler_train = StandardScaler()\n",
    "X_train = scaler_train.fit_transform(X_train)\n",
    "scaler_train_all_indices = StandardScaler()\n",
    "X_train_all_indices = scaler_train_all_indices.fit_transform(X_train_all_indices)\n",
    "scaler_train_selected_indices = StandardScaler()\n",
    "X_train_selected_indices = scaler_train_selected_indices.fit_transform(X_train_selected_indices)"
   ]
  },
  {
   "attachments": {},
   "cell_type": "markdown",
   "metadata": {},
   "source": [
    "# Model Training"
   ]
  },
  {
   "cell_type": "code",
   "execution_count": null,
   "metadata": {},
   "outputs": [],
   "source": [
    "model = KNeighborsRegressor()\n",
    "\n",
    "param_grid = {\n",
    "    'n_neighbors': [3, 7, 15, 30],\n",
    "    'weights': ['uniform', 'distance'],\n",
    "    'leaf_size': [10, 50, 100],\n",
    "    'p': [1, 2],\n",
    "}\n",
    "\n",
    "grid_search = GridSearchCV(model, param_grid, cv=5, n_jobs=-1, verbose=1, scoring='neg_mean_absolute_error')\n",
    "grid_search.fit(X_train, y_train)\n",
    "print(f\"Best parameters: {grid_search.best_params_}\")"
   ]
  },
  {
   "cell_type": "code",
   "execution_count": null,
   "metadata": {},
   "outputs": [],
   "source": [
    "param_grid = {\n",
    "    'n_neighbors': [30, 40, 50, 60],\n",
    "    'weights': ['uniform', 'distance'],\n",
    "    'leaf_size': [3, 5, 10],\n",
    "    'p': [1, 2],\n",
    "}\n",
    "\n",
    "grid_search = GridSearchCV(model, param_grid, cv=5, n_jobs=-1, verbose=1, scoring='neg_mean_absolute_error')\n",
    "grid_search.fit(X_train, y_train)\n",
    "print(f\"Best parameters: {grid_search.best_params_}\")"
   ]
  },
  {
   "cell_type": "code",
   "execution_count": null,
   "metadata": {},
   "outputs": [],
   "source": [
    "model = KNeighborsRegressor(leaf_size=3, n_neighbors=30, p=1, weights='distance')\n",
    "model.fit(X_train, y_train)\n",
    "dump(model, '../models/knn_10_bands.joblib')"
   ]
  },
  {
   "cell_type": "code",
   "execution_count": null,
   "metadata": {},
   "outputs": [],
   "source": [
    "model_all_indices = KNeighborsRegressor(leaf_size=3, n_neighbors=30, p=1, weights='distance')\n",
    "model_all_indices.fit(X_train_all_indices, y_train)\n",
    "dump(model_all_indices, '../models/knn_all_bands.joblib')"
   ]
  },
  {
   "cell_type": "code",
   "execution_count": null,
   "metadata": {},
   "outputs": [],
   "source": [
    "model_selected_indices = KNeighborsRegressor(leaf_size=3, n_neighbors=30, p=1, weights='distance')\n",
    "model_selected_indices.fit(X_train_selected_indices, y_train)\n",
    "dump(model_selected_indices, '../models/knn_selected_bands.joblib')"
   ]
  }
 ],
 "metadata": {
  "kernelspec": {
   "display_name": "Python 3",
   "language": "python",
   "name": "python3"
  },
  "language_info": {
   "codemirror_mode": {
    "name": "ipython",
    "version": 3
   },
   "file_extension": ".py",
   "mimetype": "text/x-python",
   "name": "python",
   "nbconvert_exporter": "python",
   "pygments_lexer": "ipython3",
   "version": "3.11.3"
  },
  "orig_nbformat": 4
 },
 "nbformat": 4,
 "nbformat_minor": 2
}
