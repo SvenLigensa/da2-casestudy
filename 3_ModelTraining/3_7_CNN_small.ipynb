{
 "cells": [
  {
   "cell_type": "code",
   "execution_count": 1,
   "metadata": {},
   "outputs": [
    {
     "name": "stderr",
     "output_type": "stream",
     "text": [
      "2023-06-20 17:03:01.859642: I tensorflow/tsl/cuda/cudart_stub.cc:28] Could not find cuda drivers on your machine, GPU will not be used.\n",
      "2023-06-20 17:03:02.054169: I tensorflow/tsl/cuda/cudart_stub.cc:28] Could not find cuda drivers on your machine, GPU will not be used.\n",
      "2023-06-20 17:03:02.056967: I tensorflow/core/platform/cpu_feature_guard.cc:182] This TensorFlow binary is optimized to use available CPU instructions in performance-critical operations.\n",
      "To enable the following instructions: AVX2 FMA, in other operations, rebuild TensorFlow with the appropriate compiler flags.\n",
      "2023-06-20 17:03:06.269932: W tensorflow/compiler/tf2tensorrt/utils/py_utils.cc:38] TF-TRT Warning: Could not find TensorRT\n"
     ]
    }
   ],
   "source": [
    "import os\n",
    "import time\n",
    "import numpy as np\n",
    "import pandas as pd\n",
    "import matplotlib.pyplot as plt\n",
    "from pathlib import Path\n",
    "from sklearn.preprocessing import MinMaxScaler\n",
    "import tensorflow as tf\n",
    "from tensorflow import keras\n",
    "tf.random.set_seed(42)\n",
    "from keras.layers import InputLayer, Dense, Flatten, Conv2D, MaxPool2D, Dropout\n",
    "from keras.models import Sequential"
   ]
  },
  {
   "attachments": {},
   "cell_type": "markdown",
   "metadata": {},
   "source": [
    "# Data Preparation"
   ]
  },
  {
   "cell_type": "code",
   "execution_count": 2,
   "metadata": {},
   "outputs": [],
   "source": [
    "indices_train = np.load('../data/indices_train.npy')\n",
    "indices_test = np.load('../data/indices_test.npy')\n",
    "\n",
    "X_full = np.stack(list(map(lambda index: np.load(f'../data/images_train/image_{index:03d}.npy'), range(40))))\n",
    "y = np.stack(list(map(lambda index: np.load(f'../data/masks_train/mask_{index:03d}.npy'), range(40))))\n",
    "# The labels do not change\n",
    "y_train = y[indices_train[:, 0], 0, indices_train[:, 2], indices_train[:, 3]]"
   ]
  },
  {
   "attachments": {},
   "cell_type": "markdown",
   "metadata": {},
   "source": [
    "## Create 5x5 Patches"
   ]
  },
  {
   "cell_type": "code",
   "execution_count": 3,
   "metadata": {},
   "outputs": [
    {
     "name": "stdout",
     "output_type": "stream",
     "text": [
      "(34976, 5, 5, 10)\n"
     ]
    }
   ],
   "source": [
    "KERNEL_RADIUS = 2\n",
    "KERNEL_SIZE = KERNEL_RADIUS*2 + 1\n",
    "\n",
    "expanded_indices_train = np.repeat(indices_train, (KERNEL_SIZE*KERNEL_SIZE), axis=0)\n",
    "\n",
    "offsets = np.array([(i, j) for i in range(-KERNEL_RADIUS, KERNEL_RADIUS+1) for j in range(-KERNEL_RADIUS, KERNEL_RADIUS+1)])\n",
    "\n",
    "# Compute new width and height indices with offsets and ensure they're within valid bounds\n",
    "expanded_indices_train[:, 2] = np.clip(\n",
    "    np.repeat(indices_train[:, 2], (KERNEL_SIZE*KERNEL_SIZE)) + np.tile(offsets[:, 0], len(indices_train)), 0, 1023\n",
    ")\n",
    "expanded_indices_train[:, 3] = np.clip(\n",
    "    np.repeat(indices_train[:, 3], (KERNEL_SIZE*KERNEL_SIZE)) + np.tile(offsets[:, 1], len(indices_train)), 0, 1023\n",
    ")\n",
    "\n",
    "X_train_5x5 = X_full[expanded_indices_train[:, 0], :, expanded_indices_train[:, 2], expanded_indices_train[:, 3]]\n",
    "X_train_5x5 = np.reshape(X_train_5x5, ((X_train_5x5.shape[0] // (KERNEL_SIZE*KERNEL_SIZE)), KERNEL_SIZE, KERNEL_SIZE, -1))\n",
    "\n",
    "# Calculate the mean and standard deviation of the data\n",
    "mean = np.mean(X_train_5x5)\n",
    "std = np.std(X_train_5x5)\n",
    "# Normalize the data\n",
    "X_train_5x5 = (X_train_5x5 - mean) / std\n",
    "\n",
    "print(X_train_5x5.shape)"
   ]
  },
  {
   "attachments": {},
   "cell_type": "markdown",
   "metadata": {},
   "source": [
    "## Create 7x7 Patches"
   ]
  },
  {
   "cell_type": "code",
   "execution_count": 4,
   "metadata": {},
   "outputs": [
    {
     "name": "stdout",
     "output_type": "stream",
     "text": [
      "(34976, 7, 7, 10)\n"
     ]
    }
   ],
   "source": [
    "KERNEL_RADIUS = 3\n",
    "KERNEL_SIZE = KERNEL_RADIUS*2 + 1\n",
    "\n",
    "expanded_indices_train = np.repeat(indices_train, (KERNEL_SIZE*KERNEL_SIZE), axis=0)\n",
    "\n",
    "offsets = np.array([(i, j) for i in range(-KERNEL_RADIUS, KERNEL_RADIUS+1) for j in range(-KERNEL_RADIUS, KERNEL_RADIUS+1)])\n",
    "\n",
    "# Compute new width and height indices with offsets and ensure they're within valid bounds\n",
    "expanded_indices_train[:, 2] = np.clip(\n",
    "    np.repeat(indices_train[:, 2], (KERNEL_SIZE*KERNEL_SIZE)) + np.tile(offsets[:, 0], len(indices_train)), 0, 1023\n",
    ")\n",
    "expanded_indices_train[:, 3] = np.clip(\n",
    "    np.repeat(indices_train[:, 3], (KERNEL_SIZE*KERNEL_SIZE)) + np.tile(offsets[:, 1], len(indices_train)), 0, 1023\n",
    ")\n",
    "\n",
    "X_train_7x7 = X_full[expanded_indices_train[:, 0], :, expanded_indices_train[:, 2], expanded_indices_train[:, 3]]\n",
    "X_train_7x7 = np.reshape(X_train_7x7, ((X_train_7x7.shape[0] // (KERNEL_SIZE*KERNEL_SIZE)), KERNEL_SIZE, KERNEL_SIZE, -1))\n",
    "\n",
    "# Calculate the mean and standard deviation of the data\n",
    "mean = np.mean(X_train_7x7)\n",
    "std = np.std(X_train_7x7)\n",
    "# Normalize the data\n",
    "X_train_7x7 = (X_train_7x7 - mean) / std\n",
    "\n",
    "print(X_train_7x7.shape)"
   ]
  },
  {
   "attachments": {},
   "cell_type": "markdown",
   "metadata": {},
   "source": [
    "## Create 9x9 Patches"
   ]
  },
  {
   "cell_type": "code",
   "execution_count": 5,
   "metadata": {},
   "outputs": [
    {
     "name": "stdout",
     "output_type": "stream",
     "text": [
      "(34976, 9, 9, 10)\n"
     ]
    }
   ],
   "source": [
    "KERNEL_RADIUS = 4\n",
    "KERNEL_SIZE = KERNEL_RADIUS*2 + 1\n",
    "\n",
    "expanded_indices_train = np.repeat(indices_train, (KERNEL_SIZE*KERNEL_SIZE), axis=0)\n",
    "\n",
    "offsets = np.array([(i, j) for i in range(-KERNEL_RADIUS, KERNEL_RADIUS+1) for j in range(-KERNEL_RADIUS, KERNEL_RADIUS+1)])\n",
    "\n",
    "# Compute new width and height indices with offsets and ensure they're within valid bounds\n",
    "expanded_indices_train[:, 2] = np.clip(\n",
    "    np.repeat(indices_train[:, 2], (KERNEL_SIZE*KERNEL_SIZE)) + np.tile(offsets[:, 0], len(indices_train)), 0, 1023\n",
    ")\n",
    "expanded_indices_train[:, 3] = np.clip(\n",
    "    np.repeat(indices_train[:, 3], (KERNEL_SIZE*KERNEL_SIZE)) + np.tile(offsets[:, 1], len(indices_train)), 0, 1023\n",
    ")\n",
    "\n",
    "X_train_9x9 = X_full[expanded_indices_train[:, 0], :, expanded_indices_train[:, 2], expanded_indices_train[:, 3]]\n",
    "X_train_9x9 = np.reshape(X_train_9x9, ((X_train_9x9.shape[0] // (KERNEL_SIZE*KERNEL_SIZE)), KERNEL_SIZE, KERNEL_SIZE, -1))\n",
    "\n",
    "# Calculate the mean and standard deviation of the data\n",
    "mean = np.mean(X_train_9x9)\n",
    "std = np.std(X_train_9x9)\n",
    "# Normalize the data\n",
    "X_train_9x9 = (X_train_9x9 - mean) / std\n",
    "\n",
    "print(X_train_9x9.shape)"
   ]
  },
  {
   "attachments": {},
   "cell_type": "markdown",
   "metadata": {},
   "source": [
    "## Create 11x11 Patches"
   ]
  },
  {
   "cell_type": "code",
   "execution_count": 6,
   "metadata": {},
   "outputs": [
    {
     "name": "stdout",
     "output_type": "stream",
     "text": [
      "(34976, 11, 11, 10)\n"
     ]
    }
   ],
   "source": [
    "KERNEL_RADIUS = 5\n",
    "KERNEL_SIZE = KERNEL_RADIUS*2 + 1\n",
    "\n",
    "expanded_indices_train = np.repeat(indices_train, (KERNEL_SIZE*KERNEL_SIZE), axis=0)\n",
    "\n",
    "offsets = np.array([(i, j) for i in range(-KERNEL_RADIUS, KERNEL_RADIUS+1) for j in range(-KERNEL_RADIUS, KERNEL_RADIUS+1)])\n",
    "\n",
    "# Compute new width and height indices with offsets and ensure they're within valid bounds\n",
    "expanded_indices_train[:, 2] = np.clip(\n",
    "    np.repeat(indices_train[:, 2], (KERNEL_SIZE*KERNEL_SIZE)) + np.tile(offsets[:, 0], len(indices_train)), 0, 1023\n",
    ")\n",
    "expanded_indices_train[:, 3] = np.clip(\n",
    "    np.repeat(indices_train[:, 3], (KERNEL_SIZE*KERNEL_SIZE)) + np.tile(offsets[:, 1], len(indices_train)), 0, 1023\n",
    ")\n",
    "\n",
    "X_train_11x11 = X_full[expanded_indices_train[:, 0], :, expanded_indices_train[:, 2], expanded_indices_train[:, 3]]\n",
    "X_train_11x11 = np.reshape(X_train_11x11, ((X_train_11x11.shape[0] // (KERNEL_SIZE*KERNEL_SIZE)), KERNEL_SIZE, KERNEL_SIZE, -1))\n",
    "\n",
    "# Calculate the mean and standard deviation of the data\n",
    "mean = np.mean(X_train_11x11)\n",
    "std = np.std(X_train_11x11)\n",
    "# Normalize the data\n",
    "X_train_11x11 = (X_train_11x11 - mean) / std\n",
    "\n",
    "print(X_train_11x11.shape)"
   ]
  },
  {
   "attachments": {},
   "cell_type": "markdown",
   "metadata": {},
   "source": [
    "# Model Definition"
   ]
  },
  {
   "attachments": {},
   "cell_type": "markdown",
   "metadata": {},
   "source": [
    "The models get bigger and bigger with larger indices."
   ]
  },
  {
   "cell_type": "code",
   "execution_count": 17,
   "metadata": {},
   "outputs": [],
   "source": [
    "def get_run_logdir(model_id):\n",
    "    return os.path.join(os.curdir, f'cnn_logs/model_{model_id}')\n",
    "\n",
    "earlystopping_cb = tf.keras.callbacks.EarlyStopping(monitor='loss', patience=10)"
   ]
  },
  {
   "cell_type": "code",
   "execution_count": null,
   "metadata": {},
   "outputs": [],
   "source": [
    "%load_ext tensorboard\n",
    "%tensorboard --logdir=./cnn_logs --port=6006"
   ]
  },
  {
   "cell_type": "code",
   "execution_count": 18,
   "metadata": {},
   "outputs": [],
   "source": [
    "model = {}"
   ]
  },
  {
   "attachments": {},
   "cell_type": "markdown",
   "metadata": {},
   "source": [
    "## Model 1: 5x5 Input, 3x3x3 Kernel, 10 Dense"
   ]
  },
  {
   "cell_type": "code",
   "execution_count": 19,
   "metadata": {},
   "outputs": [
    {
     "name": "stdout",
     "output_type": "stream",
     "text": [
      "Model: \"sequential_8\"\n",
      "_________________________________________________________________\n",
      " Layer (type)                Output Shape              Param #   \n",
      "=================================================================\n",
      " conv2d_8 (Conv2D)           (None, 3, 3, 3)           273       \n",
      "                                                                 \n",
      " flatten_8 (Flatten)         (None, 27)                0         \n",
      "                                                                 \n",
      " dense_21 (Dense)            (None, 10)                280       \n",
      "                                                                 \n",
      " dense_22 (Dense)            (None, 1)                 11        \n",
      "                                                                 \n",
      "=================================================================\n",
      "Total params: 564\n",
      "Trainable params: 564\n",
      "Non-trainable params: 0\n",
      "_________________________________________________________________\n"
     ]
    },
    {
     "name": "stderr",
     "output_type": "stream",
     "text": [
      "WARNING:absl:Found untraced functions such as _jit_compiled_convolution_op, _update_step_xla while saving (showing 2 of 2). These functions will not be directly callable after loading.\n"
     ]
    },
    {
     "name": "stdout",
     "output_type": "stream",
     "text": [
      "INFO:tensorflow:Assets written to: cnn_models/model_1/assets\n"
     ]
    },
    {
     "name": "stderr",
     "output_type": "stream",
     "text": [
      "INFO:tensorflow:Assets written to: cnn_models/model_1/assets\n"
     ]
    }
   ],
   "source": [
    "i = 1\n",
    "model[i] = Sequential([\n",
    "    InputLayer(input_shape=[5, 5, 10]),\n",
    "    Conv2D(filters=3, kernel_size=3, strides=1, activation='relu'),\n",
    "    Flatten(),\n",
    "    Dense(10, activation='relu'),\n",
    "    Dense(1, activation='relu')\n",
    "])\n",
    "model[i].summary()\n",
    "model[i].compile(loss=\"mean_absolute_error\", optimizer=\"adam\", metrics=[\"mean_absolute_error\"])\n",
    "history = model[i].fit(\n",
    "    X_train_5x5, \n",
    "    y_train, \n",
    "    epochs=1000, \n",
    "    batch_size=256, \n",
    "    validation_split=0.2,\n",
    "    verbose=0,\n",
    "    callbacks=[keras.callbacks.TensorBoard(get_run_logdir(i)), earlystopping_cb])\n",
    "model[i].save(f'cnn_models/model_{i}')"
   ]
  },
  {
   "attachments": {},
   "cell_type": "markdown",
   "metadata": {},
   "source": [
    "## Model 2: 5x5 Input, 3x3x8 Kernel, 10 Dense"
   ]
  },
  {
   "cell_type": "code",
   "execution_count": 20,
   "metadata": {},
   "outputs": [
    {
     "name": "stdout",
     "output_type": "stream",
     "text": [
      "Model: \"sequential_9\"\n",
      "_________________________________________________________________\n",
      " Layer (type)                Output Shape              Param #   \n"
     ]
    },
    {
     "name": "stdout",
     "output_type": "stream",
     "text": [
      "=================================================================\n",
      " conv2d_9 (Conv2D)           (None, 3, 3, 8)           728       \n",
      "                                                                 \n",
      " flatten_9 (Flatten)         (None, 72)                0         \n",
      "                                                                 \n",
      " dense_23 (Dense)            (None, 10)                730       \n",
      "                                                                 \n",
      " dense_24 (Dense)            (None, 1)                 11        \n",
      "                                                                 \n",
      "=================================================================\n",
      "Total params: 1,469\n",
      "Trainable params: 1,469\n",
      "Non-trainable params: 0\n",
      "_________________________________________________________________\n"
     ]
    },
    {
     "name": "stderr",
     "output_type": "stream",
     "text": [
      "WARNING:absl:Found untraced functions such as _jit_compiled_convolution_op, _update_step_xla while saving (showing 2 of 2). These functions will not be directly callable after loading.\n"
     ]
    },
    {
     "name": "stdout",
     "output_type": "stream",
     "text": [
      "INFO:tensorflow:Assets written to: cnn_models/model_2/assets\n"
     ]
    },
    {
     "name": "stderr",
     "output_type": "stream",
     "text": [
      "INFO:tensorflow:Assets written to: cnn_models/model_2/assets\n"
     ]
    }
   ],
   "source": [
    "i = 2\n",
    "model[i] = Sequential([\n",
    "    InputLayer(input_shape=[5, 5, 10]),\n",
    "    Conv2D(filters=8, kernel_size=3, strides=1, activation='relu'),\n",
    "    Flatten(),\n",
    "    Dense(10, activation='relu'),\n",
    "    Dense(1, activation='relu')\n",
    "])\n",
    "model[i].summary()\n",
    "model[i].compile(loss=\"mean_absolute_error\", optimizer=\"adam\", metrics=[\"mean_absolute_error\"])\n",
    "history = model[i].fit(\n",
    "    X_train_5x5, \n",
    "    y_train, \n",
    "    epochs=1000, \n",
    "    batch_size=256, \n",
    "    validation_split=0.2,\n",
    "    verbose=0,\n",
    "    callbacks=[keras.callbacks.TensorBoard(get_run_logdir(i)), earlystopping_cb])\n",
    "model[i].save(f'cnn_models/model_{i}')"
   ]
  },
  {
   "attachments": {},
   "cell_type": "markdown",
   "metadata": {},
   "source": [
    "## Model 3: 5x5 Input, 3x3x12 Kernel, 10 Dense"
   ]
  },
  {
   "cell_type": "code",
   "execution_count": 21,
   "metadata": {},
   "outputs": [
    {
     "name": "stdout",
     "output_type": "stream",
     "text": [
      "Model: \"sequential_10\"\n",
      "_________________________________________________________________\n",
      " Layer (type)                Output Shape              Param #   \n",
      "=================================================================\n",
      " conv2d_10 (Conv2D)          (None, 3, 3, 12)          1092      \n",
      "                                                                 \n",
      " flatten_10 (Flatten)        (None, 108)               0         \n",
      "                                                                 \n",
      " dense_25 (Dense)            (None, 10)                1090      \n",
      "                                                                 \n",
      " dense_26 (Dense)            (None, 1)                 11        \n",
      "                                                                 \n",
      "=================================================================\n",
      "Total params: 2,193\n",
      "Trainable params: 2,193\n",
      "Non-trainable params: 0\n",
      "_________________________________________________________________\n"
     ]
    },
    {
     "name": "stderr",
     "output_type": "stream",
     "text": [
      "WARNING:absl:Found untraced functions such as _jit_compiled_convolution_op, _update_step_xla while saving (showing 2 of 2). These functions will not be directly callable after loading.\n"
     ]
    },
    {
     "name": "stdout",
     "output_type": "stream",
     "text": [
      "INFO:tensorflow:Assets written to: cnn_models/model_3/assets\n"
     ]
    },
    {
     "name": "stderr",
     "output_type": "stream",
     "text": [
      "INFO:tensorflow:Assets written to: cnn_models/model_3/assets\n"
     ]
    }
   ],
   "source": [
    "i = 3\n",
    "model[i] = Sequential([\n",
    "    InputLayer(input_shape=[5, 5, 10]),\n",
    "    Conv2D(filters=12, kernel_size=3, strides=1, activation='relu'),\n",
    "    Flatten(),\n",
    "    Dense(10, activation='relu'),\n",
    "    Dense(1, activation='relu')\n",
    "])\n",
    "model[i].summary()\n",
    "model[i].compile(loss=\"mean_absolute_error\", optimizer=\"adam\", metrics=[\"mean_absolute_error\"])\n",
    "history = model[i].fit(\n",
    "    X_train_5x5, \n",
    "    y_train, \n",
    "    epochs=1000, \n",
    "    batch_size=256, \n",
    "    validation_split=0.2,\n",
    "    verbose=0,\n",
    "    callbacks=[keras.callbacks.TensorBoard(get_run_logdir(i)), earlystopping_cb])\n",
    "model[i].save(f'cnn_models/model_{i}')"
   ]
  },
  {
   "attachments": {},
   "cell_type": "markdown",
   "metadata": {},
   "source": [
    "## Model 4: 5x5 Input, 3x3x8 Kernel, 50 Dense, 10 Dense"
   ]
  },
  {
   "cell_type": "code",
   "execution_count": 22,
   "metadata": {},
   "outputs": [
    {
     "name": "stdout",
     "output_type": "stream",
     "text": [
      "Model: \"sequential_11\"\n",
      "_________________________________________________________________\n",
      " Layer (type)                Output Shape              Param #   \n",
      "=================================================================\n",
      " conv2d_11 (Conv2D)          (None, 3, 3, 8)           728       \n",
      "                                                                 \n",
      " flatten_11 (Flatten)        (None, 72)                0         \n",
      "                                                                 \n",
      " dense_27 (Dense)            (None, 50)                3650      \n",
      "                                                                 \n",
      " dense_28 (Dense)            (None, 10)                510       \n",
      "                                                                 \n",
      " dense_29 (Dense)            (None, 1)                 11        \n",
      "                                                                 \n",
      "=================================================================\n",
      "Total params: 4,899\n",
      "Trainable params: 4,899\n",
      "Non-trainable params: 0\n",
      "_________________________________________________________________\n"
     ]
    },
    {
     "name": "stderr",
     "output_type": "stream",
     "text": [
      "WARNING:absl:Found untraced functions such as _jit_compiled_convolution_op, _update_step_xla while saving (showing 2 of 2). These functions will not be directly callable after loading.\n"
     ]
    },
    {
     "name": "stdout",
     "output_type": "stream",
     "text": [
      "INFO:tensorflow:Assets written to: cnn_models/model_4/assets\n"
     ]
    },
    {
     "name": "stderr",
     "output_type": "stream",
     "text": [
      "INFO:tensorflow:Assets written to: cnn_models/model_4/assets\n"
     ]
    }
   ],
   "source": [
    "i = 4\n",
    "model[i] = Sequential([\n",
    "    InputLayer(input_shape=[5, 5, 10]),\n",
    "    Conv2D(filters=8, kernel_size=3, strides=1, activation='relu'),\n",
    "    Flatten(),\n",
    "    Dense(50, activation='relu'),\n",
    "    Dense(10, activation='relu'),\n",
    "    Dense(1, activation='relu')\n",
    "])\n",
    "model[i].summary()\n",
    "model[i].compile(loss=\"mean_absolute_error\", optimizer=\"adam\", metrics=[\"mean_absolute_error\"])\n",
    "history = model[i].fit(\n",
    "    X_train_5x5, \n",
    "    y_train, \n",
    "    epochs=1000, \n",
    "    batch_size=256, \n",
    "    validation_split=0.2,\n",
    "    verbose=0,\n",
    "    callbacks=[keras.callbacks.TensorBoard(get_run_logdir(i)), earlystopping_cb])\n",
    "model[i].save(f'cnn_models/model_{i}')"
   ]
  },
  {
   "attachments": {},
   "cell_type": "markdown",
   "metadata": {},
   "source": [
    "## Model 5: 5x5 Input, 3x3x8 Kernel, 0.2 Dropout, 50 Dense, 10 Dense"
   ]
  },
  {
   "cell_type": "code",
   "execution_count": 23,
   "metadata": {},
   "outputs": [
    {
     "name": "stdout",
     "output_type": "stream",
     "text": [
      "Model: \"sequential_12\"\n",
      "_________________________________________________________________\n",
      " Layer (type)                Output Shape              Param #   \n",
      "=================================================================\n",
      " conv2d_12 (Conv2D)          (None, 3, 3, 8)           728       \n",
      "                                                                 \n",
      " flatten_12 (Flatten)        (None, 72)                0         \n",
      "                                                                 \n",
      " dropout_3 (Dropout)         (None, 72)                0         \n",
      "                                                                 \n",
      " dense_30 (Dense)            (None, 50)                3650      \n",
      "                                                                 \n",
      " dense_31 (Dense)            (None, 10)                510       \n",
      "                                                                 \n",
      " dense_32 (Dense)            (None, 1)                 11        \n",
      "                                                                 \n",
      "=================================================================\n",
      "Total params: 4,899\n",
      "Trainable params: 4,899\n",
      "Non-trainable params: 0\n",
      "_________________________________________________________________\n"
     ]
    },
    {
     "name": "stderr",
     "output_type": "stream",
     "text": [
      "2023-06-20 17:30:53.098228: I tensorflow/core/common_runtime/executor.cc:1197] [/device:CPU:0] (DEBUG INFO) Executor start aborting (this does not indicate an error and you can ignore this message): INVALID_ARGUMENT: You must feed a value for placeholder tensor 'inputs' with dtype float and shape [?,72]\n",
      "\t [[{{node inputs}}]]\n",
      "2023-06-20 17:30:53.231527: I tensorflow/core/common_runtime/executor.cc:1197] [/device:CPU:0] (DEBUG INFO) Executor start aborting (this does not indicate an error and you can ignore this message): INVALID_ARGUMENT: You must feed a value for placeholder tensor 'inputs' with dtype float and shape [?,72]\n",
      "\t [[{{node inputs}}]]\n",
      "WARNING:absl:Found untraced functions such as _jit_compiled_convolution_op, _update_step_xla while saving (showing 2 of 2). These functions will not be directly callable after loading.\n"
     ]
    },
    {
     "name": "stdout",
     "output_type": "stream",
     "text": [
      "INFO:tensorflow:Assets written to: cnn_models/model_5/assets\n"
     ]
    },
    {
     "name": "stderr",
     "output_type": "stream",
     "text": [
      "INFO:tensorflow:Assets written to: cnn_models/model_5/assets\n"
     ]
    }
   ],
   "source": [
    "i = 5\n",
    "model[i] = Sequential([\n",
    "    InputLayer(input_shape=[5, 5, 10]),\n",
    "    Conv2D(filters=8, kernel_size=3, strides=1, activation='relu'),\n",
    "    Flatten(),\n",
    "    Dropout(0.2),\n",
    "    Dense(50, activation='relu'),\n",
    "    Dense(10, activation='relu'),\n",
    "    Dense(1, activation='relu')\n",
    "])\n",
    "model[i].summary()\n",
    "model[i].compile(loss=\"mean_absolute_error\", optimizer=\"adam\", metrics=[\"mean_absolute_error\"])\n",
    "history = model[i].fit(\n",
    "    X_train_5x5, \n",
    "    y_train, \n",
    "    epochs=1000, \n",
    "    batch_size=256, \n",
    "    validation_split=0.2,\n",
    "    verbose=0,\n",
    "    callbacks=[keras.callbacks.TensorBoard(get_run_logdir(i)), earlystopping_cb])\n",
    "model[i].save(f'cnn_models/model_{i}')"
   ]
  },
  {
   "attachments": {},
   "cell_type": "markdown",
   "metadata": {},
   "source": [
    "## Model 6: 5x5 Input, 3x3x8 Kernel, 0.1 Dropout, 50 Dense, 10 Dense"
   ]
  },
  {
   "cell_type": "code",
   "execution_count": 24,
   "metadata": {},
   "outputs": [
    {
     "name": "stdout",
     "output_type": "stream",
     "text": [
      "Model: \"sequential_13\"\n",
      "_________________________________________________________________\n",
      " Layer (type)                Output Shape              Param #   \n",
      "=================================================================\n",
      " conv2d_13 (Conv2D)          (None, 3, 3, 8)           728       \n",
      "                                                                 \n",
      " flatten_13 (Flatten)        (None, 72)                0         \n",
      "                                                                 \n",
      " dropout_4 (Dropout)         (None, 72)                0         \n",
      "                                                                 \n",
      " dense_33 (Dense)            (None, 50)                3650      \n",
      "                                                                 \n",
      " dense_34 (Dense)            (None, 10)                510       \n",
      "                                                                 \n",
      " dense_35 (Dense)            (None, 1)                 11        \n",
      "                                                                 \n",
      "=================================================================\n",
      "Total params: 4,899\n",
      "Trainable params: 4,899\n",
      "Non-trainable params: 0\n",
      "_________________________________________________________________\n"
     ]
    },
    {
     "name": "stderr",
     "output_type": "stream",
     "text": [
      "2023-06-20 17:33:21.697621: I tensorflow/core/common_runtime/executor.cc:1197] [/device:CPU:0] (DEBUG INFO) Executor start aborting (this does not indicate an error and you can ignore this message): INVALID_ARGUMENT: You must feed a value for placeholder tensor 'inputs' with dtype float and shape [?,72]\n",
      "\t [[{{node inputs}}]]\n",
      "2023-06-20 17:33:21.843350: I tensorflow/core/common_runtime/executor.cc:1197] [/device:CPU:0] (DEBUG INFO) Executor start aborting (this does not indicate an error and you can ignore this message): INVALID_ARGUMENT: You must feed a value for placeholder tensor 'inputs' with dtype float and shape [?,72]\n",
      "\t [[{{node inputs}}]]\n",
      "WARNING:absl:Found untraced functions such as _jit_compiled_convolution_op, _update_step_xla while saving (showing 2 of 2). These functions will not be directly callable after loading.\n"
     ]
    },
    {
     "name": "stdout",
     "output_type": "stream",
     "text": [
      "INFO:tensorflow:Assets written to: cnn_models/model_6/assets\n"
     ]
    },
    {
     "name": "stderr",
     "output_type": "stream",
     "text": [
      "INFO:tensorflow:Assets written to: cnn_models/model_6/assets\n"
     ]
    }
   ],
   "source": [
    "i = 6\n",
    "model[i] = Sequential([\n",
    "    InputLayer(input_shape=[5, 5, 10]),\n",
    "    Conv2D(filters=8, kernel_size=3, strides=1, activation='relu'),\n",
    "    Flatten(),\n",
    "    Dropout(0.1),\n",
    "    Dense(50, activation='relu'),\n",
    "    Dense(10, activation='relu'),\n",
    "    Dense(1, activation='relu')\n",
    "])\n",
    "model[i].summary()\n",
    "model[i].compile(loss=\"mean_absolute_error\", optimizer=\"adam\", metrics=[\"mean_absolute_error\"])\n",
    "history = model[i].fit(\n",
    "    X_train_5x5, \n",
    "    y_train, \n",
    "    epochs=1000, \n",
    "    batch_size=256, \n",
    "    validation_split=0.2,\n",
    "    verbose=0,\n",
    "    callbacks=[keras.callbacks.TensorBoard(get_run_logdir(i)), earlystopping_cb])\n",
    "model[i].save(f'cnn_models/model_{i}')"
   ]
  },
  {
   "attachments": {},
   "cell_type": "markdown",
   "metadata": {},
   "source": [
    "## Model 7: 7x7 Input, 3x3x3 Kernel, 10 Dense"
   ]
  },
  {
   "cell_type": "code",
   "execution_count": 25,
   "metadata": {},
   "outputs": [
    {
     "name": "stdout",
     "output_type": "stream",
     "text": [
      "Model: \"sequential_14\"\n",
      "_________________________________________________________________\n",
      " Layer (type)                Output Shape              Param #   \n",
      "=================================================================\n",
      " conv2d_14 (Conv2D)          (None, 5, 5, 3)           273       \n",
      "                                                                 \n",
      " flatten_14 (Flatten)        (None, 75)                0         \n",
      "                                                                 \n",
      " dense_36 (Dense)            (None, 10)                760       \n",
      "                                                                 \n",
      " dense_37 (Dense)            (None, 1)                 11        \n",
      "                                                                 \n",
      "=================================================================\n",
      "Total params: 1,044\n",
      "Trainable params: 1,044\n",
      "Non-trainable params: 0\n",
      "_________________________________________________________________\n"
     ]
    },
    {
     "name": "stderr",
     "output_type": "stream",
     "text": [
      "2023-06-20 17:35:44.302708: W tensorflow/tsl/framework/cpu_allocator_impl.cc:83] Allocation of 54840800 exceeds 10% of free system memory.\n",
      "WARNING:absl:Found untraced functions such as _jit_compiled_convolution_op, _update_step_xla while saving (showing 2 of 2). These functions will not be directly callable after loading.\n"
     ]
    },
    {
     "name": "stdout",
     "output_type": "stream",
     "text": [
      "INFO:tensorflow:Assets written to: cnn_models/model_7/assets\n"
     ]
    },
    {
     "name": "stderr",
     "output_type": "stream",
     "text": [
      "INFO:tensorflow:Assets written to: cnn_models/model_7/assets\n"
     ]
    }
   ],
   "source": [
    "i = 7\n",
    "model[i] = Sequential([\n",
    "    InputLayer(input_shape=[7, 7, 10]),\n",
    "    Conv2D(filters=3, kernel_size=3, strides=1, activation='relu'),\n",
    "    Flatten(),\n",
    "    Dense(10, activation='relu'),\n",
    "    Dense(1, activation='relu')\n",
    "])\n",
    "model[i].summary()\n",
    "model[i].compile(loss=\"mean_absolute_error\", optimizer=\"adam\", metrics=[\"mean_absolute_error\"])\n",
    "history = model[i].fit(\n",
    "    X_train_7x7, \n",
    "    y_train, \n",
    "    epochs=1000, \n",
    "    batch_size=256, \n",
    "    validation_split=0.2,\n",
    "    verbose=0,\n",
    "    callbacks=[keras.callbacks.TensorBoard(get_run_logdir(i)), earlystopping_cb])\n",
    "model[i].save(f'cnn_models/model_{i}')"
   ]
  },
  {
   "attachments": {},
   "cell_type": "markdown",
   "metadata": {},
   "source": [
    "## Model 8: 7x7 Input, 3x3x8 Kernel, 10 Dense"
   ]
  },
  {
   "cell_type": "code",
   "execution_count": 26,
   "metadata": {},
   "outputs": [
    {
     "name": "stdout",
     "output_type": "stream",
     "text": [
      "Model: \"sequential_15\"\n",
      "_________________________________________________________________\n",
      " Layer (type)                Output Shape              Param #   \n",
      "=================================================================\n",
      " conv2d_15 (Conv2D)          (None, 5, 5, 8)           728       \n",
      "                                                                 \n",
      " flatten_15 (Flatten)        (None, 200)               0         \n",
      "                                                                 \n",
      " dense_38 (Dense)            (None, 10)                2010      \n",
      "                                                                 \n",
      " dense_39 (Dense)            (None, 1)                 11        \n",
      "                                                                 \n",
      "=================================================================\n",
      "Total params: 2,749\n",
      "Trainable params: 2,749\n",
      "Non-trainable params: 0\n",
      "_________________________________________________________________\n"
     ]
    },
    {
     "name": "stderr",
     "output_type": "stream",
     "text": [
      "2023-06-20 17:37:49.910016: W tensorflow/tsl/framework/cpu_allocator_impl.cc:83] Allocation of 54840800 exceeds 10% of free system memory.\n",
      "WARNING:absl:Found untraced functions such as _jit_compiled_convolution_op, _update_step_xla while saving (showing 2 of 2). These functions will not be directly callable after loading.\n"
     ]
    },
    {
     "name": "stdout",
     "output_type": "stream",
     "text": [
      "INFO:tensorflow:Assets written to: cnn_models/model_8/assets\n"
     ]
    },
    {
     "name": "stderr",
     "output_type": "stream",
     "text": [
      "INFO:tensorflow:Assets written to: cnn_models/model_8/assets\n"
     ]
    }
   ],
   "source": [
    "i = 8\n",
    "model[i] = Sequential([\n",
    "    InputLayer(input_shape=[7, 7, 10]),\n",
    "    Conv2D(filters=8, kernel_size=3, strides=1, activation='relu'),\n",
    "    Flatten(),\n",
    "    Dense(10, activation='relu'),\n",
    "    Dense(1, activation='relu')\n",
    "])\n",
    "model[i].summary()\n",
    "model[i].compile(loss=\"mean_absolute_error\", optimizer=\"adam\", metrics=[\"mean_absolute_error\"])\n",
    "history = model[i].fit(\n",
    "    X_train_7x7, \n",
    "    y_train, \n",
    "    epochs=1000, \n",
    "    batch_size=256, \n",
    "    validation_split=0.2,\n",
    "    verbose=0,\n",
    "    callbacks=[keras.callbacks.TensorBoard(get_run_logdir(i)), earlystopping_cb])\n",
    "model[i].save(f'cnn_models/model_{i}')"
   ]
  },
  {
   "attachments": {},
   "cell_type": "markdown",
   "metadata": {},
   "source": [
    "## Model 9: 7x7 Input, 3x3x8 Kernel, 50 Dense, 10 Dense"
   ]
  },
  {
   "cell_type": "code",
   "execution_count": 27,
   "metadata": {},
   "outputs": [
    {
     "name": "stdout",
     "output_type": "stream",
     "text": [
      "Model: \"sequential_16\"\n",
      "_________________________________________________________________\n",
      " Layer (type)                Output Shape              Param #   \n",
      "=================================================================\n",
      " conv2d_16 (Conv2D)          (None, 5, 5, 8)           728       \n",
      "                                                                 \n",
      " flatten_16 (Flatten)        (None, 200)               0         \n",
      "                                                                 \n",
      " dense_40 (Dense)            (None, 50)                10050     \n",
      "                                                                 \n",
      " dense_41 (Dense)            (None, 10)                510       \n",
      "                                                                 \n",
      " dense_42 (Dense)            (None, 1)                 11        \n",
      "                                                                 \n",
      "=================================================================\n",
      "Total params: 11,299\n",
      "Trainable params: 11,299\n",
      "Non-trainable params: 0\n",
      "_________________________________________________________________\n"
     ]
    },
    {
     "name": "stderr",
     "output_type": "stream",
     "text": [
      "2023-06-20 17:40:47.002086: W tensorflow/tsl/framework/cpu_allocator_impl.cc:83] Allocation of 54840800 exceeds 10% of free system memory.\n",
      "WARNING:absl:Found untraced functions such as _jit_compiled_convolution_op, _update_step_xla while saving (showing 2 of 2). These functions will not be directly callable after loading.\n"
     ]
    },
    {
     "name": "stdout",
     "output_type": "stream",
     "text": [
      "INFO:tensorflow:Assets written to: cnn_models/model_9/assets\n"
     ]
    },
    {
     "name": "stderr",
     "output_type": "stream",
     "text": [
      "INFO:tensorflow:Assets written to: cnn_models/model_9/assets\n"
     ]
    }
   ],
   "source": [
    "i = 9\n",
    "model[i] = Sequential([\n",
    "    InputLayer(input_shape=[7, 7, 10]),\n",
    "    Conv2D(filters=8, kernel_size=3, strides=1, activation='relu'),\n",
    "    Flatten(),\n",
    "    Dense(50, activation='relu'),\n",
    "    Dense(10, activation='relu'),\n",
    "    Dense(1, activation='relu')\n",
    "])\n",
    "model[i].summary()\n",
    "model[i].compile(loss=\"mean_absolute_error\", optimizer=\"adam\", metrics=[\"mean_absolute_error\"])\n",
    "history = model[i].fit(\n",
    "    X_train_7x7, \n",
    "    y_train, \n",
    "    epochs=1000, \n",
    "    batch_size=256, \n",
    "    validation_split=0.2,\n",
    "    verbose=0,\n",
    "    callbacks=[keras.callbacks.TensorBoard(get_run_logdir(i)), earlystopping_cb])\n",
    "model[i].save(f'cnn_models/model_{i}')"
   ]
  },
  {
   "attachments": {},
   "cell_type": "markdown",
   "metadata": {},
   "source": [
    "## Model 10: 7x7 Input, 3x3x8 Kernel, 0.2 Dropout, 50 Dense, 10 Dense"
   ]
  },
  {
   "cell_type": "code",
   "execution_count": 28,
   "metadata": {},
   "outputs": [
    {
     "name": "stdout",
     "output_type": "stream",
     "text": [
      "Model: \"sequential_17\"\n",
      "_________________________________________________________________\n",
      " Layer (type)                Output Shape              Param #   \n",
      "=================================================================\n",
      " conv2d_17 (Conv2D)          (None, 5, 5, 8)           728       \n",
      "                                                                 \n",
      " flatten_17 (Flatten)        (None, 200)               0         \n",
      "                                                                 \n",
      " dropout_5 (Dropout)         (None, 200)               0         \n",
      "                                                                 \n",
      " dense_43 (Dense)            (None, 50)                10050     \n",
      "                                                                 \n",
      " dense_44 (Dense)            (None, 10)                510       \n",
      "                                                                 \n",
      " dense_45 (Dense)            (None, 1)                 11        \n",
      "                                                                 \n",
      "=================================================================\n",
      "Total params: 11,299\n",
      "Trainable params: 11,299\n",
      "Non-trainable params: 0\n",
      "_________________________________________________________________\n"
     ]
    },
    {
     "name": "stderr",
     "output_type": "stream",
     "text": [
      "2023-06-20 17:42:46.654759: W tensorflow/tsl/framework/cpu_allocator_impl.cc:83] Allocation of 54840800 exceeds 10% of free system memory.\n",
      "2023-06-20 17:45:21.062725: I tensorflow/core/common_runtime/executor.cc:1197] [/device:CPU:0] (DEBUG INFO) Executor start aborting (this does not indicate an error and you can ignore this message): INVALID_ARGUMENT: You must feed a value for placeholder tensor 'inputs' with dtype float and shape [?,200]\n",
      "\t [[{{node inputs}}]]\n",
      "2023-06-20 17:45:21.187366: I tensorflow/core/common_runtime/executor.cc:1197] [/device:CPU:0] (DEBUG INFO) Executor start aborting (this does not indicate an error and you can ignore this message): INVALID_ARGUMENT: You must feed a value for placeholder tensor 'inputs' with dtype float and shape [?,200]\n",
      "\t [[{{node inputs}}]]\n",
      "WARNING:absl:Found untraced functions such as _jit_compiled_convolution_op, _update_step_xla while saving (showing 2 of 2). These functions will not be directly callable after loading.\n"
     ]
    },
    {
     "name": "stdout",
     "output_type": "stream",
     "text": [
      "INFO:tensorflow:Assets written to: cnn_models/model_10/assets\n"
     ]
    },
    {
     "name": "stderr",
     "output_type": "stream",
     "text": [
      "INFO:tensorflow:Assets written to: cnn_models/model_10/assets\n"
     ]
    }
   ],
   "source": [
    "i = 10\n",
    "model[i] = Sequential([\n",
    "    InputLayer(input_shape=[7, 7, 10]),\n",
    "    Conv2D(filters=8, kernel_size=3, strides=1, activation='relu'),\n",
    "    Flatten(),\n",
    "    Dropout(0.2),\n",
    "    Dense(50, activation='relu'),\n",
    "    Dense(10, activation='relu'),\n",
    "    Dense(1, activation='relu')\n",
    "])\n",
    "model[i].summary()\n",
    "model[i].compile(loss=\"mean_absolute_error\", optimizer=\"adam\", metrics=[\"mean_absolute_error\"])\n",
    "history = model[i].fit(\n",
    "    X_train_7x7, \n",
    "    y_train, \n",
    "    epochs=1000, \n",
    "    batch_size=256, \n",
    "    validation_split=0.2,\n",
    "    verbose=0,\n",
    "    callbacks=[keras.callbacks.TensorBoard(get_run_logdir(i)), earlystopping_cb])\n",
    "model[i].save(f'cnn_models/model_{i}')"
   ]
  },
  {
   "attachments": {},
   "cell_type": "markdown",
   "metadata": {},
   "source": [
    "## Model 11: 7x7 Input, 3x3x8 Kernel, 0.1 Dropout, 50 Dense, 0.1 Dropout, 10 Dense"
   ]
  },
  {
   "cell_type": "code",
   "execution_count": 29,
   "metadata": {},
   "outputs": [
    {
     "name": "stdout",
     "output_type": "stream",
     "text": [
      "Model: \"sequential_18\"\n",
      "_________________________________________________________________\n",
      " Layer (type)                Output Shape              Param #   \n",
      "=================================================================\n",
      " conv2d_18 (Conv2D)          (None, 5, 5, 8)           728       \n",
      "                                                                 \n",
      " flatten_18 (Flatten)        (None, 200)               0         \n",
      "                                                                 \n",
      " dropout_6 (Dropout)         (None, 200)               0         \n",
      "                                                                 \n",
      " dense_46 (Dense)            (None, 50)                10050     \n",
      "                                                                 \n",
      " dropout_7 (Dropout)         (None, 50)                0         \n",
      "                                                                 \n",
      " dense_47 (Dense)            (None, 10)                510       \n",
      "                                                                 \n",
      " dense_48 (Dense)            (None, 1)                 11        \n",
      "                                                                 \n",
      "=================================================================\n",
      "Total params: 11,299\n",
      "Trainable params: 11,299\n",
      "Non-trainable params: 0\n",
      "_________________________________________________________________\n"
     ]
    },
    {
     "name": "stderr",
     "output_type": "stream",
     "text": [
      "2023-06-20 17:45:21.681548: W tensorflow/tsl/framework/cpu_allocator_impl.cc:83] Allocation of 54840800 exceeds 10% of free system memory.\n",
      "2023-06-20 17:46:12.419504: I tensorflow/core/common_runtime/executor.cc:1197] [/device:CPU:0] (DEBUG INFO) Executor start aborting (this does not indicate an error and you can ignore this message): INVALID_ARGUMENT: You must feed a value for placeholder tensor 'inputs' with dtype float and shape [?,200]\n",
      "\t [[{{node inputs}}]]\n",
      "2023-06-20 17:46:12.431436: I tensorflow/core/common_runtime/executor.cc:1197] [/device:CPU:0] (DEBUG INFO) Executor start aborting (this does not indicate an error and you can ignore this message): INVALID_ARGUMENT: You must feed a value for placeholder tensor 'inputs' with dtype float and shape [?,50]\n",
      "\t [[{{node inputs}}]]\n",
      "2023-06-20 17:46:12.559290: I tensorflow/core/common_runtime/executor.cc:1197] [/device:CPU:0] (DEBUG INFO) Executor start aborting (this does not indicate an error and you can ignore this message): INVALID_ARGUMENT: You must feed a value for placeholder tensor 'inputs' with dtype float and shape [?,200]\n",
      "\t [[{{node inputs}}]]\n",
      "2023-06-20 17:46:12.582492: I tensorflow/core/common_runtime/executor.cc:1197] [/device:CPU:0] (DEBUG INFO) Executor start aborting (this does not indicate an error and you can ignore this message): INVALID_ARGUMENT: You must feed a value for placeholder tensor 'inputs' with dtype float and shape [?,50]\n",
      "\t [[{{node inputs}}]]\n",
      "WARNING:absl:Found untraced functions such as _jit_compiled_convolution_op, _update_step_xla while saving (showing 2 of 2). These functions will not be directly callable after loading.\n"
     ]
    },
    {
     "name": "stdout",
     "output_type": "stream",
     "text": [
      "INFO:tensorflow:Assets written to: cnn_models/model_11/assets\n"
     ]
    },
    {
     "name": "stderr",
     "output_type": "stream",
     "text": [
      "INFO:tensorflow:Assets written to: cnn_models/model_11/assets\n"
     ]
    }
   ],
   "source": [
    "i = 11\n",
    "model[i] = Sequential([\n",
    "    InputLayer(input_shape=[7, 7, 10]),\n",
    "    Conv2D(filters=8, kernel_size=3, strides=1, activation='relu'),\n",
    "    Flatten(),\n",
    "    Dropout(0.1),\n",
    "    Dense(50, activation='relu'),\n",
    "    Dropout(0.1),\n",
    "    Dense(10, activation='relu'),\n",
    "    Dense(1, activation='relu')\n",
    "])\n",
    "model[i].summary()\n",
    "model[i].compile(loss=\"mean_absolute_error\", optimizer=\"adam\", metrics=[\"mean_absolute_error\"])\n",
    "history = model[i].fit(\n",
    "    X_train_7x7, \n",
    "    y_train, \n",
    "    epochs=1000, \n",
    "    batch_size=256, \n",
    "    validation_split=0.2,\n",
    "    verbose=0,\n",
    "    callbacks=[keras.callbacks.TensorBoard(get_run_logdir(i)), earlystopping_cb])\n",
    "model[i].save(f'cnn_models/model_{i}')"
   ]
  },
  {
   "attachments": {},
   "cell_type": "markdown",
   "metadata": {},
   "source": [
    "## Model 12: 7x7 Input, 3x3x12 Kernel, 0.1 Dropout, 100 Dense, 0.1 Dropout, 50 Dense, 10 Dense"
   ]
  },
  {
   "cell_type": "code",
   "execution_count": 30,
   "metadata": {},
   "outputs": [
    {
     "name": "stdout",
     "output_type": "stream",
     "text": [
      "Model: \"sequential_19\"\n",
      "_________________________________________________________________\n",
      " Layer (type)                Output Shape              Param #   \n",
      "=================================================================\n",
      " conv2d_19 (Conv2D)          (None, 5, 5, 12)          1092      \n",
      "                                                                 \n",
      " flatten_19 (Flatten)        (None, 300)               0         \n",
      "                                                                 \n",
      " dropout_8 (Dropout)         (None, 300)               0         \n",
      "                                                                 \n",
      " dense_49 (Dense)            (None, 100)               30100     \n",
      "                                                                 \n",
      " dropout_9 (Dropout)         (None, 100)               0         \n",
      "                                                                 \n",
      " dense_50 (Dense)            (None, 50)                5050      \n",
      "                                                                 \n",
      " dense_51 (Dense)            (None, 10)                510       \n",
      "                                                                 \n",
      " dense_52 (Dense)            (None, 1)                 11        \n",
      "                                                                 \n",
      "=================================================================\n",
      "Total params: 36,763\n",
      "Trainable params: 36,763\n",
      "Non-trainable params: 0\n",
      "_________________________________________________________________\n"
     ]
    },
    {
     "name": "stderr",
     "output_type": "stream",
     "text": [
      "2023-06-20 17:51:36.372782: I tensorflow/core/common_runtime/executor.cc:1197] [/device:CPU:0] (DEBUG INFO) Executor start aborting (this does not indicate an error and you can ignore this message): INVALID_ARGUMENT: You must feed a value for placeholder tensor 'inputs' with dtype float and shape [?,300]\n",
      "\t [[{{node inputs}}]]\n",
      "2023-06-20 17:51:36.395679: I tensorflow/core/common_runtime/executor.cc:1197] [/device:CPU:0] (DEBUG INFO) Executor start aborting (this does not indicate an error and you can ignore this message): INVALID_ARGUMENT: You must feed a value for placeholder tensor 'inputs' with dtype float and shape [?,100]\n",
      "\t [[{{node inputs}}]]\n",
      "2023-06-20 17:51:36.831962: I tensorflow/core/common_runtime/executor.cc:1197] [/device:CPU:0] (DEBUG INFO) Executor start aborting (this does not indicate an error and you can ignore this message): INVALID_ARGUMENT: You must feed a value for placeholder tensor 'inputs' with dtype float and shape [?,300]\n",
      "\t [[{{node inputs}}]]\n",
      "2023-06-20 17:51:36.897276: I tensorflow/core/common_runtime/executor.cc:1197] [/device:CPU:0] (DEBUG INFO) Executor start aborting (this does not indicate an error and you can ignore this message): INVALID_ARGUMENT: You must feed a value for placeholder tensor 'inputs' with dtype float and shape [?,100]\n",
      "\t [[{{node inputs}}]]\n",
      "WARNING:absl:Found untraced functions such as _jit_compiled_convolution_op, _update_step_xla while saving (showing 2 of 2). These functions will not be directly callable after loading.\n"
     ]
    },
    {
     "name": "stdout",
     "output_type": "stream",
     "text": [
      "INFO:tensorflow:Assets written to: cnn_models/model_12/assets\n"
     ]
    },
    {
     "name": "stderr",
     "output_type": "stream",
     "text": [
      "INFO:tensorflow:Assets written to: cnn_models/model_12/assets\n"
     ]
    }
   ],
   "source": [
    "i = 12\n",
    "model[i] = Sequential([\n",
    "    InputLayer(input_shape=[7, 7, 10]),\n",
    "    Conv2D(filters=12, kernel_size=3, strides=1, activation='relu'),\n",
    "    Flatten(),\n",
    "    Dropout(0.1),\n",
    "    Dense(100, activation='relu'),\n",
    "    Dropout(0.1),\n",
    "    Dense(50, activation='relu'),\n",
    "    Dense(10, activation='relu'),\n",
    "    Dense(1, activation='relu')\n",
    "])\n",
    "model[i].summary()\n",
    "model[i].compile(loss=\"mean_absolute_error\", optimizer=\"adam\", metrics=[\"mean_absolute_error\"])\n",
    "history = model[i].fit(\n",
    "    X_train_7x7, \n",
    "    y_train, \n",
    "    epochs=1000, \n",
    "    batch_size=256, \n",
    "    validation_split=0.2,\n",
    "    verbose=0,\n",
    "    callbacks=[keras.callbacks.TensorBoard(get_run_logdir(i)), earlystopping_cb])\n",
    "model[i].save(f'cnn_models/model_{i}')"
   ]
  },
  {
   "attachments": {},
   "cell_type": "markdown",
   "metadata": {},
   "source": [
    "## Model 13: 7x7 Input, 3x3x12 Kernel, 0.2 Dropout, 100 Dense, 0.2 Dropout, 50 Dense, 10 Dense"
   ]
  },
  {
   "cell_type": "code",
   "execution_count": 32,
   "metadata": {},
   "outputs": [
    {
     "name": "stdout",
     "output_type": "stream",
     "text": [
      "Model: \"sequential_21\"\n",
      "_________________________________________________________________\n",
      " Layer (type)                Output Shape              Param #   \n",
      "=================================================================\n",
      " conv2d_21 (Conv2D)          (None, 5, 5, 12)          1092      \n",
      "                                                                 \n",
      " flatten_21 (Flatten)        (None, 300)               0         \n",
      "                                                                 \n",
      " dropout_12 (Dropout)        (None, 300)               0         \n",
      "                                                                 \n",
      " dense_57 (Dense)            (None, 100)               30100     \n",
      "                                                                 \n",
      " dropout_13 (Dropout)        (None, 100)               0         \n",
      "                                                                 \n",
      " dense_58 (Dense)            (None, 50)                5050      \n",
      "                                                                 \n",
      " dense_59 (Dense)            (None, 10)                510       \n",
      "                                                                 \n",
      " dense_60 (Dense)            (None, 1)                 11        \n",
      "                                                                 \n",
      "=================================================================\n",
      "Total params: 36,763\n",
      "Trainable params: 36,763\n",
      "Non-trainable params: 0\n",
      "_________________________________________________________________\n"
     ]
    },
    {
     "name": "stderr",
     "output_type": "stream",
     "text": [
      "2023-06-20 17:56:26.509243: I tensorflow/core/common_runtime/executor.cc:1197] [/device:CPU:0] (DEBUG INFO) Executor start aborting (this does not indicate an error and you can ignore this message): INVALID_ARGUMENT: You must feed a value for placeholder tensor 'inputs' with dtype float and shape [?,300]\n",
      "\t [[{{node inputs}}]]\n",
      "2023-06-20 17:56:26.534389: I tensorflow/core/common_runtime/executor.cc:1197] [/device:CPU:0] (DEBUG INFO) Executor start aborting (this does not indicate an error and you can ignore this message): INVALID_ARGUMENT: You must feed a value for placeholder tensor 'inputs' with dtype float and shape [?,100]\n",
      "\t [[{{node inputs}}]]\n",
      "2023-06-20 17:56:26.839212: I tensorflow/core/common_runtime/executor.cc:1197] [/device:CPU:0] (DEBUG INFO) Executor start aborting (this does not indicate an error and you can ignore this message): INVALID_ARGUMENT: You must feed a value for placeholder tensor 'inputs' with dtype float and shape [?,300]\n",
      "\t [[{{node inputs}}]]\n",
      "2023-06-20 17:56:26.893898: I tensorflow/core/common_runtime/executor.cc:1197] [/device:CPU:0] (DEBUG INFO) Executor start aborting (this does not indicate an error and you can ignore this message): INVALID_ARGUMENT: You must feed a value for placeholder tensor 'inputs' with dtype float and shape [?,100]\n",
      "\t [[{{node inputs}}]]\n",
      "WARNING:absl:Found untraced functions such as _jit_compiled_convolution_op, _update_step_xla while saving (showing 2 of 2). These functions will not be directly callable after loading.\n"
     ]
    },
    {
     "name": "stdout",
     "output_type": "stream",
     "text": [
      "INFO:tensorflow:Assets written to: cnn_models/model_13/assets\n"
     ]
    },
    {
     "name": "stderr",
     "output_type": "stream",
     "text": [
      "INFO:tensorflow:Assets written to: cnn_models/model_13/assets\n"
     ]
    }
   ],
   "source": [
    "i = 13\n",
    "model[i] = Sequential([\n",
    "    InputLayer(input_shape=[7, 7, 10]),\n",
    "    Conv2D(filters=12, kernel_size=3, strides=1, activation='relu'),\n",
    "    Flatten(),\n",
    "    Dropout(0.2),\n",
    "    Dense(100, activation='relu'),\n",
    "    Dropout(0.2),\n",
    "    Dense(50, activation='relu'),\n",
    "    Dense(10, activation='relu'),\n",
    "    Dense(1, activation='relu')\n",
    "])\n",
    "model[i].summary()\n",
    "model[i].compile(loss=\"mean_absolute_error\", optimizer=\"adam\", metrics=[\"mean_absolute_error\"])\n",
    "history = model[i].fit(\n",
    "    X_train_7x7, \n",
    "    y_train, \n",
    "    epochs=1000, \n",
    "    batch_size=256, \n",
    "    validation_split=0.2,\n",
    "    verbose=0,\n",
    "    callbacks=[keras.callbacks.TensorBoard(get_run_logdir(i)), earlystopping_cb])\n",
    "model[i].save(f'cnn_models/model_{i}')"
   ]
  },
  {
   "attachments": {},
   "cell_type": "markdown",
   "metadata": {},
   "source": [
    "## Model 14: 7x7 Input, 3x3x12 Kernel, 20 Dense"
   ]
  },
  {
   "cell_type": "code",
   "execution_count": 33,
   "metadata": {},
   "outputs": [
    {
     "name": "stdout",
     "output_type": "stream",
     "text": [
      "Model: \"sequential_22\"\n",
      "_________________________________________________________________\n",
      " Layer (type)                Output Shape              Param #   \n",
      "=================================================================\n",
      " conv2d_22 (Conv2D)          (None, 5, 5, 12)          1092      \n",
      "                                                                 \n",
      " flatten_22 (Flatten)        (None, 300)               0         \n",
      "                                                                 \n",
      " dense_61 (Dense)            (None, 20)                6020      \n",
      "                                                                 \n",
      " dense_62 (Dense)            (None, 1)                 21        \n",
      "                                                                 \n",
      "=================================================================\n",
      "Total params: 7,133\n",
      "Trainable params: 7,133\n",
      "Non-trainable params: 0\n",
      "_________________________________________________________________\n"
     ]
    },
    {
     "name": "stderr",
     "output_type": "stream",
     "text": [
      "WARNING:absl:Found untraced functions such as _jit_compiled_convolution_op, _update_step_xla while saving (showing 2 of 2). These functions will not be directly callable after loading.\n"
     ]
    },
    {
     "name": "stdout",
     "output_type": "stream",
     "text": [
      "INFO:tensorflow:Assets written to: cnn_models/model_14/assets\n"
     ]
    },
    {
     "name": "stderr",
     "output_type": "stream",
     "text": [
      "INFO:tensorflow:Assets written to: cnn_models/model_14/assets\n"
     ]
    }
   ],
   "source": [
    "i = 14\n",
    "model[i] = Sequential([\n",
    "    InputLayer(input_shape=[7, 7, 10]),\n",
    "    Conv2D(filters=12, kernel_size=3, strides=1, activation='relu'),\n",
    "    Flatten(),\n",
    "    Dense(20, activation='relu'),\n",
    "    Dense(1, activation='relu')\n",
    "])\n",
    "model[i].summary()\n",
    "model[i].compile(loss=\"mean_absolute_error\", optimizer=\"adam\", metrics=[\"mean_absolute_error\"])\n",
    "history = model[i].fit(\n",
    "    X_train_7x7, \n",
    "    y_train, \n",
    "    epochs=1000, \n",
    "    batch_size=256, \n",
    "    validation_split=0.2,\n",
    "    verbose=0,\n",
    "    callbacks=[keras.callbacks.TensorBoard(get_run_logdir(i)), earlystopping_cb])\n",
    "model[i].save(f'cnn_models/model_{i}')"
   ]
  },
  {
   "attachments": {},
   "cell_type": "markdown",
   "metadata": {},
   "source": [
    "## Model 15: 7x7 Input, 3x3x8 Kernel, 0.05 Dropout, 20 Dense"
   ]
  },
  {
   "cell_type": "code",
   "execution_count": 34,
   "metadata": {},
   "outputs": [
    {
     "name": "stdout",
     "output_type": "stream",
     "text": [
      "Model: \"sequential_23\"\n",
      "_________________________________________________________________\n",
      " Layer (type)                Output Shape              Param #   \n",
      "=================================================================\n",
      " conv2d_23 (Conv2D)          (None, 5, 5, 12)          1092      \n",
      "                                                                 \n",
      " flatten_23 (Flatten)        (None, 300)               0         \n",
      "                                                                 \n",
      " dropout_14 (Dropout)        (None, 300)               0         \n",
      "                                                                 \n",
      " dense_63 (Dense)            (None, 20)                6020      \n",
      "                                                                 \n",
      " dense_64 (Dense)            (None, 1)                 21        \n",
      "                                                                 \n",
      "=================================================================\n",
      "Total params: 7,133\n",
      "Trainable params: 7,133\n",
      "Non-trainable params: 0\n",
      "_________________________________________________________________\n"
     ]
    },
    {
     "name": "stderr",
     "output_type": "stream",
     "text": [
      "2023-06-20 18:00:43.350795: I tensorflow/core/common_runtime/executor.cc:1197] [/device:CPU:0] (DEBUG INFO) Executor start aborting (this does not indicate an error and you can ignore this message): INVALID_ARGUMENT: You must feed a value for placeholder tensor 'inputs' with dtype float and shape [?,300]\n",
      "\t [[{{node inputs}}]]\n",
      "2023-06-20 18:00:43.550044: I tensorflow/core/common_runtime/executor.cc:1197] [/device:CPU:0] (DEBUG INFO) Executor start aborting (this does not indicate an error and you can ignore this message): INVALID_ARGUMENT: You must feed a value for placeholder tensor 'inputs' with dtype float and shape [?,300]\n",
      "\t [[{{node inputs}}]]\n",
      "WARNING:absl:Found untraced functions such as _jit_compiled_convolution_op, _update_step_xla while saving (showing 2 of 2). These functions will not be directly callable after loading.\n"
     ]
    },
    {
     "name": "stdout",
     "output_type": "stream",
     "text": [
      "INFO:tensorflow:Assets written to: cnn_models/model_15/assets\n"
     ]
    },
    {
     "name": "stderr",
     "output_type": "stream",
     "text": [
      "INFO:tensorflow:Assets written to: cnn_models/model_15/assets\n"
     ]
    }
   ],
   "source": [
    "i = 15\n",
    "model[i] = Sequential([\n",
    "    InputLayer(input_shape=[7, 7, 10]),\n",
    "    Conv2D(filters=12, kernel_size=3, strides=1, activation='relu'),\n",
    "    Flatten(),\n",
    "    Dropout(0.05),\n",
    "    Dense(20, activation='relu'),\n",
    "    Dense(1, activation='relu')\n",
    "])\n",
    "model[i].summary()\n",
    "model[i].compile(loss=\"mean_absolute_error\", optimizer=\"adam\", metrics=[\"mean_absolute_error\"])\n",
    "history = model[i].fit(\n",
    "    X_train_7x7, \n",
    "    y_train, \n",
    "    epochs=1000, \n",
    "    batch_size=256, \n",
    "    validation_split=0.2,\n",
    "    verbose=0,\n",
    "    callbacks=[keras.callbacks.TensorBoard(get_run_logdir(i)), earlystopping_cb])\n",
    "model[i].save(f'cnn_models/model_{i}')"
   ]
  },
  {
   "attachments": {},
   "cell_type": "markdown",
   "metadata": {},
   "source": [
    "## Model 16: 7x7 Input, 3x3x8 Kernel, 0.05 Dropout, 40 Dense"
   ]
  },
  {
   "cell_type": "code",
   "execution_count": 35,
   "metadata": {},
   "outputs": [
    {
     "name": "stdout",
     "output_type": "stream",
     "text": [
      "Model: \"sequential_24\"\n",
      "_________________________________________________________________\n",
      " Layer (type)                Output Shape              Param #   \n",
      "=================================================================\n",
      " conv2d_24 (Conv2D)          (None, 5, 5, 12)          1092      \n",
      "                                                                 \n",
      " flatten_24 (Flatten)        (None, 300)               0         \n",
      "                                                                 \n",
      " dropout_15 (Dropout)        (None, 300)               0         \n",
      "                                                                 \n",
      " dense_65 (Dense)            (None, 40)                12040     \n",
      "                                                                 \n",
      " dense_66 (Dense)            (None, 1)                 41        \n",
      "                                                                 \n",
      "=================================================================\n",
      "Total params: 13,173\n",
      "Trainable params: 13,173\n",
      "Non-trainable params: 0\n",
      "_________________________________________________________________\n"
     ]
    },
    {
     "name": "stderr",
     "output_type": "stream",
     "text": [
      "2023-06-20 18:02:29.307222: I tensorflow/core/common_runtime/executor.cc:1197] [/device:CPU:0] (DEBUG INFO) Executor start aborting (this does not indicate an error and you can ignore this message): INVALID_ARGUMENT: You must feed a value for placeholder tensor 'inputs' with dtype float and shape [?,300]\n",
      "\t [[{{node inputs}}]]\n",
      "2023-06-20 18:02:29.498636: I tensorflow/core/common_runtime/executor.cc:1197] [/device:CPU:0] (DEBUG INFO) Executor start aborting (this does not indicate an error and you can ignore this message): INVALID_ARGUMENT: You must feed a value for placeholder tensor 'inputs' with dtype float and shape [?,300]\n",
      "\t [[{{node inputs}}]]\n",
      "WARNING:absl:Found untraced functions such as _jit_compiled_convolution_op, _update_step_xla while saving (showing 2 of 2). These functions will not be directly callable after loading.\n"
     ]
    },
    {
     "name": "stdout",
     "output_type": "stream",
     "text": [
      "INFO:tensorflow:Assets written to: cnn_models/model_16/assets\n"
     ]
    },
    {
     "name": "stderr",
     "output_type": "stream",
     "text": [
      "INFO:tensorflow:Assets written to: cnn_models/model_16/assets\n"
     ]
    }
   ],
   "source": [
    "i = 16\n",
    "model[i] = Sequential([\n",
    "    InputLayer(input_shape=[7, 7, 10]),\n",
    "    Conv2D(filters=12, kernel_size=3, strides=1, activation='relu'),\n",
    "    Flatten(),\n",
    "    Dropout(0.05),\n",
    "    Dense(40, activation='relu'),\n",
    "    Dense(1, activation='relu')\n",
    "])\n",
    "model[i].summary()\n",
    "model[i].compile(loss=\"mean_absolute_error\", optimizer=\"adam\", metrics=[\"mean_absolute_error\"])\n",
    "history = model[i].fit(\n",
    "    X_train_7x7, \n",
    "    y_train, \n",
    "    epochs=1000, \n",
    "    batch_size=256, \n",
    "    validation_split=0.2,\n",
    "    verbose=0,\n",
    "    callbacks=[keras.callbacks.TensorBoard(get_run_logdir(i)), earlystopping_cb])\n",
    "model[i].save(f'cnn_models/model_{i}')"
   ]
  },
  {
   "attachments": {},
   "cell_type": "markdown",
   "metadata": {},
   "source": [
    "## Model 17: 7x7 Input, 3x3x8 Kernel, 0.1 Dropout, 80 Dense"
   ]
  },
  {
   "cell_type": "code",
   "execution_count": 36,
   "metadata": {},
   "outputs": [
    {
     "name": "stdout",
     "output_type": "stream",
     "text": [
      "Model: \"sequential_25\"\n",
      "_________________________________________________________________\n",
      " Layer (type)                Output Shape              Param #   \n",
      "=================================================================\n",
      " conv2d_25 (Conv2D)          (None, 5, 5, 12)          1092      \n",
      "                                                                 \n",
      " flatten_25 (Flatten)        (None, 300)               0         \n",
      "                                                                 \n",
      " dropout_16 (Dropout)        (None, 300)               0         \n",
      "                                                                 \n",
      " dense_67 (Dense)            (None, 80)                24080     \n",
      "                                                                 \n",
      " dense_68 (Dense)            (None, 1)                 81        \n",
      "                                                                 \n",
      "=================================================================\n",
      "Total params: 25,253\n",
      "Trainable params: 25,253\n",
      "Non-trainable params: 0\n",
      "_________________________________________________________________\n"
     ]
    },
    {
     "name": "stderr",
     "output_type": "stream",
     "text": [
      "2023-06-20 18:06:21.909556: I tensorflow/core/common_runtime/executor.cc:1197] [/device:CPU:0] (DEBUG INFO) Executor start aborting (this does not indicate an error and you can ignore this message): INVALID_ARGUMENT: You must feed a value for placeholder tensor 'inputs' with dtype float and shape [?,300]\n",
      "\t [[{{node inputs}}]]\n",
      "2023-06-20 18:06:22.100356: I tensorflow/core/common_runtime/executor.cc:1197] [/device:CPU:0] (DEBUG INFO) Executor start aborting (this does not indicate an error and you can ignore this message): INVALID_ARGUMENT: You must feed a value for placeholder tensor 'inputs' with dtype float and shape [?,300]\n",
      "\t [[{{node inputs}}]]\n",
      "WARNING:absl:Found untraced functions such as _jit_compiled_convolution_op, _update_step_xla while saving (showing 2 of 2). These functions will not be directly callable after loading.\n"
     ]
    },
    {
     "name": "stdout",
     "output_type": "stream",
     "text": [
      "INFO:tensorflow:Assets written to: cnn_models/model_17/assets\n"
     ]
    },
    {
     "name": "stderr",
     "output_type": "stream",
     "text": [
      "INFO:tensorflow:Assets written to: cnn_models/model_17/assets\n"
     ]
    }
   ],
   "source": [
    "i = 17\n",
    "model[i] = Sequential([\n",
    "    InputLayer(input_shape=[7, 7, 10]),\n",
    "    Conv2D(filters=12, kernel_size=3, strides=1, activation='relu'),\n",
    "    Flatten(),\n",
    "    Dropout(0.05),\n",
    "    Dense(80, activation='relu'),\n",
    "    Dense(1, activation='relu')\n",
    "])\n",
    "model[i].summary()\n",
    "model[i].compile(loss=\"mean_absolute_error\", optimizer=\"adam\", metrics=[\"mean_absolute_error\"])\n",
    "history = model[i].fit(\n",
    "    X_train_7x7, \n",
    "    y_train, \n",
    "    epochs=1000, \n",
    "    batch_size=256, \n",
    "    validation_split=0.2,\n",
    "    verbose=0,\n",
    "    callbacks=[keras.callbacks.TensorBoard(get_run_logdir(i)), earlystopping_cb])\n",
    "model[i].save(f'cnn_models/model_{i}')"
   ]
  },
  {
   "attachments": {},
   "cell_type": "markdown",
   "metadata": {},
   "source": [
    "## Model 18: 7x7 Input, 3x3x8 Kernel, 0.15 Dropout, 120 Dense"
   ]
  },
  {
   "cell_type": "code",
   "execution_count": 37,
   "metadata": {},
   "outputs": [
    {
     "name": "stdout",
     "output_type": "stream",
     "text": [
      "Model: \"sequential_26\"\n",
      "_________________________________________________________________\n",
      " Layer (type)                Output Shape              Param #   \n",
      "=================================================================\n",
      " conv2d_26 (Conv2D)          (None, 5, 5, 12)          1092      \n",
      "                                                                 \n",
      " flatten_26 (Flatten)        (None, 300)               0         \n",
      "                                                                 \n",
      " dropout_17 (Dropout)        (None, 300)               0         \n",
      "                                                                 \n",
      " dense_69 (Dense)            (None, 120)               36120     \n",
      "                                                                 \n",
      " dense_70 (Dense)            (None, 1)                 121       \n",
      "                                                                 \n",
      "=================================================================\n",
      "Total params: 37,333\n",
      "Trainable params: 37,333\n",
      "Non-trainable params: 0\n",
      "_________________________________________________________________\n"
     ]
    },
    {
     "name": "stderr",
     "output_type": "stream",
     "text": [
      "2023-06-20 18:09:05.567160: I tensorflow/core/common_runtime/executor.cc:1197] [/device:CPU:0] (DEBUG INFO) Executor start aborting (this does not indicate an error and you can ignore this message): INVALID_ARGUMENT: You must feed a value for placeholder tensor 'inputs' with dtype float and shape [?,300]\n",
      "\t [[{{node inputs}}]]\n",
      "2023-06-20 18:09:05.707053: I tensorflow/core/common_runtime/executor.cc:1197] [/device:CPU:0] (DEBUG INFO) Executor start aborting (this does not indicate an error and you can ignore this message): INVALID_ARGUMENT: You must feed a value for placeholder tensor 'inputs' with dtype float and shape [?,300]\n",
      "\t [[{{node inputs}}]]\n",
      "WARNING:absl:Found untraced functions such as _jit_compiled_convolution_op, _update_step_xla while saving (showing 2 of 2). These functions will not be directly callable after loading.\n"
     ]
    },
    {
     "name": "stdout",
     "output_type": "stream",
     "text": [
      "INFO:tensorflow:Assets written to: cnn_models/model_18/assets\n"
     ]
    },
    {
     "name": "stderr",
     "output_type": "stream",
     "text": [
      "INFO:tensorflow:Assets written to: cnn_models/model_18/assets\n"
     ]
    }
   ],
   "source": [
    "i = 18\n",
    "model[i] = Sequential([\n",
    "    InputLayer(input_shape=[7, 7, 10]),\n",
    "    Conv2D(filters=12, kernel_size=3, strides=1, activation='relu'),\n",
    "    Flatten(),\n",
    "    Dropout(0.15),\n",
    "    Dense(120, activation='relu'),\n",
    "    Dense(1, activation='relu')\n",
    "])\n",
    "model[i].summary()\n",
    "model[i].compile(loss=\"mean_absolute_error\", optimizer=\"adam\", metrics=[\"mean_absolute_error\"])\n",
    "history = model[i].fit(\n",
    "    X_train_7x7, \n",
    "    y_train, \n",
    "    epochs=1000, \n",
    "    batch_size=256, \n",
    "    validation_split=0.2,\n",
    "    verbose=0,\n",
    "    callbacks=[keras.callbacks.TensorBoard(get_run_logdir(i)), earlystopping_cb])\n",
    "model[i].save(f'cnn_models/model_{i}')"
   ]
  },
  {
   "attachments": {},
   "cell_type": "markdown",
   "metadata": {},
   "source": [
    "## Model 19: 9x9 Input, 3x3x3 Kernel, 10 Dense"
   ]
  },
  {
   "cell_type": "code",
   "execution_count": 38,
   "metadata": {},
   "outputs": [
    {
     "name": "stdout",
     "output_type": "stream",
     "text": [
      "Model: \"sequential_27\"\n",
      "_________________________________________________________________\n",
      " Layer (type)                Output Shape              Param #   \n",
      "=================================================================\n",
      " conv2d_27 (Conv2D)          (None, 7, 7, 3)           273       \n",
      "                                                                 \n",
      " flatten_27 (Flatten)        (None, 147)               0         \n",
      "                                                                 \n",
      " dense_71 (Dense)            (None, 10)                1480      \n",
      "                                                                 \n",
      " dense_72 (Dense)            (None, 1)                 11        \n",
      "                                                                 \n",
      "=================================================================\n",
      "Total params: 1,764\n",
      "Trainable params: 1,764\n",
      "Non-trainable params: 0\n",
      "_________________________________________________________________\n"
     ]
    },
    {
     "name": "stderr",
     "output_type": "stream",
     "text": [
      "WARNING:absl:Found untraced functions such as _jit_compiled_convolution_op, _update_step_xla while saving (showing 2 of 2). These functions will not be directly callable after loading.\n"
     ]
    },
    {
     "name": "stdout",
     "output_type": "stream",
     "text": [
      "INFO:tensorflow:Assets written to: cnn_models/model_19/assets\n"
     ]
    },
    {
     "name": "stderr",
     "output_type": "stream",
     "text": [
      "INFO:tensorflow:Assets written to: cnn_models/model_19/assets\n"
     ]
    }
   ],
   "source": [
    "i = 19\n",
    "model[i] = Sequential([\n",
    "    InputLayer(input_shape=[9, 9, 10]),\n",
    "    Conv2D(filters=3, kernel_size=3, strides=1, activation='relu'),\n",
    "    Flatten(),\n",
    "    Dense(10, activation='relu'),\n",
    "    Dense(1, activation='relu')\n",
    "])\n",
    "model[i].summary()\n",
    "model[i].compile(loss=\"mean_absolute_error\", optimizer=\"adam\", metrics=[\"mean_absolute_error\"])\n",
    "history = model[i].fit(\n",
    "    X_train_9x9, \n",
    "    y_train, \n",
    "    epochs=1000, \n",
    "    batch_size=256, \n",
    "    validation_split=0.2,\n",
    "    verbose=0,\n",
    "    callbacks=[keras.callbacks.TensorBoard(get_run_logdir(i)), earlystopping_cb])\n",
    "model[i].save(f'cnn_models/model_{i}')"
   ]
  },
  {
   "attachments": {},
   "cell_type": "markdown",
   "metadata": {},
   "source": [
    "## Model 20: 9x9 Input, 3x3x8 Kernel, 10 Dense"
   ]
  },
  {
   "cell_type": "code",
   "execution_count": 39,
   "metadata": {},
   "outputs": [
    {
     "name": "stdout",
     "output_type": "stream",
     "text": [
      "Model: \"sequential_28\"\n",
      "_________________________________________________________________\n",
      " Layer (type)                Output Shape              Param #   \n",
      "=================================================================\n",
      " conv2d_28 (Conv2D)          (None, 7, 7, 8)           728       \n",
      "                                                                 \n",
      " flatten_28 (Flatten)        (None, 392)               0         \n",
      "                                                                 \n",
      " dense_73 (Dense)            (None, 10)                3930      \n",
      "                                                                 \n",
      " dense_74 (Dense)            (None, 1)                 11        \n",
      "                                                                 \n",
      "=================================================================\n",
      "Total params: 4,669\n",
      "Trainable params: 4,669\n",
      "Non-trainable params: 0\n",
      "_________________________________________________________________\n"
     ]
    },
    {
     "name": "stderr",
     "output_type": "stream",
     "text": [
      "WARNING:absl:Found untraced functions such as _jit_compiled_convolution_op, _update_step_xla while saving (showing 2 of 2). These functions will not be directly callable after loading.\n"
     ]
    },
    {
     "name": "stdout",
     "output_type": "stream",
     "text": [
      "INFO:tensorflow:Assets written to: cnn_models/model_20/assets\n"
     ]
    },
    {
     "name": "stderr",
     "output_type": "stream",
     "text": [
      "INFO:tensorflow:Assets written to: cnn_models/model_20/assets\n"
     ]
    }
   ],
   "source": [
    "i = 20\n",
    "model[i] = Sequential([\n",
    "    InputLayer(input_shape=[9, 9, 10]),\n",
    "    Conv2D(filters=8, kernel_size=3, strides=1, activation='relu'),\n",
    "    Flatten(),\n",
    "    Dense(10, activation='relu'),\n",
    "    Dense(1, activation='relu')\n",
    "])\n",
    "model[i].summary()\n",
    "model[i].compile(loss=\"mean_absolute_error\", optimizer=\"adam\", metrics=[\"mean_absolute_error\"])\n",
    "history = model[i].fit(\n",
    "    X_train_9x9, \n",
    "    y_train, \n",
    "    epochs=1000, \n",
    "    batch_size=256, \n",
    "    validation_split=0.2,\n",
    "    verbose=0,\n",
    "    callbacks=[keras.callbacks.TensorBoard(get_run_logdir(i)), earlystopping_cb])\n",
    "model[i].save(f'cnn_models/model_{i}')"
   ]
  },
  {
   "attachments": {},
   "cell_type": "markdown",
   "metadata": {},
   "source": [
    "## Model 21: 9x9 Input, 5x5x8 Kernel, 10 Dense"
   ]
  },
  {
   "cell_type": "code",
   "execution_count": 40,
   "metadata": {},
   "outputs": [
    {
     "name": "stdout",
     "output_type": "stream",
     "text": [
      "Model: \"sequential_29\"\n",
      "_________________________________________________________________\n",
      " Layer (type)                Output Shape              Param #   \n",
      "=================================================================\n",
      " conv2d_29 (Conv2D)          (None, 5, 5, 8)           2008      \n",
      "                                                                 \n",
      " flatten_29 (Flatten)        (None, 200)               0         \n",
      "                                                                 \n",
      " dense_75 (Dense)            (None, 10)                2010      \n",
      "                                                                 \n",
      " dense_76 (Dense)            (None, 1)                 11        \n",
      "                                                                 \n",
      "=================================================================\n",
      "Total params: 4,029\n",
      "Trainable params: 4,029\n",
      "Non-trainable params: 0\n",
      "_________________________________________________________________\n"
     ]
    },
    {
     "name": "stderr",
     "output_type": "stream",
     "text": [
      "WARNING:absl:Found untraced functions such as _jit_compiled_convolution_op, _update_step_xla while saving (showing 2 of 2). These functions will not be directly callable after loading.\n"
     ]
    },
    {
     "name": "stdout",
     "output_type": "stream",
     "text": [
      "INFO:tensorflow:Assets written to: cnn_models/model_21/assets\n"
     ]
    },
    {
     "name": "stderr",
     "output_type": "stream",
     "text": [
      "INFO:tensorflow:Assets written to: cnn_models/model_21/assets\n"
     ]
    }
   ],
   "source": [
    "i = 21\n",
    "model[i] = Sequential([\n",
    "    InputLayer(input_shape=[9, 9, 10]),\n",
    "    Conv2D(filters=8, kernel_size=5, strides=1, activation='relu'),\n",
    "    Flatten(),\n",
    "    Dense(10, activation='relu'),\n",
    "    Dense(1, activation='relu')\n",
    "])\n",
    "model[i].summary()\n",
    "model[i].compile(loss=\"mean_absolute_error\", optimizer=\"adam\", metrics=[\"mean_absolute_error\"])\n",
    "history = model[i].fit(\n",
    "    X_train_9x9, \n",
    "    y_train, \n",
    "    epochs=1000, \n",
    "    batch_size=256, \n",
    "    validation_split=0.2,\n",
    "    verbose=0,\n",
    "    callbacks=[keras.callbacks.TensorBoard(get_run_logdir(i)), earlystopping_cb])\n",
    "model[i].save(f'cnn_models/model_{i}')"
   ]
  },
  {
   "attachments": {},
   "cell_type": "markdown",
   "metadata": {},
   "source": [
    "## Model 22: 9x9 Input, 5x5x8 Kernel, 0.2 Dropout, 100 Dense, 0.2 Dropout, 10 Dense"
   ]
  },
  {
   "cell_type": "code",
   "execution_count": 41,
   "metadata": {},
   "outputs": [
    {
     "name": "stdout",
     "output_type": "stream",
     "text": [
      "Model: \"sequential_30\"\n",
      "_________________________________________________________________\n",
      " Layer (type)                Output Shape              Param #   \n",
      "=================================================================\n",
      " conv2d_30 (Conv2D)          (None, 5, 5, 8)           2008      \n",
      "                                                                 \n",
      " flatten_30 (Flatten)        (None, 200)               0         \n",
      "                                                                 \n",
      " dropout_18 (Dropout)        (None, 200)               0         \n",
      "                                                                 \n",
      " dense_77 (Dense)            (None, 100)               20100     \n",
      "                                                                 \n",
      " dropout_19 (Dropout)        (None, 100)               0         \n",
      "                                                                 \n",
      " dense_78 (Dense)            (None, 10)                1010      \n",
      "                                                                 \n",
      " dense_79 (Dense)            (None, 1)                 11        \n",
      "                                                                 \n",
      "=================================================================\n",
      "Total params: 23,129\n",
      "Trainable params: 23,129\n",
      "Non-trainable params: 0\n",
      "_________________________________________________________________\n"
     ]
    },
    {
     "name": "stderr",
     "output_type": "stream",
     "text": [
      "2023-06-20 18:16:01.299157: I tensorflow/core/common_runtime/executor.cc:1197] [/device:CPU:0] (DEBUG INFO) Executor start aborting (this does not indicate an error and you can ignore this message): INVALID_ARGUMENT: You must feed a value for placeholder tensor 'inputs' with dtype float and shape [?,200]\n",
      "\t [[{{node inputs}}]]\n",
      "2023-06-20 18:16:01.321310: I tensorflow/core/common_runtime/executor.cc:1197] [/device:CPU:0] (DEBUG INFO) Executor start aborting (this does not indicate an error and you can ignore this message): INVALID_ARGUMENT: You must feed a value for placeholder tensor 'inputs' with dtype float and shape [?,100]\n",
      "\t [[{{node inputs}}]]\n",
      "2023-06-20 18:16:01.595087: I tensorflow/core/common_runtime/executor.cc:1197] [/device:CPU:0] (DEBUG INFO) Executor start aborting (this does not indicate an error and you can ignore this message): INVALID_ARGUMENT: You must feed a value for placeholder tensor 'inputs' with dtype float and shape [?,200]\n",
      "\t [[{{node inputs}}]]\n",
      "2023-06-20 18:16:01.658493: I tensorflow/core/common_runtime/executor.cc:1197] [/device:CPU:0] (DEBUG INFO) Executor start aborting (this does not indicate an error and you can ignore this message): INVALID_ARGUMENT: You must feed a value for placeholder tensor 'inputs' with dtype float and shape [?,100]\n",
      "\t [[{{node inputs}}]]\n",
      "WARNING:absl:Found untraced functions such as _jit_compiled_convolution_op, _update_step_xla while saving (showing 2 of 2). These functions will not be directly callable after loading.\n"
     ]
    },
    {
     "name": "stdout",
     "output_type": "stream",
     "text": [
      "INFO:tensorflow:Assets written to: cnn_models/model_22/assets\n"
     ]
    },
    {
     "name": "stderr",
     "output_type": "stream",
     "text": [
      "INFO:tensorflow:Assets written to: cnn_models/model_22/assets\n"
     ]
    }
   ],
   "source": [
    "i = 22\n",
    "model[i] = Sequential([\n",
    "    InputLayer(input_shape=[9, 9, 10]),\n",
    "    Conv2D(filters=8, kernel_size=5, strides=1, activation='relu'),\n",
    "    Flatten(),\n",
    "    Dropout(0.2),\n",
    "    Dense(100, activation='relu'),\n",
    "    Dropout(0.2),\n",
    "    Dense(10, activation='relu'),\n",
    "    Dense(1, activation='relu')\n",
    "])\n",
    "model[i].summary()\n",
    "model[i].compile(loss=\"mean_absolute_error\", optimizer=\"adam\", metrics=[\"mean_absolute_error\"])\n",
    "history = model[i].fit(\n",
    "    X_train_9x9, \n",
    "    y_train, \n",
    "    epochs=1000, \n",
    "    batch_size=256, \n",
    "    validation_split=0.2,\n",
    "    verbose=0,\n",
    "    callbacks=[keras.callbacks.TensorBoard(get_run_logdir(i)), earlystopping_cb])\n",
    "model[i].save(f'cnn_models/model_{i}')"
   ]
  },
  {
   "attachments": {},
   "cell_type": "markdown",
   "metadata": {},
   "source": []
  },
  {
   "cell_type": "code",
   "execution_count": null,
   "metadata": {},
   "outputs": [],
   "source": []
  },
  {
   "attachments": {},
   "cell_type": "markdown",
   "metadata": {},
   "source": []
  },
  {
   "cell_type": "code",
   "execution_count": null,
   "metadata": {},
   "outputs": [],
   "source": []
  }
 ],
 "metadata": {
  "kernelspec": {
   "display_name": "Python 3",
   "language": "python",
   "name": "python3"
  },
  "language_info": {
   "codemirror_mode": {
    "name": "ipython",
    "version": 3
   },
   "file_extension": ".py",
   "mimetype": "text/x-python",
   "name": "python",
   "nbconvert_exporter": "python",
   "pygments_lexer": "ipython3",
   "version": "3.11.3"
  },
  "orig_nbformat": 4
 },
 "nbformat": 4,
 "nbformat_minor": 2
}
