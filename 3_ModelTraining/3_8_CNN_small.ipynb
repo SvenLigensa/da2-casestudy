{
 "cells": [
  {
   "cell_type": "code",
   "execution_count": 1,
   "metadata": {},
   "outputs": [
    {
     "name": "stderr",
     "output_type": "stream",
     "text": [
      "2023-06-26 21:26:39.762144: I tensorflow/tsl/cuda/cudart_stub.cc:28] Could not find cuda drivers on your machine, GPU will not be used.\n",
      "2023-06-26 21:26:39.976008: I tensorflow/tsl/cuda/cudart_stub.cc:28] Could not find cuda drivers on your machine, GPU will not be used.\n",
      "2023-06-26 21:26:39.977260: I tensorflow/core/platform/cpu_feature_guard.cc:182] This TensorFlow binary is optimized to use available CPU instructions in performance-critical operations.\n",
      "To enable the following instructions: AVX2 FMA, in other operations, rebuild TensorFlow with the appropriate compiler flags.\n",
      "2023-06-26 21:26:41.727482: W tensorflow/compiler/tf2tensorrt/utils/py_utils.cc:38] TF-TRT Warning: Could not find TensorRT\n"
     ]
    }
   ],
   "source": [
    "import os\n",
    "import time\n",
    "import numpy as np\n",
    "import pandas as pd\n",
    "import matplotlib.pyplot as plt\n",
    "from pathlib import Path\n",
    "from sklearn.preprocessing import MinMaxScaler\n",
    "import tensorflow as tf\n",
    "from tensorflow import keras\n",
    "tf.random.set_seed(42)\n",
    "from keras.models import Sequential\n",
    "from keras.layers import InputLayer, Dense, Flatten, Conv2D, MaxPool2D, Dropout"
   ]
  },
  {
   "attachments": {},
   "cell_type": "markdown",
   "metadata": {},
   "source": [
    "# Data Preparation"
   ]
  },
  {
   "cell_type": "code",
   "execution_count": 2,
   "metadata": {},
   "outputs": [],
   "source": [
    "indices_train = np.load('../data/indices_train.npy')\n",
    "\n",
    "X_full = np.stack(list(map(lambda index: np.load(f'../data/images_train/image_{index:03d}.npy'), range(40))))\n",
    "y = np.stack(list(map(lambda index: np.load(f'../data/masks_train/mask_{index:03d}.npy'), range(40))))\n",
    "# The labels do not change\n",
    "y_train = y[indices_train[:, 0], 0, indices_train[:, 2], indices_train[:, 3]]"
   ]
  },
  {
   "attachments": {},
   "cell_type": "markdown",
   "metadata": {},
   "source": [
    "## Create 5x5 Patches"
   ]
  },
  {
   "cell_type": "code",
   "execution_count": 3,
   "metadata": {},
   "outputs": [
    {
     "name": "stdout",
     "output_type": "stream",
     "text": [
      "(34976, 5, 5, 10)\n"
     ]
    }
   ],
   "source": [
    "KERNEL_RADIUS = 2\n",
    "KERNEL_SIZE = KERNEL_RADIUS*2 + 1\n",
    "\n",
    "expanded_indices_train = np.repeat(indices_train, (KERNEL_SIZE*KERNEL_SIZE), axis=0)\n",
    "\n",
    "offsets = np.array([(i, j) for i in range(-KERNEL_RADIUS, KERNEL_RADIUS+1) for j in range(-KERNEL_RADIUS, KERNEL_RADIUS+1)])\n",
    "\n",
    "# Compute new width and height indices with offsets and ensure they're within valid bounds\n",
    "expanded_indices_train[:, 2] = np.clip(\n",
    "    np.repeat(indices_train[:, 2], (KERNEL_SIZE*KERNEL_SIZE)) + np.tile(offsets[:, 0], len(indices_train)), 0, 1023\n",
    ")\n",
    "expanded_indices_train[:, 3] = np.clip(\n",
    "    np.repeat(indices_train[:, 3], (KERNEL_SIZE*KERNEL_SIZE)) + np.tile(offsets[:, 1], len(indices_train)), 0, 1023\n",
    ")\n",
    "\n",
    "X_train_5x5 = X_full[expanded_indices_train[:, 0], :, expanded_indices_train[:, 2], expanded_indices_train[:, 3]]\n",
    "X_train_5x5 = np.reshape(X_train_5x5, ((X_train_5x5.shape[0] // (KERNEL_SIZE*KERNEL_SIZE)), KERNEL_SIZE, KERNEL_SIZE, -1))\n",
    "\n",
    "# Calculate the mean and standard deviation of the data\n",
    "mean = np.mean(X_train_5x5)\n",
    "std = np.std(X_train_5x5)\n",
    "# Normalize the data\n",
    "X_train_5x5 = (X_train_5x5 - mean) / std\n",
    "\n",
    "print(X_train_5x5.shape)"
   ]
  },
  {
   "attachments": {},
   "cell_type": "markdown",
   "metadata": {},
   "source": [
    "## Create 7x7 Patches"
   ]
  },
  {
   "cell_type": "code",
   "execution_count": 4,
   "metadata": {},
   "outputs": [
    {
     "name": "stdout",
     "output_type": "stream",
     "text": [
      "(34976, 7, 7, 10)\n"
     ]
    }
   ],
   "source": [
    "KERNEL_RADIUS = 3\n",
    "KERNEL_SIZE = KERNEL_RADIUS*2 + 1\n",
    "\n",
    "expanded_indices_train = np.repeat(indices_train, (KERNEL_SIZE*KERNEL_SIZE), axis=0)\n",
    "\n",
    "offsets = np.array([(i, j) for i in range(-KERNEL_RADIUS, KERNEL_RADIUS+1) for j in range(-KERNEL_RADIUS, KERNEL_RADIUS+1)])\n",
    "\n",
    "# Compute new width and height indices with offsets and ensure they're within valid bounds\n",
    "expanded_indices_train[:, 2] = np.clip(\n",
    "    np.repeat(indices_train[:, 2], (KERNEL_SIZE*KERNEL_SIZE)) + np.tile(offsets[:, 0], len(indices_train)), 0, 1023\n",
    ")\n",
    "expanded_indices_train[:, 3] = np.clip(\n",
    "    np.repeat(indices_train[:, 3], (KERNEL_SIZE*KERNEL_SIZE)) + np.tile(offsets[:, 1], len(indices_train)), 0, 1023\n",
    ")\n",
    "\n",
    "X_train_7x7 = X_full[expanded_indices_train[:, 0], :, expanded_indices_train[:, 2], expanded_indices_train[:, 3]]\n",
    "X_train_7x7 = np.reshape(X_train_7x7, ((X_train_7x7.shape[0] // (KERNEL_SIZE*KERNEL_SIZE)), KERNEL_SIZE, KERNEL_SIZE, -1))\n",
    "\n",
    "# Calculate the mean and standard deviation of the data\n",
    "mean = np.mean(X_train_7x7)\n",
    "std = np.std(X_train_7x7)\n",
    "# Normalize the data\n",
    "X_train_7x7 = (X_train_7x7 - mean) / std\n",
    "\n",
    "print(X_train_7x7.shape)"
   ]
  },
  {
   "attachments": {},
   "cell_type": "markdown",
   "metadata": {},
   "source": [
    "## Create 9x9 Patches"
   ]
  },
  {
   "cell_type": "code",
   "execution_count": 5,
   "metadata": {},
   "outputs": [
    {
     "name": "stdout",
     "output_type": "stream",
     "text": [
      "(34976, 9, 9, 10)\n"
     ]
    }
   ],
   "source": [
    "KERNEL_RADIUS = 4\n",
    "KERNEL_SIZE = KERNEL_RADIUS*2 + 1\n",
    "\n",
    "expanded_indices_train = np.repeat(indices_train, (KERNEL_SIZE*KERNEL_SIZE), axis=0)\n",
    "\n",
    "offsets = np.array([(i, j) for i in range(-KERNEL_RADIUS, KERNEL_RADIUS+1) for j in range(-KERNEL_RADIUS, KERNEL_RADIUS+1)])\n",
    "\n",
    "# Compute new width and height indices with offsets and ensure they're within valid bounds\n",
    "expanded_indices_train[:, 2] = np.clip(\n",
    "    np.repeat(indices_train[:, 2], (KERNEL_SIZE*KERNEL_SIZE)) + np.tile(offsets[:, 0], len(indices_train)), 0, 1023\n",
    ")\n",
    "expanded_indices_train[:, 3] = np.clip(\n",
    "    np.repeat(indices_train[:, 3], (KERNEL_SIZE*KERNEL_SIZE)) + np.tile(offsets[:, 1], len(indices_train)), 0, 1023\n",
    ")\n",
    "\n",
    "X_train_9x9 = X_full[expanded_indices_train[:, 0], :, expanded_indices_train[:, 2], expanded_indices_train[:, 3]]\n",
    "X_train_9x9 = np.reshape(X_train_9x9, ((X_train_9x9.shape[0] // (KERNEL_SIZE*KERNEL_SIZE)), KERNEL_SIZE, KERNEL_SIZE, -1))\n",
    "\n",
    "# Calculate the mean and standard deviation of the data\n",
    "mean = np.mean(X_train_9x9)\n",
    "std = np.std(X_train_9x9)\n",
    "# Normalize the data\n",
    "X_train_9x9 = (X_train_9x9 - mean) / std\n",
    "\n",
    "print(X_train_9x9.shape)"
   ]
  },
  {
   "attachments": {},
   "cell_type": "markdown",
   "metadata": {},
   "source": [
    "# Model Definition"
   ]
  },
  {
   "attachments": {},
   "cell_type": "markdown",
   "metadata": {},
   "source": [
    "The models get bigger and bigger with larger indices."
   ]
  },
  {
   "cell_type": "code",
   "execution_count": 7,
   "metadata": {},
   "outputs": [],
   "source": [
    "def get_run_logdir(model_id):\n",
    "    return os.path.join(os.curdir, f'cnn_logs/model_{model_id}')\n",
    "\n",
    "earlystopping_cb = tf.keras.callbacks.EarlyStopping(monitor='loss', patience=10)"
   ]
  },
  {
   "cell_type": "code",
   "execution_count": null,
   "metadata": {},
   "outputs": [],
   "source": [
    "%load_ext tensorboard\n",
    "%tensorboard --logdir=./cnn_logs --port=6006"
   ]
  },
  {
   "cell_type": "code",
   "execution_count": 8,
   "metadata": {},
   "outputs": [],
   "source": [
    "model = {}"
   ]
  },
  {
   "attachments": {},
   "cell_type": "markdown",
   "metadata": {},
   "source": [
    "## Model 1: 5x5 Input, 3x3x3 Kernel, 10 Dense"
   ]
  },
  {
   "cell_type": "code",
   "execution_count": 19,
   "metadata": {},
   "outputs": [
    {
     "name": "stdout",
     "output_type": "stream",
     "text": [
      "Model: \"sequential_8\"\n",
      "_________________________________________________________________\n",
      " Layer (type)                Output Shape              Param #   \n",
      "=================================================================\n",
      " conv2d_8 (Conv2D)           (None, 3, 3, 3)           273       \n",
      "                                                                 \n",
      " flatten_8 (Flatten)         (None, 27)                0         \n",
      "                                                                 \n",
      " dense_21 (Dense)            (None, 10)                280       \n",
      "                                                                 \n",
      " dense_22 (Dense)            (None, 1)                 11        \n",
      "                                                                 \n",
      "=================================================================\n",
      "Total params: 564\n",
      "Trainable params: 564\n",
      "Non-trainable params: 0\n",
      "_________________________________________________________________\n"
     ]
    },
    {
     "name": "stderr",
     "output_type": "stream",
     "text": [
      "WARNING:absl:Found untraced functions such as _jit_compiled_convolution_op, _update_step_xla while saving (showing 2 of 2). These functions will not be directly callable after loading.\n"
     ]
    },
    {
     "name": "stdout",
     "output_type": "stream",
     "text": [
      "INFO:tensorflow:Assets written to: cnn_models/model_1/assets\n"
     ]
    },
    {
     "name": "stderr",
     "output_type": "stream",
     "text": [
      "INFO:tensorflow:Assets written to: cnn_models/model_1/assets\n"
     ]
    }
   ],
   "source": [
    "i = 1\n",
    "model[i] = Sequential([\n",
    "    InputLayer(input_shape=[5, 5, 10]),\n",
    "    Conv2D(filters=3, kernel_size=3, strides=1, activation='relu'),\n",
    "    Flatten(),\n",
    "    Dense(10, activation='relu'),\n",
    "    Dense(1, activation='relu')\n",
    "])\n",
    "model[i].summary()\n",
    "model[i].compile(loss=\"mean_absolute_error\", optimizer=\"adam\", metrics=[\"mean_absolute_error\"])\n",
    "history = model[i].fit(\n",
    "    X_train_5x5, \n",
    "    y_train, \n",
    "    epochs=1000, \n",
    "    batch_size=256, \n",
    "    validation_split=0.2,\n",
    "    verbose=0,\n",
    "    callbacks=[keras.callbacks.TensorBoard(get_run_logdir(i)), earlystopping_cb])\n",
    "model[i].save(f'cnn_models/model_{i}')"
   ]
  },
  {
   "attachments": {},
   "cell_type": "markdown",
   "metadata": {},
   "source": [
    "## Model 2: 5x5 Input, 3x3x8 Kernel, 10 Dense"
   ]
  },
  {
   "cell_type": "code",
   "execution_count": 20,
   "metadata": {},
   "outputs": [
    {
     "name": "stdout",
     "output_type": "stream",
     "text": [
      "Model: \"sequential_9\"\n",
      "_________________________________________________________________\n",
      " Layer (type)                Output Shape              Param #   \n"
     ]
    },
    {
     "name": "stdout",
     "output_type": "stream",
     "text": [
      "=================================================================\n",
      " conv2d_9 (Conv2D)           (None, 3, 3, 8)           728       \n",
      "                                                                 \n",
      " flatten_9 (Flatten)         (None, 72)                0         \n",
      "                                                                 \n",
      " dense_23 (Dense)            (None, 10)                730       \n",
      "                                                                 \n",
      " dense_24 (Dense)            (None, 1)                 11        \n",
      "                                                                 \n",
      "=================================================================\n",
      "Total params: 1,469\n",
      "Trainable params: 1,469\n",
      "Non-trainable params: 0\n",
      "_________________________________________________________________\n"
     ]
    },
    {
     "name": "stderr",
     "output_type": "stream",
     "text": [
      "WARNING:absl:Found untraced functions such as _jit_compiled_convolution_op, _update_step_xla while saving (showing 2 of 2). These functions will not be directly callable after loading.\n"
     ]
    },
    {
     "name": "stdout",
     "output_type": "stream",
     "text": [
      "INFO:tensorflow:Assets written to: cnn_models/model_2/assets\n"
     ]
    },
    {
     "name": "stderr",
     "output_type": "stream",
     "text": [
      "INFO:tensorflow:Assets written to: cnn_models/model_2/assets\n"
     ]
    }
   ],
   "source": [
    "i = 2\n",
    "model[i] = Sequential([\n",
    "    InputLayer(input_shape=[5, 5, 10]),\n",
    "    Conv2D(filters=8, kernel_size=3, strides=1, activation='relu'),\n",
    "    Flatten(),\n",
    "    Dense(10, activation='relu'),\n",
    "    Dense(1, activation='relu')\n",
    "])\n",
    "model[i].summary()\n",
    "model[i].compile(loss=\"mean_absolute_error\", optimizer=\"adam\", metrics=[\"mean_absolute_error\"])\n",
    "history = model[i].fit(\n",
    "    X_train_5x5, \n",
    "    y_train, \n",
    "    epochs=1000, \n",
    "    batch_size=256, \n",
    "    validation_split=0.2,\n",
    "    verbose=0,\n",
    "    callbacks=[keras.callbacks.TensorBoard(get_run_logdir(i)), earlystopping_cb])\n",
    "model[i].save(f'cnn_models/model_{i}')"
   ]
  },
  {
   "attachments": {},
   "cell_type": "markdown",
   "metadata": {},
   "source": [
    "## Model 3: 5x5 Input, 3x3x12 Kernel, 10 Dense"
   ]
  },
  {
   "cell_type": "code",
   "execution_count": 21,
   "metadata": {},
   "outputs": [
    {
     "name": "stdout",
     "output_type": "stream",
     "text": [
      "Model: \"sequential_10\"\n",
      "_________________________________________________________________\n",
      " Layer (type)                Output Shape              Param #   \n",
      "=================================================================\n",
      " conv2d_10 (Conv2D)          (None, 3, 3, 12)          1092      \n",
      "                                                                 \n",
      " flatten_10 (Flatten)        (None, 108)               0         \n",
      "                                                                 \n",
      " dense_25 (Dense)            (None, 10)                1090      \n",
      "                                                                 \n",
      " dense_26 (Dense)            (None, 1)                 11        \n",
      "                                                                 \n",
      "=================================================================\n",
      "Total params: 2,193\n",
      "Trainable params: 2,193\n",
      "Non-trainable params: 0\n",
      "_________________________________________________________________\n"
     ]
    },
    {
     "name": "stderr",
     "output_type": "stream",
     "text": [
      "WARNING:absl:Found untraced functions such as _jit_compiled_convolution_op, _update_step_xla while saving (showing 2 of 2). These functions will not be directly callable after loading.\n"
     ]
    },
    {
     "name": "stdout",
     "output_type": "stream",
     "text": [
      "INFO:tensorflow:Assets written to: cnn_models/model_3/assets\n"
     ]
    },
    {
     "name": "stderr",
     "output_type": "stream",
     "text": [
      "INFO:tensorflow:Assets written to: cnn_models/model_3/assets\n"
     ]
    }
   ],
   "source": [
    "i = 3\n",
    "model[i] = Sequential([\n",
    "    InputLayer(input_shape=[5, 5, 10]),\n",
    "    Conv2D(filters=12, kernel_size=3, strides=1, activation='relu'),\n",
    "    Flatten(),\n",
    "    Dense(10, activation='relu'),\n",
    "    Dense(1, activation='relu')\n",
    "])\n",
    "model[i].summary()\n",
    "model[i].compile(loss=\"mean_absolute_error\", optimizer=\"adam\", metrics=[\"mean_absolute_error\"])\n",
    "history = model[i].fit(\n",
    "    X_train_5x5, \n",
    "    y_train, \n",
    "    epochs=1000, \n",
    "    batch_size=256, \n",
    "    validation_split=0.2,\n",
    "    verbose=0,\n",
    "    callbacks=[keras.callbacks.TensorBoard(get_run_logdir(i)), earlystopping_cb])\n",
    "model[i].save(f'cnn_models/model_{i}')"
   ]
  },
  {
   "attachments": {},
   "cell_type": "markdown",
   "metadata": {},
   "source": [
    "## Model 4: 5x5 Input, 3x3x8 Kernel, 50 Dense, 10 Dense"
   ]
  },
  {
   "cell_type": "code",
   "execution_count": 22,
   "metadata": {},
   "outputs": [
    {
     "name": "stdout",
     "output_type": "stream",
     "text": [
      "Model: \"sequential_11\"\n",
      "_________________________________________________________________\n",
      " Layer (type)                Output Shape              Param #   \n",
      "=================================================================\n",
      " conv2d_11 (Conv2D)          (None, 3, 3, 8)           728       \n",
      "                                                                 \n",
      " flatten_11 (Flatten)        (None, 72)                0         \n",
      "                                                                 \n",
      " dense_27 (Dense)            (None, 50)                3650      \n",
      "                                                                 \n",
      " dense_28 (Dense)            (None, 10)                510       \n",
      "                                                                 \n",
      " dense_29 (Dense)            (None, 1)                 11        \n",
      "                                                                 \n",
      "=================================================================\n",
      "Total params: 4,899\n",
      "Trainable params: 4,899\n",
      "Non-trainable params: 0\n",
      "_________________________________________________________________\n"
     ]
    },
    {
     "name": "stderr",
     "output_type": "stream",
     "text": [
      "WARNING:absl:Found untraced functions such as _jit_compiled_convolution_op, _update_step_xla while saving (showing 2 of 2). These functions will not be directly callable after loading.\n"
     ]
    },
    {
     "name": "stdout",
     "output_type": "stream",
     "text": [
      "INFO:tensorflow:Assets written to: cnn_models/model_4/assets\n"
     ]
    },
    {
     "name": "stderr",
     "output_type": "stream",
     "text": [
      "INFO:tensorflow:Assets written to: cnn_models/model_4/assets\n"
     ]
    }
   ],
   "source": [
    "i = 4\n",
    "model[i] = Sequential([\n",
    "    InputLayer(input_shape=[5, 5, 10]),\n",
    "    Conv2D(filters=8, kernel_size=3, strides=1, activation='relu'),\n",
    "    Flatten(),\n",
    "    Dense(50, activation='relu'),\n",
    "    Dense(10, activation='relu'),\n",
    "    Dense(1, activation='relu')\n",
    "])\n",
    "model[i].summary()\n",
    "model[i].compile(loss=\"mean_absolute_error\", optimizer=\"adam\", metrics=[\"mean_absolute_error\"])\n",
    "history = model[i].fit(\n",
    "    X_train_5x5, \n",
    "    y_train, \n",
    "    epochs=1000, \n",
    "    batch_size=256, \n",
    "    validation_split=0.2,\n",
    "    verbose=0,\n",
    "    callbacks=[keras.callbacks.TensorBoard(get_run_logdir(i)), earlystopping_cb])\n",
    "model[i].save(f'cnn_models/model_{i}')"
   ]
  },
  {
   "attachments": {},
   "cell_type": "markdown",
   "metadata": {},
   "source": [
    "## Model 5: 5x5 Input, 3x3x8 Kernel, 0.2 Dropout, 50 Dense, 10 Dense"
   ]
  },
  {
   "cell_type": "code",
   "execution_count": 23,
   "metadata": {},
   "outputs": [
    {
     "name": "stdout",
     "output_type": "stream",
     "text": [
      "Model: \"sequential_12\"\n",
      "_________________________________________________________________\n",
      " Layer (type)                Output Shape              Param #   \n",
      "=================================================================\n",
      " conv2d_12 (Conv2D)          (None, 3, 3, 8)           728       \n",
      "                                                                 \n",
      " flatten_12 (Flatten)        (None, 72)                0         \n",
      "                                                                 \n",
      " dropout_3 (Dropout)         (None, 72)                0         \n",
      "                                                                 \n",
      " dense_30 (Dense)            (None, 50)                3650      \n",
      "                                                                 \n",
      " dense_31 (Dense)            (None, 10)                510       \n",
      "                                                                 \n",
      " dense_32 (Dense)            (None, 1)                 11        \n",
      "                                                                 \n",
      "=================================================================\n",
      "Total params: 4,899\n",
      "Trainable params: 4,899\n",
      "Non-trainable params: 0\n",
      "_________________________________________________________________\n"
     ]
    },
    {
     "name": "stderr",
     "output_type": "stream",
     "text": [
      "2023-06-20 17:30:53.098228: I tensorflow/core/common_runtime/executor.cc:1197] [/device:CPU:0] (DEBUG INFO) Executor start aborting (this does not indicate an error and you can ignore this message): INVALID_ARGUMENT: You must feed a value for placeholder tensor 'inputs' with dtype float and shape [?,72]\n",
      "\t [[{{node inputs}}]]\n",
      "2023-06-20 17:30:53.231527: I tensorflow/core/common_runtime/executor.cc:1197] [/device:CPU:0] (DEBUG INFO) Executor start aborting (this does not indicate an error and you can ignore this message): INVALID_ARGUMENT: You must feed a value for placeholder tensor 'inputs' with dtype float and shape [?,72]\n",
      "\t [[{{node inputs}}]]\n",
      "WARNING:absl:Found untraced functions such as _jit_compiled_convolution_op, _update_step_xla while saving (showing 2 of 2). These functions will not be directly callable after loading.\n"
     ]
    },
    {
     "name": "stdout",
     "output_type": "stream",
     "text": [
      "INFO:tensorflow:Assets written to: cnn_models/model_5/assets\n"
     ]
    },
    {
     "name": "stderr",
     "output_type": "stream",
     "text": [
      "INFO:tensorflow:Assets written to: cnn_models/model_5/assets\n"
     ]
    }
   ],
   "source": [
    "i = 5\n",
    "model[i] = Sequential([\n",
    "    InputLayer(input_shape=[5, 5, 10]),\n",
    "    Conv2D(filters=8, kernel_size=3, strides=1, activation='relu'),\n",
    "    Flatten(),\n",
    "    Dropout(0.2),\n",
    "    Dense(50, activation='relu'),\n",
    "    Dense(10, activation='relu'),\n",
    "    Dense(1, activation='relu')\n",
    "])\n",
    "model[i].summary()\n",
    "model[i].compile(loss=\"mean_absolute_error\", optimizer=\"adam\", metrics=[\"mean_absolute_error\"])\n",
    "history = model[i].fit(\n",
    "    X_train_5x5, \n",
    "    y_train, \n",
    "    epochs=1000, \n",
    "    batch_size=256, \n",
    "    validation_split=0.2,\n",
    "    verbose=0,\n",
    "    callbacks=[keras.callbacks.TensorBoard(get_run_logdir(i)), earlystopping_cb])\n",
    "model[i].save(f'cnn_models/model_{i}')"
   ]
  },
  {
   "attachments": {},
   "cell_type": "markdown",
   "metadata": {},
   "source": [
    "## Model 6: 5x5 Input, 3x3x8 Kernel, 0.1 Dropout, 50 Dense, 10 Dense"
   ]
  },
  {
   "cell_type": "code",
   "execution_count": 24,
   "metadata": {},
   "outputs": [
    {
     "name": "stdout",
     "output_type": "stream",
     "text": [
      "Model: \"sequential_13\"\n",
      "_________________________________________________________________\n",
      " Layer (type)                Output Shape              Param #   \n",
      "=================================================================\n",
      " conv2d_13 (Conv2D)          (None, 3, 3, 8)           728       \n",
      "                                                                 \n",
      " flatten_13 (Flatten)        (None, 72)                0         \n",
      "                                                                 \n",
      " dropout_4 (Dropout)         (None, 72)                0         \n",
      "                                                                 \n",
      " dense_33 (Dense)            (None, 50)                3650      \n",
      "                                                                 \n",
      " dense_34 (Dense)            (None, 10)                510       \n",
      "                                                                 \n",
      " dense_35 (Dense)            (None, 1)                 11        \n",
      "                                                                 \n",
      "=================================================================\n",
      "Total params: 4,899\n",
      "Trainable params: 4,899\n",
      "Non-trainable params: 0\n",
      "_________________________________________________________________\n"
     ]
    },
    {
     "name": "stderr",
     "output_type": "stream",
     "text": [
      "2023-06-20 17:33:21.697621: I tensorflow/core/common_runtime/executor.cc:1197] [/device:CPU:0] (DEBUG INFO) Executor start aborting (this does not indicate an error and you can ignore this message): INVALID_ARGUMENT: You must feed a value for placeholder tensor 'inputs' with dtype float and shape [?,72]\n",
      "\t [[{{node inputs}}]]\n",
      "2023-06-20 17:33:21.843350: I tensorflow/core/common_runtime/executor.cc:1197] [/device:CPU:0] (DEBUG INFO) Executor start aborting (this does not indicate an error and you can ignore this message): INVALID_ARGUMENT: You must feed a value for placeholder tensor 'inputs' with dtype float and shape [?,72]\n",
      "\t [[{{node inputs}}]]\n",
      "WARNING:absl:Found untraced functions such as _jit_compiled_convolution_op, _update_step_xla while saving (showing 2 of 2). These functions will not be directly callable after loading.\n"
     ]
    },
    {
     "name": "stdout",
     "output_type": "stream",
     "text": [
      "INFO:tensorflow:Assets written to: cnn_models/model_6/assets\n"
     ]
    },
    {
     "name": "stderr",
     "output_type": "stream",
     "text": [
      "INFO:tensorflow:Assets written to: cnn_models/model_6/assets\n"
     ]
    }
   ],
   "source": [
    "i = 6\n",
    "model[i] = Sequential([\n",
    "    InputLayer(input_shape=[5, 5, 10]),\n",
    "    Conv2D(filters=8, kernel_size=3, strides=1, activation='relu'),\n",
    "    Flatten(),\n",
    "    Dropout(0.1),\n",
    "    Dense(50, activation='relu'),\n",
    "    Dense(10, activation='relu'),\n",
    "    Dense(1, activation='relu')\n",
    "])\n",
    "model[i].summary()\n",
    "model[i].compile(loss=\"mean_absolute_error\", optimizer=\"adam\", metrics=[\"mean_absolute_error\"])\n",
    "history = model[i].fit(\n",
    "    X_train_5x5, \n",
    "    y_train, \n",
    "    epochs=1000, \n",
    "    batch_size=256, \n",
    "    validation_split=0.2,\n",
    "    verbose=0,\n",
    "    callbacks=[keras.callbacks.TensorBoard(get_run_logdir(i)), earlystopping_cb])\n",
    "model[i].save(f'cnn_models/model_{i}')"
   ]
  },
  {
   "attachments": {},
   "cell_type": "markdown",
   "metadata": {},
   "source": [
    "## Model 7: 7x7 Input, 3x3x3 Kernel, 10 Dense"
   ]
  },
  {
   "cell_type": "code",
   "execution_count": 25,
   "metadata": {},
   "outputs": [
    {
     "name": "stdout",
     "output_type": "stream",
     "text": [
      "Model: \"sequential_14\"\n",
      "_________________________________________________________________\n",
      " Layer (type)                Output Shape              Param #   \n",
      "=================================================================\n",
      " conv2d_14 (Conv2D)          (None, 5, 5, 3)           273       \n",
      "                                                                 \n",
      " flatten_14 (Flatten)        (None, 75)                0         \n",
      "                                                                 \n",
      " dense_36 (Dense)            (None, 10)                760       \n",
      "                                                                 \n",
      " dense_37 (Dense)            (None, 1)                 11        \n",
      "                                                                 \n",
      "=================================================================\n",
      "Total params: 1,044\n",
      "Trainable params: 1,044\n",
      "Non-trainable params: 0\n",
      "_________________________________________________________________\n"
     ]
    },
    {
     "name": "stderr",
     "output_type": "stream",
     "text": [
      "2023-06-20 17:35:44.302708: W tensorflow/tsl/framework/cpu_allocator_impl.cc:83] Allocation of 54840800 exceeds 10% of free system memory.\n",
      "WARNING:absl:Found untraced functions such as _jit_compiled_convolution_op, _update_step_xla while saving (showing 2 of 2). These functions will not be directly callable after loading.\n"
     ]
    },
    {
     "name": "stdout",
     "output_type": "stream",
     "text": [
      "INFO:tensorflow:Assets written to: cnn_models/model_7/assets\n"
     ]
    },
    {
     "name": "stderr",
     "output_type": "stream",
     "text": [
      "INFO:tensorflow:Assets written to: cnn_models/model_7/assets\n"
     ]
    }
   ],
   "source": [
    "i = 7\n",
    "model[i] = Sequential([\n",
    "    InputLayer(input_shape=[7, 7, 10]),\n",
    "    Conv2D(filters=3, kernel_size=3, strides=1, activation='relu'),\n",
    "    Flatten(),\n",
    "    Dense(10, activation='relu'),\n",
    "    Dense(1, activation='relu')\n",
    "])\n",
    "model[i].summary()\n",
    "model[i].compile(loss=\"mean_absolute_error\", optimizer=\"adam\", metrics=[\"mean_absolute_error\"])\n",
    "history = model[i].fit(\n",
    "    X_train_7x7, \n",
    "    y_train, \n",
    "    epochs=1000, \n",
    "    batch_size=256, \n",
    "    validation_split=0.2,\n",
    "    verbose=0,\n",
    "    callbacks=[keras.callbacks.TensorBoard(get_run_logdir(i)), earlystopping_cb])\n",
    "model[i].save(f'cnn_models/model_{i}')"
   ]
  },
  {
   "attachments": {},
   "cell_type": "markdown",
   "metadata": {},
   "source": [
    "## Model 8: 7x7 Input, 3x3x8 Kernel, 10 Dense"
   ]
  },
  {
   "cell_type": "code",
   "execution_count": 26,
   "metadata": {},
   "outputs": [
    {
     "name": "stdout",
     "output_type": "stream",
     "text": [
      "Model: \"sequential_15\"\n",
      "_________________________________________________________________\n",
      " Layer (type)                Output Shape              Param #   \n",
      "=================================================================\n",
      " conv2d_15 (Conv2D)          (None, 5, 5, 8)           728       \n",
      "                                                                 \n",
      " flatten_15 (Flatten)        (None, 200)               0         \n",
      "                                                                 \n",
      " dense_38 (Dense)            (None, 10)                2010      \n",
      "                                                                 \n",
      " dense_39 (Dense)            (None, 1)                 11        \n",
      "                                                                 \n",
      "=================================================================\n",
      "Total params: 2,749\n",
      "Trainable params: 2,749\n",
      "Non-trainable params: 0\n",
      "_________________________________________________________________\n"
     ]
    },
    {
     "name": "stderr",
     "output_type": "stream",
     "text": [
      "2023-06-20 17:37:49.910016: W tensorflow/tsl/framework/cpu_allocator_impl.cc:83] Allocation of 54840800 exceeds 10% of free system memory.\n",
      "WARNING:absl:Found untraced functions such as _jit_compiled_convolution_op, _update_step_xla while saving (showing 2 of 2). These functions will not be directly callable after loading.\n"
     ]
    },
    {
     "name": "stdout",
     "output_type": "stream",
     "text": [
      "INFO:tensorflow:Assets written to: cnn_models/model_8/assets\n"
     ]
    },
    {
     "name": "stderr",
     "output_type": "stream",
     "text": [
      "INFO:tensorflow:Assets written to: cnn_models/model_8/assets\n"
     ]
    }
   ],
   "source": [
    "i = 8\n",
    "model[i] = Sequential([\n",
    "    InputLayer(input_shape=[7, 7, 10]),\n",
    "    Conv2D(filters=8, kernel_size=3, strides=1, activation='relu'),\n",
    "    Flatten(),\n",
    "    Dense(10, activation='relu'),\n",
    "    Dense(1, activation='relu')\n",
    "])\n",
    "model[i].summary()\n",
    "model[i].compile(loss=\"mean_absolute_error\", optimizer=\"adam\", metrics=[\"mean_absolute_error\"])\n",
    "history = model[i].fit(\n",
    "    X_train_7x7, \n",
    "    y_train, \n",
    "    epochs=1000, \n",
    "    batch_size=256, \n",
    "    validation_split=0.2,\n",
    "    verbose=0,\n",
    "    callbacks=[keras.callbacks.TensorBoard(get_run_logdir(i)), earlystopping_cb])\n",
    "model[i].save(f'cnn_models/model_{i}')"
   ]
  },
  {
   "attachments": {},
   "cell_type": "markdown",
   "metadata": {},
   "source": [
    "## Model 9: 7x7 Input, 3x3x8 Kernel, 50 Dense, 10 Dense"
   ]
  },
  {
   "cell_type": "code",
   "execution_count": 27,
   "metadata": {},
   "outputs": [
    {
     "name": "stdout",
     "output_type": "stream",
     "text": [
      "Model: \"sequential_16\"\n",
      "_________________________________________________________________\n",
      " Layer (type)                Output Shape              Param #   \n",
      "=================================================================\n",
      " conv2d_16 (Conv2D)          (None, 5, 5, 8)           728       \n",
      "                                                                 \n",
      " flatten_16 (Flatten)        (None, 200)               0         \n",
      "                                                                 \n",
      " dense_40 (Dense)            (None, 50)                10050     \n",
      "                                                                 \n",
      " dense_41 (Dense)            (None, 10)                510       \n",
      "                                                                 \n",
      " dense_42 (Dense)            (None, 1)                 11        \n",
      "                                                                 \n",
      "=================================================================\n",
      "Total params: 11,299\n",
      "Trainable params: 11,299\n",
      "Non-trainable params: 0\n",
      "_________________________________________________________________\n"
     ]
    },
    {
     "name": "stderr",
     "output_type": "stream",
     "text": [
      "2023-06-20 17:40:47.002086: W tensorflow/tsl/framework/cpu_allocator_impl.cc:83] Allocation of 54840800 exceeds 10% of free system memory.\n",
      "WARNING:absl:Found untraced functions such as _jit_compiled_convolution_op, _update_step_xla while saving (showing 2 of 2). These functions will not be directly callable after loading.\n"
     ]
    },
    {
     "name": "stdout",
     "output_type": "stream",
     "text": [
      "INFO:tensorflow:Assets written to: cnn_models/model_9/assets\n"
     ]
    },
    {
     "name": "stderr",
     "output_type": "stream",
     "text": [
      "INFO:tensorflow:Assets written to: cnn_models/model_9/assets\n"
     ]
    }
   ],
   "source": [
    "i = 9\n",
    "model[i] = Sequential([\n",
    "    InputLayer(input_shape=[7, 7, 10]),\n",
    "    Conv2D(filters=8, kernel_size=3, strides=1, activation='relu'),\n",
    "    Flatten(),\n",
    "    Dense(50, activation='relu'),\n",
    "    Dense(10, activation='relu'),\n",
    "    Dense(1, activation='relu')\n",
    "])\n",
    "model[i].summary()\n",
    "model[i].compile(loss=\"mean_absolute_error\", optimizer=\"adam\", metrics=[\"mean_absolute_error\"])\n",
    "history = model[i].fit(\n",
    "    X_train_7x7, \n",
    "    y_train, \n",
    "    epochs=1000, \n",
    "    batch_size=256, \n",
    "    validation_split=0.2,\n",
    "    verbose=0,\n",
    "    callbacks=[keras.callbacks.TensorBoard(get_run_logdir(i)), earlystopping_cb])\n",
    "model[i].save(f'cnn_models/model_{i}')"
   ]
  },
  {
   "attachments": {},
   "cell_type": "markdown",
   "metadata": {},
   "source": [
    "## Model 10: 7x7 Input, 3x3x8 Kernel, 0.2 Dropout, 50 Dense, 10 Dense"
   ]
  },
  {
   "cell_type": "code",
   "execution_count": 28,
   "metadata": {},
   "outputs": [
    {
     "name": "stdout",
     "output_type": "stream",
     "text": [
      "Model: \"sequential_17\"\n",
      "_________________________________________________________________\n",
      " Layer (type)                Output Shape              Param #   \n",
      "=================================================================\n",
      " conv2d_17 (Conv2D)          (None, 5, 5, 8)           728       \n",
      "                                                                 \n",
      " flatten_17 (Flatten)        (None, 200)               0         \n",
      "                                                                 \n",
      " dropout_5 (Dropout)         (None, 200)               0         \n",
      "                                                                 \n",
      " dense_43 (Dense)            (None, 50)                10050     \n",
      "                                                                 \n",
      " dense_44 (Dense)            (None, 10)                510       \n",
      "                                                                 \n",
      " dense_45 (Dense)            (None, 1)                 11        \n",
      "                                                                 \n",
      "=================================================================\n",
      "Total params: 11,299\n",
      "Trainable params: 11,299\n",
      "Non-trainable params: 0\n",
      "_________________________________________________________________\n"
     ]
    },
    {
     "name": "stderr",
     "output_type": "stream",
     "text": [
      "2023-06-20 17:42:46.654759: W tensorflow/tsl/framework/cpu_allocator_impl.cc:83] Allocation of 54840800 exceeds 10% of free system memory.\n",
      "2023-06-20 17:45:21.062725: I tensorflow/core/common_runtime/executor.cc:1197] [/device:CPU:0] (DEBUG INFO) Executor start aborting (this does not indicate an error and you can ignore this message): INVALID_ARGUMENT: You must feed a value for placeholder tensor 'inputs' with dtype float and shape [?,200]\n",
      "\t [[{{node inputs}}]]\n",
      "2023-06-20 17:45:21.187366: I tensorflow/core/common_runtime/executor.cc:1197] [/device:CPU:0] (DEBUG INFO) Executor start aborting (this does not indicate an error and you can ignore this message): INVALID_ARGUMENT: You must feed a value for placeholder tensor 'inputs' with dtype float and shape [?,200]\n",
      "\t [[{{node inputs}}]]\n",
      "WARNING:absl:Found untraced functions such as _jit_compiled_convolution_op, _update_step_xla while saving (showing 2 of 2). These functions will not be directly callable after loading.\n"
     ]
    },
    {
     "name": "stdout",
     "output_type": "stream",
     "text": [
      "INFO:tensorflow:Assets written to: cnn_models/model_10/assets\n"
     ]
    },
    {
     "name": "stderr",
     "output_type": "stream",
     "text": [
      "INFO:tensorflow:Assets written to: cnn_models/model_10/assets\n"
     ]
    }
   ],
   "source": [
    "i = 10\n",
    "model[i] = Sequential([\n",
    "    InputLayer(input_shape=[7, 7, 10]),\n",
    "    Conv2D(filters=8, kernel_size=3, strides=1, activation='relu'),\n",
    "    Flatten(),\n",
    "    Dropout(0.2),\n",
    "    Dense(50, activation='relu'),\n",
    "    Dense(10, activation='relu'),\n",
    "    Dense(1, activation='relu')\n",
    "])\n",
    "model[i].summary()\n",
    "model[i].compile(loss=\"mean_absolute_error\", optimizer=\"adam\", metrics=[\"mean_absolute_error\"])\n",
    "history = model[i].fit(\n",
    "    X_train_7x7, \n",
    "    y_train, \n",
    "    epochs=1000, \n",
    "    batch_size=256, \n",
    "    validation_split=0.2,\n",
    "    verbose=0,\n",
    "    callbacks=[keras.callbacks.TensorBoard(get_run_logdir(i)), earlystopping_cb])\n",
    "model[i].save(f'cnn_models/model_{i}')"
   ]
  },
  {
   "attachments": {},
   "cell_type": "markdown",
   "metadata": {},
   "source": [
    "## Model 11: 7x7 Input, 3x3x8 Kernel, 0.1 Dropout, 50 Dense, 0.1 Dropout, 10 Dense"
   ]
  },
  {
   "cell_type": "code",
   "execution_count": 29,
   "metadata": {},
   "outputs": [
    {
     "name": "stdout",
     "output_type": "stream",
     "text": [
      "Model: \"sequential_18\"\n",
      "_________________________________________________________________\n",
      " Layer (type)                Output Shape              Param #   \n",
      "=================================================================\n",
      " conv2d_18 (Conv2D)          (None, 5, 5, 8)           728       \n",
      "                                                                 \n",
      " flatten_18 (Flatten)        (None, 200)               0         \n",
      "                                                                 \n",
      " dropout_6 (Dropout)         (None, 200)               0         \n",
      "                                                                 \n",
      " dense_46 (Dense)            (None, 50)                10050     \n",
      "                                                                 \n",
      " dropout_7 (Dropout)         (None, 50)                0         \n",
      "                                                                 \n",
      " dense_47 (Dense)            (None, 10)                510       \n",
      "                                                                 \n",
      " dense_48 (Dense)            (None, 1)                 11        \n",
      "                                                                 \n",
      "=================================================================\n",
      "Total params: 11,299\n",
      "Trainable params: 11,299\n",
      "Non-trainable params: 0\n",
      "_________________________________________________________________\n"
     ]
    },
    {
     "name": "stderr",
     "output_type": "stream",
     "text": [
      "2023-06-20 17:45:21.681548: W tensorflow/tsl/framework/cpu_allocator_impl.cc:83] Allocation of 54840800 exceeds 10% of free system memory.\n",
      "2023-06-20 17:46:12.419504: I tensorflow/core/common_runtime/executor.cc:1197] [/device:CPU:0] (DEBUG INFO) Executor start aborting (this does not indicate an error and you can ignore this message): INVALID_ARGUMENT: You must feed a value for placeholder tensor 'inputs' with dtype float and shape [?,200]\n",
      "\t [[{{node inputs}}]]\n",
      "2023-06-20 17:46:12.431436: I tensorflow/core/common_runtime/executor.cc:1197] [/device:CPU:0] (DEBUG INFO) Executor start aborting (this does not indicate an error and you can ignore this message): INVALID_ARGUMENT: You must feed a value for placeholder tensor 'inputs' with dtype float and shape [?,50]\n",
      "\t [[{{node inputs}}]]\n",
      "2023-06-20 17:46:12.559290: I tensorflow/core/common_runtime/executor.cc:1197] [/device:CPU:0] (DEBUG INFO) Executor start aborting (this does not indicate an error and you can ignore this message): INVALID_ARGUMENT: You must feed a value for placeholder tensor 'inputs' with dtype float and shape [?,200]\n",
      "\t [[{{node inputs}}]]\n",
      "2023-06-20 17:46:12.582492: I tensorflow/core/common_runtime/executor.cc:1197] [/device:CPU:0] (DEBUG INFO) Executor start aborting (this does not indicate an error and you can ignore this message): INVALID_ARGUMENT: You must feed a value for placeholder tensor 'inputs' with dtype float and shape [?,50]\n",
      "\t [[{{node inputs}}]]\n",
      "WARNING:absl:Found untraced functions such as _jit_compiled_convolution_op, _update_step_xla while saving (showing 2 of 2). These functions will not be directly callable after loading.\n"
     ]
    },
    {
     "name": "stdout",
     "output_type": "stream",
     "text": [
      "INFO:tensorflow:Assets written to: cnn_models/model_11/assets\n"
     ]
    },
    {
     "name": "stderr",
     "output_type": "stream",
     "text": [
      "INFO:tensorflow:Assets written to: cnn_models/model_11/assets\n"
     ]
    }
   ],
   "source": [
    "i = 11\n",
    "model[i] = Sequential([\n",
    "    InputLayer(input_shape=[7, 7, 10]),\n",
    "    Conv2D(filters=8, kernel_size=3, strides=1, activation='relu'),\n",
    "    Flatten(),\n",
    "    Dropout(0.1),\n",
    "    Dense(50, activation='relu'),\n",
    "    Dropout(0.1),\n",
    "    Dense(10, activation='relu'),\n",
    "    Dense(1, activation='relu')\n",
    "])\n",
    "model[i].summary()\n",
    "model[i].compile(loss=\"mean_absolute_error\", optimizer=\"adam\", metrics=[\"mean_absolute_error\"])\n",
    "history = model[i].fit(\n",
    "    X_train_7x7, \n",
    "    y_train, \n",
    "    epochs=1000, \n",
    "    batch_size=256, \n",
    "    validation_split=0.2,\n",
    "    verbose=0,\n",
    "    callbacks=[keras.callbacks.TensorBoard(get_run_logdir(i)), earlystopping_cb])\n",
    "model[i].save(f'cnn_models/model_{i}')"
   ]
  },
  {
   "attachments": {},
   "cell_type": "markdown",
   "metadata": {},
   "source": [
    "## Model 12: 7x7 Input, 3x3x12 Kernel, 0.1 Dropout, 100 Dense, 0.1 Dropout, 50 Dense, 10 Dense"
   ]
  },
  {
   "cell_type": "code",
   "execution_count": 30,
   "metadata": {},
   "outputs": [
    {
     "name": "stdout",
     "output_type": "stream",
     "text": [
      "Model: \"sequential_19\"\n",
      "_________________________________________________________________\n",
      " Layer (type)                Output Shape              Param #   \n",
      "=================================================================\n",
      " conv2d_19 (Conv2D)          (None, 5, 5, 12)          1092      \n",
      "                                                                 \n",
      " flatten_19 (Flatten)        (None, 300)               0         \n",
      "                                                                 \n",
      " dropout_8 (Dropout)         (None, 300)               0         \n",
      "                                                                 \n",
      " dense_49 (Dense)            (None, 100)               30100     \n",
      "                                                                 \n",
      " dropout_9 (Dropout)         (None, 100)               0         \n",
      "                                                                 \n",
      " dense_50 (Dense)            (None, 50)                5050      \n",
      "                                                                 \n",
      " dense_51 (Dense)            (None, 10)                510       \n",
      "                                                                 \n",
      " dense_52 (Dense)            (None, 1)                 11        \n",
      "                                                                 \n",
      "=================================================================\n",
      "Total params: 36,763\n",
      "Trainable params: 36,763\n",
      "Non-trainable params: 0\n",
      "_________________________________________________________________\n"
     ]
    },
    {
     "name": "stderr",
     "output_type": "stream",
     "text": [
      "2023-06-20 17:51:36.372782: I tensorflow/core/common_runtime/executor.cc:1197] [/device:CPU:0] (DEBUG INFO) Executor start aborting (this does not indicate an error and you can ignore this message): INVALID_ARGUMENT: You must feed a value for placeholder tensor 'inputs' with dtype float and shape [?,300]\n",
      "\t [[{{node inputs}}]]\n",
      "2023-06-20 17:51:36.395679: I tensorflow/core/common_runtime/executor.cc:1197] [/device:CPU:0] (DEBUG INFO) Executor start aborting (this does not indicate an error and you can ignore this message): INVALID_ARGUMENT: You must feed a value for placeholder tensor 'inputs' with dtype float and shape [?,100]\n",
      "\t [[{{node inputs}}]]\n",
      "2023-06-20 17:51:36.831962: I tensorflow/core/common_runtime/executor.cc:1197] [/device:CPU:0] (DEBUG INFO) Executor start aborting (this does not indicate an error and you can ignore this message): INVALID_ARGUMENT: You must feed a value for placeholder tensor 'inputs' with dtype float and shape [?,300]\n",
      "\t [[{{node inputs}}]]\n",
      "2023-06-20 17:51:36.897276: I tensorflow/core/common_runtime/executor.cc:1197] [/device:CPU:0] (DEBUG INFO) Executor start aborting (this does not indicate an error and you can ignore this message): INVALID_ARGUMENT: You must feed a value for placeholder tensor 'inputs' with dtype float and shape [?,100]\n",
      "\t [[{{node inputs}}]]\n",
      "WARNING:absl:Found untraced functions such as _jit_compiled_convolution_op, _update_step_xla while saving (showing 2 of 2). These functions will not be directly callable after loading.\n"
     ]
    },
    {
     "name": "stdout",
     "output_type": "stream",
     "text": [
      "INFO:tensorflow:Assets written to: cnn_models/model_12/assets\n"
     ]
    },
    {
     "name": "stderr",
     "output_type": "stream",
     "text": [
      "INFO:tensorflow:Assets written to: cnn_models/model_12/assets\n"
     ]
    }
   ],
   "source": [
    "i = 12\n",
    "model[i] = Sequential([\n",
    "    InputLayer(input_shape=[7, 7, 10]),\n",
    "    Conv2D(filters=12, kernel_size=3, strides=1, activation='relu'),\n",
    "    Flatten(),\n",
    "    Dropout(0.1),\n",
    "    Dense(100, activation='relu'),\n",
    "    Dropout(0.1),\n",
    "    Dense(50, activation='relu'),\n",
    "    Dense(10, activation='relu'),\n",
    "    Dense(1, activation='relu')\n",
    "])\n",
    "model[i].summary()\n",
    "model[i].compile(loss=\"mean_absolute_error\", optimizer=\"adam\", metrics=[\"mean_absolute_error\"])\n",
    "history = model[i].fit(\n",
    "    X_train_7x7, \n",
    "    y_train, \n",
    "    epochs=1000, \n",
    "    batch_size=256, \n",
    "    validation_split=0.2,\n",
    "    verbose=0,\n",
    "    callbacks=[keras.callbacks.TensorBoard(get_run_logdir(i)), earlystopping_cb])\n",
    "model[i].save(f'cnn_models/model_{i}')"
   ]
  },
  {
   "attachments": {},
   "cell_type": "markdown",
   "metadata": {},
   "source": [
    "## Model 13: 7x7 Input, 3x3x12 Kernel, 0.2 Dropout, 100 Dense, 0.2 Dropout, 50 Dense, 10 Dense"
   ]
  },
  {
   "cell_type": "code",
   "execution_count": 32,
   "metadata": {},
   "outputs": [
    {
     "name": "stdout",
     "output_type": "stream",
     "text": [
      "Model: \"sequential_21\"\n",
      "_________________________________________________________________\n",
      " Layer (type)                Output Shape              Param #   \n",
      "=================================================================\n",
      " conv2d_21 (Conv2D)          (None, 5, 5, 12)          1092      \n",
      "                                                                 \n",
      " flatten_21 (Flatten)        (None, 300)               0         \n",
      "                                                                 \n",
      " dropout_12 (Dropout)        (None, 300)               0         \n",
      "                                                                 \n",
      " dense_57 (Dense)            (None, 100)               30100     \n",
      "                                                                 \n",
      " dropout_13 (Dropout)        (None, 100)               0         \n",
      "                                                                 \n",
      " dense_58 (Dense)            (None, 50)                5050      \n",
      "                                                                 \n",
      " dense_59 (Dense)            (None, 10)                510       \n",
      "                                                                 \n",
      " dense_60 (Dense)            (None, 1)                 11        \n",
      "                                                                 \n",
      "=================================================================\n",
      "Total params: 36,763\n",
      "Trainable params: 36,763\n",
      "Non-trainable params: 0\n",
      "_________________________________________________________________\n"
     ]
    },
    {
     "name": "stderr",
     "output_type": "stream",
     "text": [
      "2023-06-20 17:56:26.509243: I tensorflow/core/common_runtime/executor.cc:1197] [/device:CPU:0] (DEBUG INFO) Executor start aborting (this does not indicate an error and you can ignore this message): INVALID_ARGUMENT: You must feed a value for placeholder tensor 'inputs' with dtype float and shape [?,300]\n",
      "\t [[{{node inputs}}]]\n",
      "2023-06-20 17:56:26.534389: I tensorflow/core/common_runtime/executor.cc:1197] [/device:CPU:0] (DEBUG INFO) Executor start aborting (this does not indicate an error and you can ignore this message): INVALID_ARGUMENT: You must feed a value for placeholder tensor 'inputs' with dtype float and shape [?,100]\n",
      "\t [[{{node inputs}}]]\n",
      "2023-06-20 17:56:26.839212: I tensorflow/core/common_runtime/executor.cc:1197] [/device:CPU:0] (DEBUG INFO) Executor start aborting (this does not indicate an error and you can ignore this message): INVALID_ARGUMENT: You must feed a value for placeholder tensor 'inputs' with dtype float and shape [?,300]\n",
      "\t [[{{node inputs}}]]\n",
      "2023-06-20 17:56:26.893898: I tensorflow/core/common_runtime/executor.cc:1197] [/device:CPU:0] (DEBUG INFO) Executor start aborting (this does not indicate an error and you can ignore this message): INVALID_ARGUMENT: You must feed a value for placeholder tensor 'inputs' with dtype float and shape [?,100]\n",
      "\t [[{{node inputs}}]]\n",
      "WARNING:absl:Found untraced functions such as _jit_compiled_convolution_op, _update_step_xla while saving (showing 2 of 2). These functions will not be directly callable after loading.\n"
     ]
    },
    {
     "name": "stdout",
     "output_type": "stream",
     "text": [
      "INFO:tensorflow:Assets written to: cnn_models/model_13/assets\n"
     ]
    },
    {
     "name": "stderr",
     "output_type": "stream",
     "text": [
      "INFO:tensorflow:Assets written to: cnn_models/model_13/assets\n"
     ]
    }
   ],
   "source": [
    "i = 13\n",
    "model[i] = Sequential([\n",
    "    InputLayer(input_shape=[7, 7, 10]),\n",
    "    Conv2D(filters=12, kernel_size=3, strides=1, activation='relu'),\n",
    "    Flatten(),\n",
    "    Dropout(0.2),\n",
    "    Dense(100, activation='relu'),\n",
    "    Dropout(0.2),\n",
    "    Dense(50, activation='relu'),\n",
    "    Dense(10, activation='relu'),\n",
    "    Dense(1, activation='relu')\n",
    "])\n",
    "model[i].summary()\n",
    "model[i].compile(loss=\"mean_absolute_error\", optimizer=\"adam\", metrics=[\"mean_absolute_error\"])\n",
    "history = model[i].fit(\n",
    "    X_train_7x7, \n",
    "    y_train, \n",
    "    epochs=1000, \n",
    "    batch_size=256, \n",
    "    validation_split=0.2,\n",
    "    verbose=0,\n",
    "    callbacks=[keras.callbacks.TensorBoard(get_run_logdir(i)), earlystopping_cb])\n",
    "model[i].save(f'cnn_models/model_{i}')"
   ]
  },
  {
   "attachments": {},
   "cell_type": "markdown",
   "metadata": {},
   "source": [
    "## Model 14: 7x7 Input, 3x3x12 Kernel, 20 Dense"
   ]
  },
  {
   "cell_type": "code",
   "execution_count": 33,
   "metadata": {},
   "outputs": [
    {
     "name": "stdout",
     "output_type": "stream",
     "text": [
      "Model: \"sequential_22\"\n",
      "_________________________________________________________________\n",
      " Layer (type)                Output Shape              Param #   \n",
      "=================================================================\n",
      " conv2d_22 (Conv2D)          (None, 5, 5, 12)          1092      \n",
      "                                                                 \n",
      " flatten_22 (Flatten)        (None, 300)               0         \n",
      "                                                                 \n",
      " dense_61 (Dense)            (None, 20)                6020      \n",
      "                                                                 \n",
      " dense_62 (Dense)            (None, 1)                 21        \n",
      "                                                                 \n",
      "=================================================================\n",
      "Total params: 7,133\n",
      "Trainable params: 7,133\n",
      "Non-trainable params: 0\n",
      "_________________________________________________________________\n"
     ]
    },
    {
     "name": "stderr",
     "output_type": "stream",
     "text": [
      "WARNING:absl:Found untraced functions such as _jit_compiled_convolution_op, _update_step_xla while saving (showing 2 of 2). These functions will not be directly callable after loading.\n"
     ]
    },
    {
     "name": "stdout",
     "output_type": "stream",
     "text": [
      "INFO:tensorflow:Assets written to: cnn_models/model_14/assets\n"
     ]
    },
    {
     "name": "stderr",
     "output_type": "stream",
     "text": [
      "INFO:tensorflow:Assets written to: cnn_models/model_14/assets\n"
     ]
    }
   ],
   "source": [
    "i = 14\n",
    "model[i] = Sequential([\n",
    "    InputLayer(input_shape=[7, 7, 10]),\n",
    "    Conv2D(filters=12, kernel_size=3, strides=1, activation='relu'),\n",
    "    Flatten(),\n",
    "    Dense(20, activation='relu'),\n",
    "    Dense(1, activation='relu')\n",
    "])\n",
    "model[i].summary()\n",
    "model[i].compile(loss=\"mean_absolute_error\", optimizer=\"adam\", metrics=[\"mean_absolute_error\"])\n",
    "history = model[i].fit(\n",
    "    X_train_7x7, \n",
    "    y_train, \n",
    "    epochs=1000, \n",
    "    batch_size=256, \n",
    "    validation_split=0.2,\n",
    "    verbose=0,\n",
    "    callbacks=[keras.callbacks.TensorBoard(get_run_logdir(i)), earlystopping_cb])\n",
    "model[i].save(f'cnn_models/model_{i}')"
   ]
  },
  {
   "attachments": {},
   "cell_type": "markdown",
   "metadata": {},
   "source": [
    "## Model 15: 7x7 Input, 3x3x12 Kernel, 0.05 Dropout, 20 Dense"
   ]
  },
  {
   "cell_type": "code",
   "execution_count": 34,
   "metadata": {},
   "outputs": [
    {
     "name": "stdout",
     "output_type": "stream",
     "text": [
      "Model: \"sequential_23\"\n",
      "_________________________________________________________________\n",
      " Layer (type)                Output Shape              Param #   \n",
      "=================================================================\n",
      " conv2d_23 (Conv2D)          (None, 5, 5, 12)          1092      \n",
      "                                                                 \n",
      " flatten_23 (Flatten)        (None, 300)               0         \n",
      "                                                                 \n",
      " dropout_14 (Dropout)        (None, 300)               0         \n",
      "                                                                 \n",
      " dense_63 (Dense)            (None, 20)                6020      \n",
      "                                                                 \n",
      " dense_64 (Dense)            (None, 1)                 21        \n",
      "                                                                 \n",
      "=================================================================\n",
      "Total params: 7,133\n",
      "Trainable params: 7,133\n",
      "Non-trainable params: 0\n",
      "_________________________________________________________________\n"
     ]
    },
    {
     "name": "stderr",
     "output_type": "stream",
     "text": [
      "2023-06-20 18:00:43.350795: I tensorflow/core/common_runtime/executor.cc:1197] [/device:CPU:0] (DEBUG INFO) Executor start aborting (this does not indicate an error and you can ignore this message): INVALID_ARGUMENT: You must feed a value for placeholder tensor 'inputs' with dtype float and shape [?,300]\n",
      "\t [[{{node inputs}}]]\n",
      "2023-06-20 18:00:43.550044: I tensorflow/core/common_runtime/executor.cc:1197] [/device:CPU:0] (DEBUG INFO) Executor start aborting (this does not indicate an error and you can ignore this message): INVALID_ARGUMENT: You must feed a value for placeholder tensor 'inputs' with dtype float and shape [?,300]\n",
      "\t [[{{node inputs}}]]\n",
      "WARNING:absl:Found untraced functions such as _jit_compiled_convolution_op, _update_step_xla while saving (showing 2 of 2). These functions will not be directly callable after loading.\n"
     ]
    },
    {
     "name": "stdout",
     "output_type": "stream",
     "text": [
      "INFO:tensorflow:Assets written to: cnn_models/model_15/assets\n"
     ]
    },
    {
     "name": "stderr",
     "output_type": "stream",
     "text": [
      "INFO:tensorflow:Assets written to: cnn_models/model_15/assets\n"
     ]
    }
   ],
   "source": [
    "i = 15\n",
    "model[i] = Sequential([\n",
    "    InputLayer(input_shape=[7, 7, 10]),\n",
    "    Conv2D(filters=12, kernel_size=3, strides=1, activation='relu'),\n",
    "    Flatten(),\n",
    "    Dropout(0.05),\n",
    "    Dense(20, activation='relu'),\n",
    "    Dense(1, activation='relu')\n",
    "])\n",
    "model[i].summary()\n",
    "model[i].compile(loss=\"mean_absolute_error\", optimizer=\"adam\", metrics=[\"mean_absolute_error\"])\n",
    "history = model[i].fit(\n",
    "    X_train_7x7, \n",
    "    y_train, \n",
    "    epochs=1000, \n",
    "    batch_size=256, \n",
    "    validation_split=0.2,\n",
    "    verbose=0,\n",
    "    callbacks=[keras.callbacks.TensorBoard(get_run_logdir(i)), earlystopping_cb])\n",
    "model[i].save(f'cnn_models/model_{i}')"
   ]
  },
  {
   "attachments": {},
   "cell_type": "markdown",
   "metadata": {},
   "source": [
    "## Model 16: 7x7 Input, 3x3x12 Kernel, 0.05 Dropout, 40 Dense"
   ]
  },
  {
   "cell_type": "code",
   "execution_count": 35,
   "metadata": {},
   "outputs": [
    {
     "name": "stdout",
     "output_type": "stream",
     "text": [
      "Model: \"sequential_24\"\n",
      "_________________________________________________________________\n",
      " Layer (type)                Output Shape              Param #   \n",
      "=================================================================\n",
      " conv2d_24 (Conv2D)          (None, 5, 5, 12)          1092      \n",
      "                                                                 \n",
      " flatten_24 (Flatten)        (None, 300)               0         \n",
      "                                                                 \n",
      " dropout_15 (Dropout)        (None, 300)               0         \n",
      "                                                                 \n",
      " dense_65 (Dense)            (None, 40)                12040     \n",
      "                                                                 \n",
      " dense_66 (Dense)            (None, 1)                 41        \n",
      "                                                                 \n",
      "=================================================================\n",
      "Total params: 13,173\n",
      "Trainable params: 13,173\n",
      "Non-trainable params: 0\n",
      "_________________________________________________________________\n"
     ]
    },
    {
     "name": "stderr",
     "output_type": "stream",
     "text": [
      "2023-06-20 18:02:29.307222: I tensorflow/core/common_runtime/executor.cc:1197] [/device:CPU:0] (DEBUG INFO) Executor start aborting (this does not indicate an error and you can ignore this message): INVALID_ARGUMENT: You must feed a value for placeholder tensor 'inputs' with dtype float and shape [?,300]\n",
      "\t [[{{node inputs}}]]\n",
      "2023-06-20 18:02:29.498636: I tensorflow/core/common_runtime/executor.cc:1197] [/device:CPU:0] (DEBUG INFO) Executor start aborting (this does not indicate an error and you can ignore this message): INVALID_ARGUMENT: You must feed a value for placeholder tensor 'inputs' with dtype float and shape [?,300]\n",
      "\t [[{{node inputs}}]]\n",
      "WARNING:absl:Found untraced functions such as _jit_compiled_convolution_op, _update_step_xla while saving (showing 2 of 2). These functions will not be directly callable after loading.\n"
     ]
    },
    {
     "name": "stdout",
     "output_type": "stream",
     "text": [
      "INFO:tensorflow:Assets written to: cnn_models/model_16/assets\n"
     ]
    },
    {
     "name": "stderr",
     "output_type": "stream",
     "text": [
      "INFO:tensorflow:Assets written to: cnn_models/model_16/assets\n"
     ]
    }
   ],
   "source": [
    "i = 16\n",
    "model[i] = Sequential([\n",
    "    InputLayer(input_shape=[7, 7, 10]),\n",
    "    Conv2D(filters=12, kernel_size=3, strides=1, activation='relu'),\n",
    "    Flatten(),\n",
    "    Dropout(0.05),\n",
    "    Dense(40, activation='relu'),\n",
    "    Dense(1, activation='relu')\n",
    "])\n",
    "model[i].summary()\n",
    "model[i].compile(loss=\"mean_absolute_error\", optimizer=\"adam\", metrics=[\"mean_absolute_error\"])\n",
    "history = model[i].fit(\n",
    "    X_train_7x7, \n",
    "    y_train, \n",
    "    epochs=1000, \n",
    "    batch_size=256, \n",
    "    validation_split=0.2,\n",
    "    verbose=0,\n",
    "    callbacks=[keras.callbacks.TensorBoard(get_run_logdir(i)), earlystopping_cb])\n",
    "model[i].save(f'cnn_models/model_{i}')"
   ]
  },
  {
   "attachments": {},
   "cell_type": "markdown",
   "metadata": {},
   "source": [
    "## Model 17: 7x7 Input, 3x3x12 Kernel, 0.1 Dropout, 80 Dense"
   ]
  },
  {
   "cell_type": "code",
   "execution_count": 36,
   "metadata": {},
   "outputs": [
    {
     "name": "stdout",
     "output_type": "stream",
     "text": [
      "Model: \"sequential_25\"\n",
      "_________________________________________________________________\n",
      " Layer (type)                Output Shape              Param #   \n",
      "=================================================================\n",
      " conv2d_25 (Conv2D)          (None, 5, 5, 12)          1092      \n",
      "                                                                 \n",
      " flatten_25 (Flatten)        (None, 300)               0         \n",
      "                                                                 \n",
      " dropout_16 (Dropout)        (None, 300)               0         \n",
      "                                                                 \n",
      " dense_67 (Dense)            (None, 80)                24080     \n",
      "                                                                 \n",
      " dense_68 (Dense)            (None, 1)                 81        \n",
      "                                                                 \n",
      "=================================================================\n",
      "Total params: 25,253\n",
      "Trainable params: 25,253\n",
      "Non-trainable params: 0\n",
      "_________________________________________________________________\n"
     ]
    },
    {
     "name": "stderr",
     "output_type": "stream",
     "text": [
      "2023-06-20 18:06:21.909556: I tensorflow/core/common_runtime/executor.cc:1197] [/device:CPU:0] (DEBUG INFO) Executor start aborting (this does not indicate an error and you can ignore this message): INVALID_ARGUMENT: You must feed a value for placeholder tensor 'inputs' with dtype float and shape [?,300]\n",
      "\t [[{{node inputs}}]]\n",
      "2023-06-20 18:06:22.100356: I tensorflow/core/common_runtime/executor.cc:1197] [/device:CPU:0] (DEBUG INFO) Executor start aborting (this does not indicate an error and you can ignore this message): INVALID_ARGUMENT: You must feed a value for placeholder tensor 'inputs' with dtype float and shape [?,300]\n",
      "\t [[{{node inputs}}]]\n",
      "WARNING:absl:Found untraced functions such as _jit_compiled_convolution_op, _update_step_xla while saving (showing 2 of 2). These functions will not be directly callable after loading.\n"
     ]
    },
    {
     "name": "stdout",
     "output_type": "stream",
     "text": [
      "INFO:tensorflow:Assets written to: cnn_models/model_17/assets\n"
     ]
    },
    {
     "name": "stderr",
     "output_type": "stream",
     "text": [
      "INFO:tensorflow:Assets written to: cnn_models/model_17/assets\n"
     ]
    }
   ],
   "source": [
    "i = 17\n",
    "model[i] = Sequential([\n",
    "    InputLayer(input_shape=[7, 7, 10]),\n",
    "    Conv2D(filters=12, kernel_size=3, strides=1, activation='relu'),\n",
    "    Flatten(),\n",
    "    Dropout(0.05),\n",
    "    Dense(80, activation='relu'),\n",
    "    Dense(1, activation='relu')\n",
    "])\n",
    "model[i].summary()\n",
    "model[i].compile(loss=\"mean_absolute_error\", optimizer=\"adam\", metrics=[\"mean_absolute_error\"])\n",
    "history = model[i].fit(\n",
    "    X_train_7x7, \n",
    "    y_train, \n",
    "    epochs=1000, \n",
    "    batch_size=256, \n",
    "    validation_split=0.2,\n",
    "    verbose=0,\n",
    "    callbacks=[keras.callbacks.TensorBoard(get_run_logdir(i)), earlystopping_cb])\n",
    "model[i].save(f'cnn_models/model_{i}')"
   ]
  },
  {
   "attachments": {},
   "cell_type": "markdown",
   "metadata": {},
   "source": [
    "## Model 18: 7x7 Input, 3x3x12 Kernel, 0.15 Dropout, 120 Dense"
   ]
  },
  {
   "cell_type": "code",
   "execution_count": 37,
   "metadata": {},
   "outputs": [
    {
     "name": "stdout",
     "output_type": "stream",
     "text": [
      "Model: \"sequential_26\"\n",
      "_________________________________________________________________\n",
      " Layer (type)                Output Shape              Param #   \n",
      "=================================================================\n",
      " conv2d_26 (Conv2D)          (None, 5, 5, 12)          1092      \n",
      "                                                                 \n",
      " flatten_26 (Flatten)        (None, 300)               0         \n",
      "                                                                 \n",
      " dropout_17 (Dropout)        (None, 300)               0         \n",
      "                                                                 \n",
      " dense_69 (Dense)            (None, 120)               36120     \n",
      "                                                                 \n",
      " dense_70 (Dense)            (None, 1)                 121       \n",
      "                                                                 \n",
      "=================================================================\n",
      "Total params: 37,333\n",
      "Trainable params: 37,333\n",
      "Non-trainable params: 0\n",
      "_________________________________________________________________\n"
     ]
    },
    {
     "name": "stderr",
     "output_type": "stream",
     "text": [
      "2023-06-20 18:09:05.567160: I tensorflow/core/common_runtime/executor.cc:1197] [/device:CPU:0] (DEBUG INFO) Executor start aborting (this does not indicate an error and you can ignore this message): INVALID_ARGUMENT: You must feed a value for placeholder tensor 'inputs' with dtype float and shape [?,300]\n",
      "\t [[{{node inputs}}]]\n",
      "2023-06-20 18:09:05.707053: I tensorflow/core/common_runtime/executor.cc:1197] [/device:CPU:0] (DEBUG INFO) Executor start aborting (this does not indicate an error and you can ignore this message): INVALID_ARGUMENT: You must feed a value for placeholder tensor 'inputs' with dtype float and shape [?,300]\n",
      "\t [[{{node inputs}}]]\n",
      "WARNING:absl:Found untraced functions such as _jit_compiled_convolution_op, _update_step_xla while saving (showing 2 of 2). These functions will not be directly callable after loading.\n"
     ]
    },
    {
     "name": "stdout",
     "output_type": "stream",
     "text": [
      "INFO:tensorflow:Assets written to: cnn_models/model_18/assets\n"
     ]
    },
    {
     "name": "stderr",
     "output_type": "stream",
     "text": [
      "INFO:tensorflow:Assets written to: cnn_models/model_18/assets\n"
     ]
    }
   ],
   "source": [
    "i = 18\n",
    "model[i] = Sequential([\n",
    "    InputLayer(input_shape=[7, 7, 10]),\n",
    "    Conv2D(filters=12, kernel_size=3, strides=1, activation='relu'),\n",
    "    Flatten(),\n",
    "    Dropout(0.15),\n",
    "    Dense(120, activation='relu'),\n",
    "    Dense(1, activation='relu')\n",
    "])\n",
    "model[i].summary()\n",
    "model[i].compile(loss=\"mean_absolute_error\", optimizer=\"adam\", metrics=[\"mean_absolute_error\"])\n",
    "history = model[i].fit(\n",
    "    X_train_7x7, \n",
    "    y_train, \n",
    "    epochs=1000, \n",
    "    batch_size=256, \n",
    "    validation_split=0.2,\n",
    "    verbose=0,\n",
    "    callbacks=[keras.callbacks.TensorBoard(get_run_logdir(i)), earlystopping_cb])\n",
    "model[i].save(f'cnn_models/model_{i}')"
   ]
  },
  {
   "attachments": {},
   "cell_type": "markdown",
   "metadata": {},
   "source": [
    "## Model 19: 9x9 Input, 3x3x3 Kernel, 10 Dense"
   ]
  },
  {
   "cell_type": "code",
   "execution_count": 38,
   "metadata": {},
   "outputs": [
    {
     "name": "stdout",
     "output_type": "stream",
     "text": [
      "Model: \"sequential_27\"\n",
      "_________________________________________________________________\n",
      " Layer (type)                Output Shape              Param #   \n",
      "=================================================================\n",
      " conv2d_27 (Conv2D)          (None, 7, 7, 3)           273       \n",
      "                                                                 \n",
      " flatten_27 (Flatten)        (None, 147)               0         \n",
      "                                                                 \n",
      " dense_71 (Dense)            (None, 10)                1480      \n",
      "                                                                 \n",
      " dense_72 (Dense)            (None, 1)                 11        \n",
      "                                                                 \n",
      "=================================================================\n",
      "Total params: 1,764\n",
      "Trainable params: 1,764\n",
      "Non-trainable params: 0\n",
      "_________________________________________________________________\n"
     ]
    },
    {
     "name": "stderr",
     "output_type": "stream",
     "text": [
      "WARNING:absl:Found untraced functions such as _jit_compiled_convolution_op, _update_step_xla while saving (showing 2 of 2). These functions will not be directly callable after loading.\n"
     ]
    },
    {
     "name": "stdout",
     "output_type": "stream",
     "text": [
      "INFO:tensorflow:Assets written to: cnn_models/model_19/assets\n"
     ]
    },
    {
     "name": "stderr",
     "output_type": "stream",
     "text": [
      "INFO:tensorflow:Assets written to: cnn_models/model_19/assets\n"
     ]
    }
   ],
   "source": [
    "i = 19\n",
    "model[i] = Sequential([\n",
    "    InputLayer(input_shape=[9, 9, 10]),\n",
    "    Conv2D(filters=3, kernel_size=3, strides=1, activation='relu'),\n",
    "    Flatten(),\n",
    "    Dense(10, activation='relu'),\n",
    "    Dense(1, activation='relu')\n",
    "])\n",
    "model[i].summary()\n",
    "model[i].compile(loss=\"mean_absolute_error\", optimizer=\"adam\", metrics=[\"mean_absolute_error\"])\n",
    "history = model[i].fit(\n",
    "    X_train_9x9, \n",
    "    y_train, \n",
    "    epochs=1000, \n",
    "    batch_size=256, \n",
    "    validation_split=0.2,\n",
    "    verbose=0,\n",
    "    callbacks=[keras.callbacks.TensorBoard(get_run_logdir(i)), earlystopping_cb])\n",
    "model[i].save(f'cnn_models/model_{i}')"
   ]
  },
  {
   "attachments": {},
   "cell_type": "markdown",
   "metadata": {},
   "source": [
    "## Model 20: 9x9 Input, 3x3x8 Kernel, 10 Dense"
   ]
  },
  {
   "cell_type": "code",
   "execution_count": 39,
   "metadata": {},
   "outputs": [
    {
     "name": "stdout",
     "output_type": "stream",
     "text": [
      "Model: \"sequential_28\"\n",
      "_________________________________________________________________\n",
      " Layer (type)                Output Shape              Param #   \n",
      "=================================================================\n",
      " conv2d_28 (Conv2D)          (None, 7, 7, 8)           728       \n",
      "                                                                 \n",
      " flatten_28 (Flatten)        (None, 392)               0         \n",
      "                                                                 \n",
      " dense_73 (Dense)            (None, 10)                3930      \n",
      "                                                                 \n",
      " dense_74 (Dense)            (None, 1)                 11        \n",
      "                                                                 \n",
      "=================================================================\n",
      "Total params: 4,669\n",
      "Trainable params: 4,669\n",
      "Non-trainable params: 0\n",
      "_________________________________________________________________\n"
     ]
    },
    {
     "name": "stderr",
     "output_type": "stream",
     "text": [
      "WARNING:absl:Found untraced functions such as _jit_compiled_convolution_op, _update_step_xla while saving (showing 2 of 2). These functions will not be directly callable after loading.\n"
     ]
    },
    {
     "name": "stdout",
     "output_type": "stream",
     "text": [
      "INFO:tensorflow:Assets written to: cnn_models/model_20/assets\n"
     ]
    },
    {
     "name": "stderr",
     "output_type": "stream",
     "text": [
      "INFO:tensorflow:Assets written to: cnn_models/model_20/assets\n"
     ]
    }
   ],
   "source": [
    "i = 20\n",
    "model[i] = Sequential([\n",
    "    InputLayer(input_shape=[9, 9, 10]),\n",
    "    Conv2D(filters=8, kernel_size=3, strides=1, activation='relu'),\n",
    "    Flatten(),\n",
    "    Dense(10, activation='relu'),\n",
    "    Dense(1, activation='relu')\n",
    "])\n",
    "model[i].summary()\n",
    "model[i].compile(loss=\"mean_absolute_error\", optimizer=\"adam\", metrics=[\"mean_absolute_error\"])\n",
    "history = model[i].fit(\n",
    "    X_train_9x9, \n",
    "    y_train, \n",
    "    epochs=1000, \n",
    "    batch_size=256, \n",
    "    validation_split=0.2,\n",
    "    verbose=0,\n",
    "    callbacks=[keras.callbacks.TensorBoard(get_run_logdir(i)), earlystopping_cb])\n",
    "model[i].save(f'cnn_models/model_{i}')"
   ]
  },
  {
   "attachments": {},
   "cell_type": "markdown",
   "metadata": {},
   "source": [
    "## Model 21: 9x9 Input, 5x5x8 Kernel, 10 Dense"
   ]
  },
  {
   "cell_type": "code",
   "execution_count": 40,
   "metadata": {},
   "outputs": [
    {
     "name": "stdout",
     "output_type": "stream",
     "text": [
      "Model: \"sequential_29\"\n",
      "_________________________________________________________________\n",
      " Layer (type)                Output Shape              Param #   \n",
      "=================================================================\n",
      " conv2d_29 (Conv2D)          (None, 5, 5, 8)           2008      \n",
      "                                                                 \n",
      " flatten_29 (Flatten)        (None, 200)               0         \n",
      "                                                                 \n",
      " dense_75 (Dense)            (None, 10)                2010      \n",
      "                                                                 \n",
      " dense_76 (Dense)            (None, 1)                 11        \n",
      "                                                                 \n",
      "=================================================================\n",
      "Total params: 4,029\n",
      "Trainable params: 4,029\n",
      "Non-trainable params: 0\n",
      "_________________________________________________________________\n"
     ]
    },
    {
     "name": "stderr",
     "output_type": "stream",
     "text": [
      "WARNING:absl:Found untraced functions such as _jit_compiled_convolution_op, _update_step_xla while saving (showing 2 of 2). These functions will not be directly callable after loading.\n"
     ]
    },
    {
     "name": "stdout",
     "output_type": "stream",
     "text": [
      "INFO:tensorflow:Assets written to: cnn_models/model_21/assets\n"
     ]
    },
    {
     "name": "stderr",
     "output_type": "stream",
     "text": [
      "INFO:tensorflow:Assets written to: cnn_models/model_21/assets\n"
     ]
    }
   ],
   "source": [
    "i = 21\n",
    "model[i] = Sequential([\n",
    "    InputLayer(input_shape=[9, 9, 10]),\n",
    "    Conv2D(filters=8, kernel_size=5, strides=1, activation='relu'),\n",
    "    Flatten(),\n",
    "    Dense(10, activation='relu'),\n",
    "    Dense(1, activation='relu')\n",
    "])\n",
    "model[i].summary()\n",
    "model[i].compile(loss=\"mean_absolute_error\", optimizer=\"adam\", metrics=[\"mean_absolute_error\"])\n",
    "history = model[i].fit(\n",
    "    X_train_9x9, \n",
    "    y_train, \n",
    "    epochs=1000, \n",
    "    batch_size=256, \n",
    "    validation_split=0.2,\n",
    "    verbose=0,\n",
    "    callbacks=[keras.callbacks.TensorBoard(get_run_logdir(i)), earlystopping_cb])\n",
    "model[i].save(f'cnn_models/model_{i}')"
   ]
  },
  {
   "attachments": {},
   "cell_type": "markdown",
   "metadata": {},
   "source": [
    "## Model 22: 9x9 Input, 5x5x8 Kernel, 0.2 Dropout, 100 Dense, 0.2 Dropout, 10 Dense"
   ]
  },
  {
   "cell_type": "code",
   "execution_count": 41,
   "metadata": {},
   "outputs": [
    {
     "name": "stdout",
     "output_type": "stream",
     "text": [
      "Model: \"sequential_30\"\n",
      "_________________________________________________________________\n",
      " Layer (type)                Output Shape              Param #   \n",
      "=================================================================\n",
      " conv2d_30 (Conv2D)          (None, 5, 5, 8)           2008      \n",
      "                                                                 \n",
      " flatten_30 (Flatten)        (None, 200)               0         \n",
      "                                                                 \n",
      " dropout_18 (Dropout)        (None, 200)               0         \n",
      "                                                                 \n",
      " dense_77 (Dense)            (None, 100)               20100     \n",
      "                                                                 \n",
      " dropout_19 (Dropout)        (None, 100)               0         \n",
      "                                                                 \n",
      " dense_78 (Dense)            (None, 10)                1010      \n",
      "                                                                 \n",
      " dense_79 (Dense)            (None, 1)                 11        \n",
      "                                                                 \n",
      "=================================================================\n",
      "Total params: 23,129\n",
      "Trainable params: 23,129\n",
      "Non-trainable params: 0\n",
      "_________________________________________________________________\n"
     ]
    },
    {
     "name": "stderr",
     "output_type": "stream",
     "text": [
      "2023-06-20 18:16:01.299157: I tensorflow/core/common_runtime/executor.cc:1197] [/device:CPU:0] (DEBUG INFO) Executor start aborting (this does not indicate an error and you can ignore this message): INVALID_ARGUMENT: You must feed a value for placeholder tensor 'inputs' with dtype float and shape [?,200]\n",
      "\t [[{{node inputs}}]]\n",
      "2023-06-20 18:16:01.321310: I tensorflow/core/common_runtime/executor.cc:1197] [/device:CPU:0] (DEBUG INFO) Executor start aborting (this does not indicate an error and you can ignore this message): INVALID_ARGUMENT: You must feed a value for placeholder tensor 'inputs' with dtype float and shape [?,100]\n",
      "\t [[{{node inputs}}]]\n",
      "2023-06-20 18:16:01.595087: I tensorflow/core/common_runtime/executor.cc:1197] [/device:CPU:0] (DEBUG INFO) Executor start aborting (this does not indicate an error and you can ignore this message): INVALID_ARGUMENT: You must feed a value for placeholder tensor 'inputs' with dtype float and shape [?,200]\n",
      "\t [[{{node inputs}}]]\n",
      "2023-06-20 18:16:01.658493: I tensorflow/core/common_runtime/executor.cc:1197] [/device:CPU:0] (DEBUG INFO) Executor start aborting (this does not indicate an error and you can ignore this message): INVALID_ARGUMENT: You must feed a value for placeholder tensor 'inputs' with dtype float and shape [?,100]\n",
      "\t [[{{node inputs}}]]\n",
      "WARNING:absl:Found untraced functions such as _jit_compiled_convolution_op, _update_step_xla while saving (showing 2 of 2). These functions will not be directly callable after loading.\n"
     ]
    },
    {
     "name": "stdout",
     "output_type": "stream",
     "text": [
      "INFO:tensorflow:Assets written to: cnn_models/model_22/assets\n"
     ]
    },
    {
     "name": "stderr",
     "output_type": "stream",
     "text": [
      "INFO:tensorflow:Assets written to: cnn_models/model_22/assets\n"
     ]
    }
   ],
   "source": [
    "i = 22\n",
    "model[i] = Sequential([\n",
    "    InputLayer(input_shape=[9, 9, 10]),\n",
    "    Conv2D(filters=8, kernel_size=5, strides=1, activation='relu'),\n",
    "    Flatten(),\n",
    "    Dropout(0.2),\n",
    "    Dense(100, activation='relu'),\n",
    "    Dropout(0.2),\n",
    "    Dense(10, activation='relu'),\n",
    "    Dense(1, activation='relu')\n",
    "])\n",
    "model[i].summary()\n",
    "model[i].compile(loss=\"mean_absolute_error\", optimizer=\"adam\", metrics=[\"mean_absolute_error\"])\n",
    "history = model[i].fit(\n",
    "    X_train_9x9, \n",
    "    y_train, \n",
    "    epochs=1000, \n",
    "    batch_size=256, \n",
    "    validation_split=0.2,\n",
    "    verbose=0,\n",
    "    callbacks=[keras.callbacks.TensorBoard(get_run_logdir(i)), earlystopping_cb])\n",
    "model[i].save(f'cnn_models/model_{i}')"
   ]
  },
  {
   "attachments": {},
   "cell_type": "markdown",
   "metadata": {},
   "source": [
    "## Model 23: 9x9 Input, 3x3x8 Kernel, 0.1 Dropout, 100 Dense, 0.1 Dropout, 50 Dense, 0.1 Dropout, 10 Dense"
   ]
  },
  {
   "cell_type": "code",
   "execution_count": 9,
   "metadata": {},
   "outputs": [
    {
     "name": "stdout",
     "output_type": "stream",
     "text": [
      "Model: \"sequential\"\n",
      "_________________________________________________________________\n",
      " Layer (type)                Output Shape              Param #   \n",
      "=================================================================\n",
      " conv2d (Conv2D)             (None, 7, 7, 8)           728       \n",
      "                                                                 \n",
      " flatten (Flatten)           (None, 392)               0         \n",
      "                                                                 \n",
      " dropout (Dropout)           (None, 392)               0         \n",
      "                                                                 \n",
      " dense (Dense)               (None, 100)               39300     \n",
      "                                                                 \n",
      " dropout_1 (Dropout)         (None, 100)               0         \n",
      "                                                                 \n",
      " dense_1 (Dense)             (None, 50)                5050      \n",
      "                                                                 \n",
      " dropout_2 (Dropout)         (None, 50)                0         \n",
      "                                                                 \n",
      " dense_2 (Dense)             (None, 10)                510       \n",
      "                                                                 \n",
      " dense_3 (Dense)             (None, 1)                 11        \n",
      "                                                                 \n",
      "=================================================================\n",
      "Total params: 45,599\n",
      "Trainable params: 45,599\n",
      "Non-trainable params: 0\n",
      "_________________________________________________________________\n"
     ]
    },
    {
     "name": "stderr",
     "output_type": "stream",
     "text": [
      "2023-06-26 21:27:09.274889: W tensorflow/tsl/framework/cpu_allocator_impl.cc:83] Allocation of 90655200 exceeds 10% of free system memory.\n",
      "2023-06-26 21:31:56.961035: I tensorflow/core/common_runtime/executor.cc:1197] [/device:CPU:0] (DEBUG INFO) Executor start aborting (this does not indicate an error and you can ignore this message): INVALID_ARGUMENT: You must feed a value for placeholder tensor 'inputs' with dtype float and shape [?,392]\n",
      "\t [[{{node inputs}}]]\n",
      "2023-06-26 21:31:57.000157: I tensorflow/core/common_runtime/executor.cc:1197] [/device:CPU:0] (DEBUG INFO) Executor start aborting (this does not indicate an error and you can ignore this message): INVALID_ARGUMENT: You must feed a value for placeholder tensor 'inputs' with dtype float and shape [?,100]\n",
      "\t [[{{node inputs}}]]\n",
      "2023-06-26 21:31:57.039503: I tensorflow/core/common_runtime/executor.cc:1197] [/device:CPU:0] (DEBUG INFO) Executor start aborting (this does not indicate an error and you can ignore this message): INVALID_ARGUMENT: You must feed a value for placeholder tensor 'inputs' with dtype float and shape [?,50]\n",
      "\t [[{{node inputs}}]]\n",
      "2023-06-26 21:31:57.677021: I tensorflow/core/common_runtime/executor.cc:1197] [/device:CPU:0] (DEBUG INFO) Executor start aborting (this does not indicate an error and you can ignore this message): INVALID_ARGUMENT: You must feed a value for placeholder tensor 'inputs' with dtype float and shape [?,392]\n",
      "\t [[{{node inputs}}]]\n",
      "2023-06-26 21:31:57.772929: I tensorflow/core/common_runtime/executor.cc:1197] [/device:CPU:0] (DEBUG INFO) Executor start aborting (this does not indicate an error and you can ignore this message): INVALID_ARGUMENT: You must feed a value for placeholder tensor 'inputs' with dtype float and shape [?,100]\n",
      "\t [[{{node inputs}}]]\n",
      "2023-06-26 21:31:57.866945: I tensorflow/core/common_runtime/executor.cc:1197] [/device:CPU:0] (DEBUG INFO) Executor start aborting (this does not indicate an error and you can ignore this message): INVALID_ARGUMENT: You must feed a value for placeholder tensor 'inputs' with dtype float and shape [?,50]\n",
      "\t [[{{node inputs}}]]\n",
      "WARNING:absl:Found untraced functions such as _jit_compiled_convolution_op, _update_step_xla while saving (showing 2 of 2). These functions will not be directly callable after loading.\n"
     ]
    },
    {
     "name": "stdout",
     "output_type": "stream",
     "text": [
      "INFO:tensorflow:Assets written to: cnn_models/model_23/assets\n"
     ]
    },
    {
     "name": "stderr",
     "output_type": "stream",
     "text": [
      "INFO:tensorflow:Assets written to: cnn_models/model_23/assets\n"
     ]
    }
   ],
   "source": [
    "i = 23\n",
    "model[i] = Sequential([\n",
    "    InputLayer(input_shape=[9, 9, 10]),\n",
    "    Conv2D(filters=8, kernel_size=3, strides=1, activation='relu'),\n",
    "    Flatten(),\n",
    "    Dropout(0.1),\n",
    "    Dense(100, activation='relu'),\n",
    "    Dropout(0.1),\n",
    "    Dense(50, activation='relu'),\n",
    "    Dropout(0.1),\n",
    "    Dense(10, activation='relu'),\n",
    "    Dense(1, activation='relu')\n",
    "])\n",
    "model[i].summary()\n",
    "model[i].compile(loss=\"mean_absolute_error\", optimizer=\"adam\", metrics=[\"mean_absolute_error\"])\n",
    "history = model[i].fit(\n",
    "    X_train_9x9, \n",
    "    y_train, \n",
    "    epochs=1000, \n",
    "    batch_size=256, \n",
    "    validation_split=0.2,\n",
    "    verbose=0,\n",
    "    callbacks=[keras.callbacks.TensorBoard(get_run_logdir(i)), earlystopping_cb])\n",
    "model[i].save(f'cnn_models/model_{i}')"
   ]
  },
  {
   "attachments": {},
   "cell_type": "markdown",
   "metadata": {},
   "source": [
    "## Model 24: 9x9 Input, 3x3x8 Kernel, 0.2 Dropout, 100 Dense, 0.2 Dropout, 50 Dense, 0.2 Dropout, 10 Dense"
   ]
  },
  {
   "cell_type": "code",
   "execution_count": 10,
   "metadata": {},
   "outputs": [
    {
     "name": "stdout",
     "output_type": "stream",
     "text": [
      "Model: \"sequential_1\"\n",
      "_________________________________________________________________\n",
      " Layer (type)                Output Shape              Param #   \n",
      "=================================================================\n",
      " conv2d_1 (Conv2D)           (None, 7, 7, 8)           728       \n",
      "                                                                 \n",
      " flatten_1 (Flatten)         (None, 392)               0         \n",
      "                                                                 \n",
      " dropout_3 (Dropout)         (None, 392)               0         \n",
      "                                                                 \n",
      " dense_4 (Dense)             (None, 100)               39300     \n",
      "                                                                 \n",
      " dropout_4 (Dropout)         (None, 100)               0         \n",
      "                                                                 \n",
      " dense_5 (Dense)             (None, 50)                5050      \n",
      "                                                                 \n",
      " dropout_5 (Dropout)         (None, 50)                0         \n",
      "                                                                 \n",
      " dense_6 (Dense)             (None, 10)                510       \n",
      "                                                                 \n",
      " dense_7 (Dense)             (None, 1)                 11        \n",
      "                                                                 \n",
      "=================================================================\n",
      "Total params: 45,599\n",
      "Trainable params: 45,599\n",
      "Non-trainable params: 0\n",
      "_________________________________________________________________\n"
     ]
    },
    {
     "name": "stderr",
     "output_type": "stream",
     "text": [
      "2023-06-26 21:33:10.220941: W tensorflow/tsl/framework/cpu_allocator_impl.cc:83] Allocation of 90655200 exceeds 10% of free system memory.\n",
      "2023-06-26 21:39:40.211568: I tensorflow/core/common_runtime/executor.cc:1197] [/device:CPU:0] (DEBUG INFO) Executor start aborting (this does not indicate an error and you can ignore this message): INVALID_ARGUMENT: You must feed a value for placeholder tensor 'inputs' with dtype float and shape [?,392]\n",
      "\t [[{{node inputs}}]]\n",
      "2023-06-26 21:39:40.259496: I tensorflow/core/common_runtime/executor.cc:1197] [/device:CPU:0] (DEBUG INFO) Executor start aborting (this does not indicate an error and you can ignore this message): INVALID_ARGUMENT: You must feed a value for placeholder tensor 'inputs' with dtype float and shape [?,100]\n",
      "\t [[{{node inputs}}]]\n",
      "2023-06-26 21:39:40.303665: I tensorflow/core/common_runtime/executor.cc:1197] [/device:CPU:0] (DEBUG INFO) Executor start aborting (this does not indicate an error and you can ignore this message): INVALID_ARGUMENT: You must feed a value for placeholder tensor 'inputs' with dtype float and shape [?,50]\n",
      "\t [[{{node inputs}}]]\n",
      "2023-06-26 21:39:40.922941: I tensorflow/core/common_runtime/executor.cc:1197] [/device:CPU:0] (DEBUG INFO) Executor start aborting (this does not indicate an error and you can ignore this message): INVALID_ARGUMENT: You must feed a value for placeholder tensor 'inputs' with dtype float and shape [?,392]\n",
      "\t [[{{node inputs}}]]\n",
      "2023-06-26 21:39:41.020613: I tensorflow/core/common_runtime/executor.cc:1197] [/device:CPU:0] (DEBUG INFO) Executor start aborting (this does not indicate an error and you can ignore this message): INVALID_ARGUMENT: You must feed a value for placeholder tensor 'inputs' with dtype float and shape [?,100]\n",
      "\t [[{{node inputs}}]]\n",
      "2023-06-26 21:39:41.109735: I tensorflow/core/common_runtime/executor.cc:1197] [/device:CPU:0] (DEBUG INFO) Executor start aborting (this does not indicate an error and you can ignore this message): INVALID_ARGUMENT: You must feed a value for placeholder tensor 'inputs' with dtype float and shape [?,50]\n",
      "\t [[{{node inputs}}]]\n",
      "WARNING:absl:Found untraced functions such as _jit_compiled_convolution_op, _update_step_xla while saving (showing 2 of 2). These functions will not be directly callable after loading.\n"
     ]
    },
    {
     "name": "stdout",
     "output_type": "stream",
     "text": [
      "INFO:tensorflow:Assets written to: cnn_models/model_24/assets\n"
     ]
    },
    {
     "name": "stderr",
     "output_type": "stream",
     "text": [
      "INFO:tensorflow:Assets written to: cnn_models/model_24/assets\n"
     ]
    }
   ],
   "source": [
    "i = 24\n",
    "model[i] = Sequential([\n",
    "    InputLayer(input_shape=[9, 9, 10]),\n",
    "    Conv2D(filters=8, kernel_size=3, strides=1, activation='relu'),\n",
    "    Flatten(),\n",
    "    Dropout(0.2),\n",
    "    Dense(100, activation='relu'),\n",
    "    Dropout(0.2),\n",
    "    Dense(50, activation='relu'),\n",
    "    Dropout(0.2),\n",
    "    Dense(10, activation='relu'),\n",
    "    Dense(1, activation='relu')\n",
    "])\n",
    "model[i].summary()\n",
    "model[i].compile(loss=\"mean_absolute_error\", optimizer=\"adam\", metrics=[\"mean_absolute_error\"])\n",
    "history = model[i].fit(\n",
    "    X_train_9x9, \n",
    "    y_train, \n",
    "    epochs=1000, \n",
    "    batch_size=256, \n",
    "    validation_split=0.2,\n",
    "    verbose=0,\n",
    "    callbacks=[keras.callbacks.TensorBoard(get_run_logdir(i)), earlystopping_cb])\n",
    "model[i].save(f'cnn_models/model_{i}')"
   ]
  },
  {
   "attachments": {},
   "cell_type": "markdown",
   "metadata": {},
   "source": [
    "## Model 25: 9x9 Input, 3x3x8 Kernel, 0.3 Dropout, 100 Dense, 0.3 Dropout, 50 Dense, 0.3 Dropout, 10 Dense"
   ]
  },
  {
   "cell_type": "code",
   "execution_count": 11,
   "metadata": {},
   "outputs": [
    {
     "name": "stdout",
     "output_type": "stream",
     "text": [
      "Model: \"sequential_2\"\n",
      "_________________________________________________________________\n",
      " Layer (type)                Output Shape              Param #   \n",
      "=================================================================\n",
      " conv2d_2 (Conv2D)           (None, 7, 7, 8)           728       \n",
      "                                                                 \n",
      " flatten_2 (Flatten)         (None, 392)               0         \n",
      "                                                                 \n",
      " dropout_6 (Dropout)         (None, 392)               0         \n",
      "                                                                 \n",
      " dense_8 (Dense)             (None, 100)               39300     \n",
      "                                                                 \n",
      " dropout_7 (Dropout)         (None, 100)               0         \n",
      "                                                                 \n",
      " dense_9 (Dense)             (None, 50)                5050      \n",
      "                                                                 \n",
      " dropout_8 (Dropout)         (None, 50)                0         \n",
      "                                                                 \n",
      " dense_10 (Dense)            (None, 10)                510       \n",
      "                                                                 \n",
      " dense_11 (Dense)            (None, 1)                 11        \n",
      "                                                                 \n",
      "=================================================================\n",
      "Total params: 45,599\n",
      "Trainable params: 45,599\n",
      "Non-trainable params: 0\n",
      "_________________________________________________________________\n"
     ]
    },
    {
     "name": "stderr",
     "output_type": "stream",
     "text": [
      "2023-06-26 21:40:20.409050: W tensorflow/tsl/framework/cpu_allocator_impl.cc:83] Allocation of 90655200 exceeds 10% of free system memory.\n"
     ]
    },
    {
     "ename": "KeyboardInterrupt",
     "evalue": "",
     "output_type": "error",
     "traceback": [
      "\u001b[0;31m---------------------------------------------------------------------------\u001b[0m",
      "\u001b[0;31mKeyboardInterrupt\u001b[0m                         Traceback (most recent call last)",
      "Cell \u001b[0;32mIn[11], line 16\u001b[0m\n\u001b[1;32m     14\u001b[0m model[i]\u001b[39m.\u001b[39msummary()\n\u001b[1;32m     15\u001b[0m model[i]\u001b[39m.\u001b[39mcompile(loss\u001b[39m=\u001b[39m\u001b[39m\"\u001b[39m\u001b[39mmean_absolute_error\u001b[39m\u001b[39m\"\u001b[39m, optimizer\u001b[39m=\u001b[39m\u001b[39m\"\u001b[39m\u001b[39madam\u001b[39m\u001b[39m\"\u001b[39m, metrics\u001b[39m=\u001b[39m[\u001b[39m\"\u001b[39m\u001b[39mmean_absolute_error\u001b[39m\u001b[39m\"\u001b[39m])\n\u001b[0;32m---> 16\u001b[0m history \u001b[39m=\u001b[39m model[i]\u001b[39m.\u001b[39;49mfit(\n\u001b[1;32m     17\u001b[0m     X_train_9x9, \n\u001b[1;32m     18\u001b[0m     y_train, \n\u001b[1;32m     19\u001b[0m     epochs\u001b[39m=\u001b[39;49m\u001b[39m1000\u001b[39;49m, \n\u001b[1;32m     20\u001b[0m     batch_size\u001b[39m=\u001b[39;49m\u001b[39m256\u001b[39;49m, \n\u001b[1;32m     21\u001b[0m     validation_split\u001b[39m=\u001b[39;49m\u001b[39m0.2\u001b[39;49m,\n\u001b[1;32m     22\u001b[0m     verbose\u001b[39m=\u001b[39;49m\u001b[39m0\u001b[39;49m,\n\u001b[1;32m     23\u001b[0m     callbacks\u001b[39m=\u001b[39;49m[keras\u001b[39m.\u001b[39;49mcallbacks\u001b[39m.\u001b[39;49mTensorBoard(get_run_logdir(i)), earlystopping_cb])\n\u001b[1;32m     24\u001b[0m model[i]\u001b[39m.\u001b[39msave(\u001b[39mf\u001b[39m\u001b[39m'\u001b[39m\u001b[39mcnn_models/model_\u001b[39m\u001b[39m{\u001b[39;00mi\u001b[39m}\u001b[39;00m\u001b[39m'\u001b[39m)\n",
      "File \u001b[0;32m~/.local/lib/python3.11/site-packages/keras/utils/traceback_utils.py:65\u001b[0m, in \u001b[0;36mfilter_traceback.<locals>.error_handler\u001b[0;34m(*args, **kwargs)\u001b[0m\n\u001b[1;32m     63\u001b[0m filtered_tb \u001b[39m=\u001b[39m \u001b[39mNone\u001b[39;00m\n\u001b[1;32m     64\u001b[0m \u001b[39mtry\u001b[39;00m:\n\u001b[0;32m---> 65\u001b[0m     \u001b[39mreturn\u001b[39;00m fn(\u001b[39m*\u001b[39;49margs, \u001b[39m*\u001b[39;49m\u001b[39m*\u001b[39;49mkwargs)\n\u001b[1;32m     66\u001b[0m \u001b[39mexcept\u001b[39;00m \u001b[39mException\u001b[39;00m \u001b[39mas\u001b[39;00m e:\n\u001b[1;32m     67\u001b[0m     filtered_tb \u001b[39m=\u001b[39m _process_traceback_frames(e\u001b[39m.\u001b[39m__traceback__)\n",
      "File \u001b[0;32m~/.local/lib/python3.11/site-packages/keras/engine/training.py:1685\u001b[0m, in \u001b[0;36mModel.fit\u001b[0;34m(self, x, y, batch_size, epochs, verbose, callbacks, validation_split, validation_data, shuffle, class_weight, sample_weight, initial_epoch, steps_per_epoch, validation_steps, validation_batch_size, validation_freq, max_queue_size, workers, use_multiprocessing)\u001b[0m\n\u001b[1;32m   1677\u001b[0m \u001b[39mwith\u001b[39;00m tf\u001b[39m.\u001b[39mprofiler\u001b[39m.\u001b[39mexperimental\u001b[39m.\u001b[39mTrace(\n\u001b[1;32m   1678\u001b[0m     \u001b[39m\"\u001b[39m\u001b[39mtrain\u001b[39m\u001b[39m\"\u001b[39m,\n\u001b[1;32m   1679\u001b[0m     epoch_num\u001b[39m=\u001b[39mepoch,\n\u001b[0;32m   (...)\u001b[0m\n\u001b[1;32m   1682\u001b[0m     _r\u001b[39m=\u001b[39m\u001b[39m1\u001b[39m,\n\u001b[1;32m   1683\u001b[0m ):\n\u001b[1;32m   1684\u001b[0m     callbacks\u001b[39m.\u001b[39mon_train_batch_begin(step)\n\u001b[0;32m-> 1685\u001b[0m     tmp_logs \u001b[39m=\u001b[39m \u001b[39mself\u001b[39;49m\u001b[39m.\u001b[39;49mtrain_function(iterator)\n\u001b[1;32m   1686\u001b[0m     \u001b[39mif\u001b[39;00m data_handler\u001b[39m.\u001b[39mshould_sync:\n\u001b[1;32m   1687\u001b[0m         context\u001b[39m.\u001b[39masync_wait()\n",
      "File \u001b[0;32m~/.local/lib/python3.11/site-packages/tensorflow/python/util/traceback_utils.py:150\u001b[0m, in \u001b[0;36mfilter_traceback.<locals>.error_handler\u001b[0;34m(*args, **kwargs)\u001b[0m\n\u001b[1;32m    148\u001b[0m filtered_tb \u001b[39m=\u001b[39m \u001b[39mNone\u001b[39;00m\n\u001b[1;32m    149\u001b[0m \u001b[39mtry\u001b[39;00m:\n\u001b[0;32m--> 150\u001b[0m   \u001b[39mreturn\u001b[39;00m fn(\u001b[39m*\u001b[39;49margs, \u001b[39m*\u001b[39;49m\u001b[39m*\u001b[39;49mkwargs)\n\u001b[1;32m    151\u001b[0m \u001b[39mexcept\u001b[39;00m \u001b[39mException\u001b[39;00m \u001b[39mas\u001b[39;00m e:\n\u001b[1;32m    152\u001b[0m   filtered_tb \u001b[39m=\u001b[39m _process_traceback_frames(e\u001b[39m.\u001b[39m__traceback__)\n",
      "File \u001b[0;32m~/.local/lib/python3.11/site-packages/tensorflow/python/eager/polymorphic_function/polymorphic_function.py:894\u001b[0m, in \u001b[0;36mFunction.__call__\u001b[0;34m(self, *args, **kwds)\u001b[0m\n\u001b[1;32m    891\u001b[0m compiler \u001b[39m=\u001b[39m \u001b[39m\"\u001b[39m\u001b[39mxla\u001b[39m\u001b[39m\"\u001b[39m \u001b[39mif\u001b[39;00m \u001b[39mself\u001b[39m\u001b[39m.\u001b[39m_jit_compile \u001b[39melse\u001b[39;00m \u001b[39m\"\u001b[39m\u001b[39mnonXla\u001b[39m\u001b[39m\"\u001b[39m\n\u001b[1;32m    893\u001b[0m \u001b[39mwith\u001b[39;00m OptionalXlaContext(\u001b[39mself\u001b[39m\u001b[39m.\u001b[39m_jit_compile):\n\u001b[0;32m--> 894\u001b[0m   result \u001b[39m=\u001b[39m \u001b[39mself\u001b[39;49m\u001b[39m.\u001b[39;49m_call(\u001b[39m*\u001b[39;49margs, \u001b[39m*\u001b[39;49m\u001b[39m*\u001b[39;49mkwds)\n\u001b[1;32m    896\u001b[0m new_tracing_count \u001b[39m=\u001b[39m \u001b[39mself\u001b[39m\u001b[39m.\u001b[39mexperimental_get_tracing_count()\n\u001b[1;32m    897\u001b[0m without_tracing \u001b[39m=\u001b[39m (tracing_count \u001b[39m==\u001b[39m new_tracing_count)\n",
      "File \u001b[0;32m~/.local/lib/python3.11/site-packages/tensorflow/python/eager/polymorphic_function/polymorphic_function.py:926\u001b[0m, in \u001b[0;36mFunction._call\u001b[0;34m(self, *args, **kwds)\u001b[0m\n\u001b[1;32m    923\u001b[0m   \u001b[39mself\u001b[39m\u001b[39m.\u001b[39m_lock\u001b[39m.\u001b[39mrelease()\n\u001b[1;32m    924\u001b[0m   \u001b[39m# In this case we have created variables on the first call, so we run the\u001b[39;00m\n\u001b[1;32m    925\u001b[0m   \u001b[39m# defunned version which is guaranteed to never create variables.\u001b[39;00m\n\u001b[0;32m--> 926\u001b[0m   \u001b[39mreturn\u001b[39;00m \u001b[39mself\u001b[39;49m\u001b[39m.\u001b[39;49m_no_variable_creation_fn(\u001b[39m*\u001b[39;49margs, \u001b[39m*\u001b[39;49m\u001b[39m*\u001b[39;49mkwds)  \u001b[39m# pylint: disable=not-callable\u001b[39;00m\n\u001b[1;32m    927\u001b[0m \u001b[39melif\u001b[39;00m \u001b[39mself\u001b[39m\u001b[39m.\u001b[39m_variable_creation_fn \u001b[39mis\u001b[39;00m \u001b[39mnot\u001b[39;00m \u001b[39mNone\u001b[39;00m:\n\u001b[1;32m    928\u001b[0m   \u001b[39m# Release the lock early so that multiple threads can perform the call\u001b[39;00m\n\u001b[1;32m    929\u001b[0m   \u001b[39m# in parallel.\u001b[39;00m\n\u001b[1;32m    930\u001b[0m   \u001b[39mself\u001b[39m\u001b[39m.\u001b[39m_lock\u001b[39m.\u001b[39mrelease()\n",
      "File \u001b[0;32m~/.local/lib/python3.11/site-packages/tensorflow/python/eager/polymorphic_function/tracing_compiler.py:143\u001b[0m, in \u001b[0;36mTracingCompiler.__call__\u001b[0;34m(self, *args, **kwargs)\u001b[0m\n\u001b[1;32m    140\u001b[0m \u001b[39mwith\u001b[39;00m \u001b[39mself\u001b[39m\u001b[39m.\u001b[39m_lock:\n\u001b[1;32m    141\u001b[0m   (concrete_function,\n\u001b[1;32m    142\u001b[0m    filtered_flat_args) \u001b[39m=\u001b[39m \u001b[39mself\u001b[39m\u001b[39m.\u001b[39m_maybe_define_function(args, kwargs)\n\u001b[0;32m--> 143\u001b[0m \u001b[39mreturn\u001b[39;00m concrete_function\u001b[39m.\u001b[39;49m_call_flat(\n\u001b[1;32m    144\u001b[0m     filtered_flat_args, captured_inputs\u001b[39m=\u001b[39;49mconcrete_function\u001b[39m.\u001b[39;49mcaptured_inputs)\n",
      "File \u001b[0;32m~/.local/lib/python3.11/site-packages/tensorflow/python/eager/polymorphic_function/monomorphic_function.py:1757\u001b[0m, in \u001b[0;36mConcreteFunction._call_flat\u001b[0;34m(self, args, captured_inputs, cancellation_manager)\u001b[0m\n\u001b[1;32m   1753\u001b[0m possible_gradient_type \u001b[39m=\u001b[39m gradients_util\u001b[39m.\u001b[39mPossibleTapeGradientTypes(args)\n\u001b[1;32m   1754\u001b[0m \u001b[39mif\u001b[39;00m (possible_gradient_type \u001b[39m==\u001b[39m gradients_util\u001b[39m.\u001b[39mPOSSIBLE_GRADIENT_TYPES_NONE\n\u001b[1;32m   1755\u001b[0m     \u001b[39mand\u001b[39;00m executing_eagerly):\n\u001b[1;32m   1756\u001b[0m   \u001b[39m# No tape is watching; skip to running the function.\u001b[39;00m\n\u001b[0;32m-> 1757\u001b[0m   \u001b[39mreturn\u001b[39;00m \u001b[39mself\u001b[39m\u001b[39m.\u001b[39m_build_call_outputs(\u001b[39mself\u001b[39;49m\u001b[39m.\u001b[39;49m_inference_function\u001b[39m.\u001b[39;49mcall(\n\u001b[1;32m   1758\u001b[0m       ctx, args, cancellation_manager\u001b[39m=\u001b[39;49mcancellation_manager))\n\u001b[1;32m   1759\u001b[0m forward_backward \u001b[39m=\u001b[39m \u001b[39mself\u001b[39m\u001b[39m.\u001b[39m_select_forward_and_backward_functions(\n\u001b[1;32m   1760\u001b[0m     args,\n\u001b[1;32m   1761\u001b[0m     possible_gradient_type,\n\u001b[1;32m   1762\u001b[0m     executing_eagerly)\n\u001b[1;32m   1763\u001b[0m forward_function, args_with_tangents \u001b[39m=\u001b[39m forward_backward\u001b[39m.\u001b[39mforward()\n",
      "File \u001b[0;32m~/.local/lib/python3.11/site-packages/tensorflow/python/eager/polymorphic_function/monomorphic_function.py:381\u001b[0m, in \u001b[0;36m_EagerDefinedFunction.call\u001b[0;34m(self, ctx, args, cancellation_manager)\u001b[0m\n\u001b[1;32m    379\u001b[0m \u001b[39mwith\u001b[39;00m _InterpolateFunctionError(\u001b[39mself\u001b[39m):\n\u001b[1;32m    380\u001b[0m   \u001b[39mif\u001b[39;00m cancellation_manager \u001b[39mis\u001b[39;00m \u001b[39mNone\u001b[39;00m:\n\u001b[0;32m--> 381\u001b[0m     outputs \u001b[39m=\u001b[39m execute\u001b[39m.\u001b[39;49mexecute(\n\u001b[1;32m    382\u001b[0m         \u001b[39mstr\u001b[39;49m(\u001b[39mself\u001b[39;49m\u001b[39m.\u001b[39;49msignature\u001b[39m.\u001b[39;49mname),\n\u001b[1;32m    383\u001b[0m         num_outputs\u001b[39m=\u001b[39;49m\u001b[39mself\u001b[39;49m\u001b[39m.\u001b[39;49m_num_outputs,\n\u001b[1;32m    384\u001b[0m         inputs\u001b[39m=\u001b[39;49margs,\n\u001b[1;32m    385\u001b[0m         attrs\u001b[39m=\u001b[39;49mattrs,\n\u001b[1;32m    386\u001b[0m         ctx\u001b[39m=\u001b[39;49mctx)\n\u001b[1;32m    387\u001b[0m   \u001b[39melse\u001b[39;00m:\n\u001b[1;32m    388\u001b[0m     outputs \u001b[39m=\u001b[39m execute\u001b[39m.\u001b[39mexecute_with_cancellation(\n\u001b[1;32m    389\u001b[0m         \u001b[39mstr\u001b[39m(\u001b[39mself\u001b[39m\u001b[39m.\u001b[39msignature\u001b[39m.\u001b[39mname),\n\u001b[1;32m    390\u001b[0m         num_outputs\u001b[39m=\u001b[39m\u001b[39mself\u001b[39m\u001b[39m.\u001b[39m_num_outputs,\n\u001b[0;32m   (...)\u001b[0m\n\u001b[1;32m    393\u001b[0m         ctx\u001b[39m=\u001b[39mctx,\n\u001b[1;32m    394\u001b[0m         cancellation_manager\u001b[39m=\u001b[39mcancellation_manager)\n",
      "File \u001b[0;32m~/.local/lib/python3.11/site-packages/tensorflow/python/eager/execute.py:52\u001b[0m, in \u001b[0;36mquick_execute\u001b[0;34m(op_name, num_outputs, inputs, attrs, ctx, name)\u001b[0m\n\u001b[1;32m     50\u001b[0m \u001b[39mtry\u001b[39;00m:\n\u001b[1;32m     51\u001b[0m   ctx\u001b[39m.\u001b[39mensure_initialized()\n\u001b[0;32m---> 52\u001b[0m   tensors \u001b[39m=\u001b[39m pywrap_tfe\u001b[39m.\u001b[39;49mTFE_Py_Execute(ctx\u001b[39m.\u001b[39;49m_handle, device_name, op_name,\n\u001b[1;32m     53\u001b[0m                                       inputs, attrs, num_outputs)\n\u001b[1;32m     54\u001b[0m \u001b[39mexcept\u001b[39;00m core\u001b[39m.\u001b[39m_NotOkStatusException \u001b[39mas\u001b[39;00m e:\n\u001b[1;32m     55\u001b[0m   \u001b[39mif\u001b[39;00m name \u001b[39mis\u001b[39;00m \u001b[39mnot\u001b[39;00m \u001b[39mNone\u001b[39;00m:\n",
      "\u001b[0;31mKeyboardInterrupt\u001b[0m: "
     ]
    }
   ],
   "source": [
    "i = 25\n",
    "model[i] = Sequential([\n",
    "    InputLayer(input_shape=[9, 9, 10]),\n",
    "    Conv2D(filters=8, kernel_size=3, strides=1, activation='relu'),\n",
    "    Flatten(),\n",
    "    Dropout(0.3),\n",
    "    Dense(100, activation='relu'),\n",
    "    Dropout(0.3),\n",
    "    Dense(50, activation='relu'),\n",
    "    Dropout(0.3),\n",
    "    Dense(10, activation='relu'),\n",
    "    Dense(1, activation='relu')\n",
    "])\n",
    "model[i].summary()\n",
    "model[i].compile(loss=\"mean_absolute_error\", optimizer=\"adam\", metrics=[\"mean_absolute_error\"])\n",
    "history = model[i].fit(\n",
    "    X_train_9x9, \n",
    "    y_train, \n",
    "    epochs=1000, \n",
    "    batch_size=256, \n",
    "    validation_split=0.2,\n",
    "    verbose=0,\n",
    "    callbacks=[keras.callbacks.TensorBoard(get_run_logdir(i)), earlystopping_cb])\n",
    "model[i].save(f'cnn_models/model_{i}')"
   ]
  },
  {
   "attachments": {},
   "cell_type": "markdown",
   "metadata": {},
   "source": [
    "## Model 26: 9x9 Input, 3x3x8 Kernel, 0.1 Dropout, 30 Dense, 0.1 Dropout, 10 Dense"
   ]
  },
  {
   "cell_type": "code",
   "execution_count": 12,
   "metadata": {},
   "outputs": [
    {
     "name": "stdout",
     "output_type": "stream",
     "text": [
      "Model: \"sequential_3\"\n",
      "_________________________________________________________________\n",
      " Layer (type)                Output Shape              Param #   \n",
      "=================================================================\n",
      " conv2d_3 (Conv2D)           (None, 7, 7, 8)           728       \n",
      "                                                                 \n",
      " flatten_3 (Flatten)         (None, 392)               0         \n",
      "                                                                 \n",
      " dropout_9 (Dropout)         (None, 392)               0         \n",
      "                                                                 \n",
      " dense_12 (Dense)            (None, 30)                11790     \n",
      "                                                                 \n",
      " dropout_10 (Dropout)        (None, 30)                0         \n",
      "                                                                 \n",
      " dense_13 (Dense)            (None, 10)                310       \n",
      "                                                                 \n",
      " dense_14 (Dense)            (None, 1)                 11        \n",
      "                                                                 \n",
      "=================================================================\n",
      "Total params: 12,839\n",
      "Trainable params: 12,839\n",
      "Non-trainable params: 0\n",
      "_________________________________________________________________\n"
     ]
    },
    {
     "name": "stderr",
     "output_type": "stream",
     "text": [
      "2023-06-26 21:44:34.143931: W tensorflow/tsl/framework/cpu_allocator_impl.cc:83] Allocation of 90655200 exceeds 10% of free system memory.\n",
      "2023-06-26 21:48:04.967272: I tensorflow/core/common_runtime/executor.cc:1197] [/device:CPU:0] (DEBUG INFO) Executor start aborting (this does not indicate an error and you can ignore this message): INVALID_ARGUMENT: You must feed a value for placeholder tensor 'inputs' with dtype float and shape [?,392]\n",
      "\t [[{{node inputs}}]]\n",
      "2023-06-26 21:48:05.009584: I tensorflow/core/common_runtime/executor.cc:1197] [/device:CPU:0] (DEBUG INFO) Executor start aborting (this does not indicate an error and you can ignore this message): INVALID_ARGUMENT: You must feed a value for placeholder tensor 'inputs' with dtype float and shape [?,30]\n",
      "\t [[{{node inputs}}]]\n",
      "2023-06-26 21:48:05.513909: I tensorflow/core/common_runtime/executor.cc:1197] [/device:CPU:0] (DEBUG INFO) Executor start aborting (this does not indicate an error and you can ignore this message): INVALID_ARGUMENT: You must feed a value for placeholder tensor 'inputs' with dtype float and shape [?,392]\n",
      "\t [[{{node inputs}}]]\n",
      "2023-06-26 21:48:05.613720: I tensorflow/core/common_runtime/executor.cc:1197] [/device:CPU:0] (DEBUG INFO) Executor start aborting (this does not indicate an error and you can ignore this message): INVALID_ARGUMENT: You must feed a value for placeholder tensor 'inputs' with dtype float and shape [?,30]\n",
      "\t [[{{node inputs}}]]\n",
      "WARNING:absl:Found untraced functions such as _jit_compiled_convolution_op, _update_step_xla while saving (showing 2 of 2). These functions will not be directly callable after loading.\n"
     ]
    },
    {
     "name": "stdout",
     "output_type": "stream",
     "text": [
      "INFO:tensorflow:Assets written to: cnn_models/model_26/assets\n"
     ]
    },
    {
     "name": "stderr",
     "output_type": "stream",
     "text": [
      "INFO:tensorflow:Assets written to: cnn_models/model_26/assets\n"
     ]
    }
   ],
   "source": [
    "i = 26\n",
    "model[i] = Sequential([\n",
    "    InputLayer(input_shape=[9, 9, 10]),\n",
    "    Conv2D(filters=8, kernel_size=3, strides=1, activation='relu'),\n",
    "    Flatten(),\n",
    "    Dropout(0.1),\n",
    "    Dense(30, activation='relu'),\n",
    "    Dropout(0.1),\n",
    "    Dense(10, activation='relu'),\n",
    "    Dense(1, activation='relu')\n",
    "])\n",
    "model[i].summary()\n",
    "model[i].compile(loss=\"mean_absolute_error\", optimizer=\"adam\", metrics=[\"mean_absolute_error\"])\n",
    "history = model[i].fit(\n",
    "    X_train_9x9, \n",
    "    y_train, \n",
    "    epochs=1000, \n",
    "    batch_size=256, \n",
    "    validation_split=0.2,\n",
    "    verbose=0,\n",
    "    callbacks=[keras.callbacks.TensorBoard(get_run_logdir(i)), earlystopping_cb])\n",
    "model[i].save(f'cnn_models/model_{i}')"
   ]
  },
  {
   "attachments": {},
   "cell_type": "markdown",
   "metadata": {},
   "source": [
    "## Model 27: 9x9 Input, 3x3x8 Kernel, 3x3x2 Kernel, 10 Dense"
   ]
  },
  {
   "cell_type": "code",
   "execution_count": 13,
   "metadata": {},
   "outputs": [
    {
     "name": "stdout",
     "output_type": "stream",
     "text": [
      "Model: \"sequential_4\"\n",
      "_________________________________________________________________\n",
      " Layer (type)                Output Shape              Param #   \n",
      "=================================================================\n",
      " conv2d_4 (Conv2D)           (None, 7, 7, 8)           728       \n",
      "                                                                 \n",
      " conv2d_5 (Conv2D)           (None, 5, 5, 2)           146       \n",
      "                                                                 \n",
      " flatten_4 (Flatten)         (None, 50)                0         \n",
      "                                                                 \n",
      " dense_15 (Dense)            (None, 10)                510       \n",
      "                                                                 \n",
      " dense_16 (Dense)            (None, 1)                 11        \n",
      "                                                                 \n",
      "=================================================================\n",
      "Total params: 1,395\n",
      "Trainable params: 1,395\n",
      "Non-trainable params: 0\n",
      "_________________________________________________________________\n"
     ]
    },
    {
     "name": "stderr",
     "output_type": "stream",
     "text": [
      "2023-06-26 21:52:19.270176: W tensorflow/tsl/framework/cpu_allocator_impl.cc:83] Allocation of 90655200 exceeds 10% of free system memory.\n",
      "WARNING:absl:Found untraced functions such as _jit_compiled_convolution_op, _jit_compiled_convolution_op, _update_step_xla while saving (showing 3 of 3). These functions will not be directly callable after loading.\n"
     ]
    },
    {
     "name": "stdout",
     "output_type": "stream",
     "text": [
      "INFO:tensorflow:Assets written to: cnn_models/model_27/assets\n"
     ]
    },
    {
     "name": "stderr",
     "output_type": "stream",
     "text": [
      "INFO:tensorflow:Assets written to: cnn_models/model_27/assets\n"
     ]
    }
   ],
   "source": [
    "i = 27\n",
    "model[i] = Sequential([\n",
    "    InputLayer(input_shape=[9, 9, 10]),\n",
    "    Conv2D(filters=8, kernel_size=3, strides=1, activation='relu'),\n",
    "    Conv2D(filters=2, kernel_size=3, strides=1, activation='relu'),\n",
    "    Flatten(),\n",
    "    Dense(10, activation='relu'),\n",
    "    Dense(1, activation='relu')\n",
    "])\n",
    "model[i].summary()\n",
    "model[i].compile(loss=\"mean_absolute_error\", optimizer=\"adam\", metrics=[\"mean_absolute_error\"])\n",
    "history = model[i].fit(\n",
    "    X_train_9x9, \n",
    "    y_train, \n",
    "    epochs=1000, \n",
    "    batch_size=256, \n",
    "    validation_split=0.2,\n",
    "    verbose=0,\n",
    "    callbacks=[keras.callbacks.TensorBoard(get_run_logdir(i)), earlystopping_cb])\n",
    "model[i].save(f'cnn_models/model_{i}')"
   ]
  },
  {
   "attachments": {},
   "cell_type": "markdown",
   "metadata": {},
   "source": [
    "## Model 28: 9x9 Input, 3x3x8 Kernel, 3x3x2 Kernel, 20 Dense, 10 Dense"
   ]
  },
  {
   "cell_type": "code",
   "execution_count": 14,
   "metadata": {},
   "outputs": [
    {
     "name": "stdout",
     "output_type": "stream",
     "text": [
      "Model: \"sequential_5\"\n",
      "_________________________________________________________________\n",
      " Layer (type)                Output Shape              Param #   \n",
      "=================================================================\n",
      " conv2d_6 (Conv2D)           (None, 7, 7, 8)           728       \n",
      "                                                                 \n",
      " conv2d_7 (Conv2D)           (None, 5, 5, 2)           146       \n",
      "                                                                 \n",
      " flatten_5 (Flatten)         (None, 50)                0         \n",
      "                                                                 \n",
      " dense_17 (Dense)            (None, 20)                1020      \n",
      "                                                                 \n",
      " dense_18 (Dense)            (None, 10)                210       \n",
      "                                                                 \n",
      " dense_19 (Dense)            (None, 1)                 11        \n",
      "                                                                 \n",
      "=================================================================\n",
      "Total params: 2,115\n",
      "Trainable params: 2,115\n",
      "Non-trainable params: 0\n",
      "_________________________________________________________________\n"
     ]
    },
    {
     "name": "stderr",
     "output_type": "stream",
     "text": [
      "WARNING:absl:Found untraced functions such as _jit_compiled_convolution_op, _jit_compiled_convolution_op, _update_step_xla while saving (showing 3 of 3). These functions will not be directly callable after loading.\n"
     ]
    },
    {
     "name": "stdout",
     "output_type": "stream",
     "text": [
      "INFO:tensorflow:Assets written to: cnn_models/model_28/assets\n"
     ]
    },
    {
     "name": "stderr",
     "output_type": "stream",
     "text": [
      "INFO:tensorflow:Assets written to: cnn_models/model_28/assets\n"
     ]
    }
   ],
   "source": [
    "i = 28\n",
    "model[i] = Sequential([\n",
    "    InputLayer(input_shape=[9, 9, 10]),\n",
    "    Conv2D(filters=8, kernel_size=3, strides=1, activation='relu'),\n",
    "    Conv2D(filters=2, kernel_size=3, strides=1, activation='relu'),\n",
    "    Flatten(),\n",
    "    Dense(20, activation='relu'),\n",
    "    Dense(10, activation='relu'),\n",
    "    Dense(1, activation='relu')\n",
    "])\n",
    "model[i].summary()\n",
    "model[i].compile(loss=\"mean_absolute_error\", optimizer=\"adam\", metrics=[\"mean_absolute_error\"])\n",
    "history = model[i].fit(\n",
    "    X_train_9x9, \n",
    "    y_train, \n",
    "    epochs=1000, \n",
    "    batch_size=256, \n",
    "    validation_split=0.2,\n",
    "    verbose=0,\n",
    "    callbacks=[keras.callbacks.TensorBoard(get_run_logdir(i)), earlystopping_cb])\n",
    "model[i].save(f'cnn_models/model_{i}')"
   ]
  },
  {
   "attachments": {},
   "cell_type": "markdown",
   "metadata": {},
   "source": [
    "## Model 29: 9x9 Input, 3x3x8 Kernel, 3x3x2 Kernel, 0.1 Dropout, 50 Dense, 0.1 Dropout, 10 Dense"
   ]
  },
  {
   "cell_type": "code",
   "execution_count": 15,
   "metadata": {},
   "outputs": [
    {
     "name": "stdout",
     "output_type": "stream",
     "text": [
      "Model: \"sequential_6\"\n",
      "_________________________________________________________________\n",
      " Layer (type)                Output Shape              Param #   \n",
      "=================================================================\n",
      " conv2d_8 (Conv2D)           (None, 7, 7, 8)           728       \n",
      "                                                                 \n",
      " conv2d_9 (Conv2D)           (None, 5, 5, 2)           146       \n",
      "                                                                 \n",
      " flatten_6 (Flatten)         (None, 50)                0         \n",
      "                                                                 \n",
      " dropout_11 (Dropout)        (None, 50)                0         \n",
      "                                                                 \n",
      " dense_20 (Dense)            (None, 50)                2550      \n",
      "                                                                 \n",
      " dropout_12 (Dropout)        (None, 50)                0         \n",
      "                                                                 \n",
      " dense_21 (Dense)            (None, 10)                510       \n",
      "                                                                 \n",
      " dense_22 (Dense)            (None, 1)                 11        \n",
      "                                                                 \n",
      "=================================================================\n",
      "Total params: 3,945\n",
      "Trainable params: 3,945\n",
      "Non-trainable params: 0\n",
      "_________________________________________________________________\n"
     ]
    },
    {
     "name": "stderr",
     "output_type": "stream",
     "text": [
      "2023-06-26 22:04:32.426500: I tensorflow/core/common_runtime/executor.cc:1197] [/device:CPU:0] (DEBUG INFO) Executor start aborting (this does not indicate an error and you can ignore this message): INVALID_ARGUMENT: You must feed a value for placeholder tensor 'inputs' with dtype float and shape [?,50]\n",
      "\t [[{{node inputs}}]]\n",
      "2023-06-26 22:04:32.436127: I tensorflow/core/common_runtime/executor.cc:1197] [/device:CPU:0] (DEBUG INFO) Executor start aborting (this does not indicate an error and you can ignore this message): INVALID_ARGUMENT: You must feed a value for placeholder tensor 'inputs' with dtype float and shape [?,50]\n",
      "\t [[{{node inputs}}]]\n",
      "2023-06-26 22:04:32.584690: I tensorflow/core/common_runtime/executor.cc:1197] [/device:CPU:0] (DEBUG INFO) Executor start aborting (this does not indicate an error and you can ignore this message): INVALID_ARGUMENT: You must feed a value for placeholder tensor 'inputs' with dtype float and shape [?,50]\n",
      "\t [[{{node inputs}}]]\n",
      "2023-06-26 22:04:32.609001: I tensorflow/core/common_runtime/executor.cc:1197] [/device:CPU:0] (DEBUG INFO) Executor start aborting (this does not indicate an error and you can ignore this message): INVALID_ARGUMENT: You must feed a value for placeholder tensor 'inputs' with dtype float and shape [?,50]\n",
      "\t [[{{node inputs}}]]\n",
      "WARNING:absl:Found untraced functions such as _jit_compiled_convolution_op, _jit_compiled_convolution_op, _update_step_xla while saving (showing 3 of 3). These functions will not be directly callable after loading.\n"
     ]
    },
    {
     "name": "stdout",
     "output_type": "stream",
     "text": [
      "INFO:tensorflow:Assets written to: cnn_models/model_29/assets\n"
     ]
    },
    {
     "name": "stderr",
     "output_type": "stream",
     "text": [
      "INFO:tensorflow:Assets written to: cnn_models/model_29/assets\n"
     ]
    }
   ],
   "source": [
    "i = 29\n",
    "model[i] = Sequential([\n",
    "    InputLayer(input_shape=[9, 9, 10]),\n",
    "    Conv2D(filters=8, kernel_size=3, strides=1, activation='relu'),\n",
    "    Conv2D(filters=2, kernel_size=3, strides=1, activation='relu'),\n",
    "    Flatten(),\n",
    "    Dropout(0.1),\n",
    "    Dense(50, activation='relu'),\n",
    "    Dropout(0.1),\n",
    "    Dense(10, activation='relu'),\n",
    "    Dense(1, activation='relu')\n",
    "])\n",
    "model[i].summary()\n",
    "model[i].compile(loss=\"mean_absolute_error\", optimizer=\"adam\", metrics=[\"mean_absolute_error\"])\n",
    "history = model[i].fit(\n",
    "    X_train_9x9, \n",
    "    y_train, \n",
    "    epochs=1000, \n",
    "    batch_size=256, \n",
    "    validation_split=0.2,\n",
    "    verbose=0,\n",
    "    callbacks=[keras.callbacks.TensorBoard(get_run_logdir(i)), earlystopping_cb])\n",
    "model[i].save(f'cnn_models/model_{i}')"
   ]
  },
  {
   "attachments": {},
   "cell_type": "markdown",
   "metadata": {},
   "source": [
    "## Model 30: 9x9 Input, 3x3x8 Kernel, 3x3x2 Kernel, 0.1 Dropout, 100 Dense, 0.1 Dropout, 50 Dense, 0.1 Dropout, 10 Dense"
   ]
  },
  {
   "cell_type": "code",
   "execution_count": 16,
   "metadata": {},
   "outputs": [
    {
     "name": "stdout",
     "output_type": "stream",
     "text": [
      "Model: \"sequential_7\"\n",
      "_________________________________________________________________\n",
      " Layer (type)                Output Shape              Param #   \n",
      "=================================================================\n",
      " conv2d_10 (Conv2D)          (None, 7, 7, 8)           728       \n",
      "                                                                 \n",
      " conv2d_11 (Conv2D)          (None, 5, 5, 2)           146       \n",
      "                                                                 \n",
      " flatten_7 (Flatten)         (None, 50)                0         \n",
      "                                                                 \n",
      " dropout_13 (Dropout)        (None, 50)                0         \n",
      "                                                                 \n",
      " dense_23 (Dense)            (None, 100)               5100      \n",
      "                                                                 \n",
      " dropout_14 (Dropout)        (None, 100)               0         \n",
      "                                                                 \n",
      " dense_24 (Dense)            (None, 50)                5050      \n",
      "                                                                 \n",
      " dropout_15 (Dropout)        (None, 50)                0         \n",
      "                                                                 \n",
      " dense_25 (Dense)            (None, 10)                510       \n",
      "                                                                 \n",
      " dense_26 (Dense)            (None, 1)                 11        \n",
      "                                                                 \n",
      "=================================================================\n",
      "Total params: 11,545\n",
      "Trainable params: 11,545\n",
      "Non-trainable params: 0\n",
      "_________________________________________________________________\n"
     ]
    },
    {
     "name": "stderr",
     "output_type": "stream",
     "text": [
      "2023-06-26 22:15:28.111182: I tensorflow/core/common_runtime/executor.cc:1197] [/device:CPU:0] (DEBUG INFO) Executor start aborting (this does not indicate an error and you can ignore this message): INVALID_ARGUMENT: You must feed a value for placeholder tensor 'inputs' with dtype float and shape [?,50]\n",
      "\t [[{{node inputs}}]]\n",
      "2023-06-26 22:15:28.152441: I tensorflow/core/common_runtime/executor.cc:1197] [/device:CPU:0] (DEBUG INFO) Executor start aborting (this does not indicate an error and you can ignore this message): INVALID_ARGUMENT: You must feed a value for placeholder tensor 'inputs' with dtype float and shape [?,100]\n",
      "\t [[{{node inputs}}]]\n",
      "2023-06-26 22:15:28.193733: I tensorflow/core/common_runtime/executor.cc:1197] [/device:CPU:0] (DEBUG INFO) Executor start aborting (this does not indicate an error and you can ignore this message): INVALID_ARGUMENT: You must feed a value for placeholder tensor 'inputs' with dtype float and shape [?,50]\n",
      "\t [[{{node inputs}}]]\n",
      "2023-06-26 22:15:28.931143: I tensorflow/core/common_runtime/executor.cc:1197] [/device:CPU:0] (DEBUG INFO) Executor start aborting (this does not indicate an error and you can ignore this message): INVALID_ARGUMENT: You must feed a value for placeholder tensor 'inputs' with dtype float and shape [?,50]\n",
      "\t [[{{node inputs}}]]\n",
      "2023-06-26 22:15:29.027978: I tensorflow/core/common_runtime/executor.cc:1197] [/device:CPU:0] (DEBUG INFO) Executor start aborting (this does not indicate an error and you can ignore this message): INVALID_ARGUMENT: You must feed a value for placeholder tensor 'inputs' with dtype float and shape [?,100]\n",
      "\t [[{{node inputs}}]]\n",
      "2023-06-26 22:15:29.121149: I tensorflow/core/common_runtime/executor.cc:1197] [/device:CPU:0] (DEBUG INFO) Executor start aborting (this does not indicate an error and you can ignore this message): INVALID_ARGUMENT: You must feed a value for placeholder tensor 'inputs' with dtype float and shape [?,50]\n",
      "\t [[{{node inputs}}]]\n",
      "WARNING:absl:Found untraced functions such as _jit_compiled_convolution_op, _jit_compiled_convolution_op, _update_step_xla while saving (showing 3 of 3). These functions will not be directly callable after loading.\n"
     ]
    },
    {
     "name": "stdout",
     "output_type": "stream",
     "text": [
      "INFO:tensorflow:Assets written to: cnn_models/model_30/assets\n"
     ]
    },
    {
     "name": "stderr",
     "output_type": "stream",
     "text": [
      "INFO:tensorflow:Assets written to: cnn_models/model_30/assets\n"
     ]
    }
   ],
   "source": [
    "i = 30\n",
    "model[i] = Sequential([\n",
    "    InputLayer(input_shape=[9, 9, 10]),\n",
    "    Conv2D(filters=8, kernel_size=3, strides=1, activation='relu'),\n",
    "    Conv2D(filters=2, kernel_size=3, strides=1, activation='relu'),\n",
    "    Flatten(),\n",
    "    Dropout(0.1),\n",
    "    Dense(100, activation='relu'),\n",
    "    Dropout(0.1),\n",
    "    Dense(50, activation='relu'),\n",
    "    Dropout(0.1),\n",
    "    Dense(10, activation='relu'),\n",
    "    Dense(1, activation='relu')\n",
    "])\n",
    "model[i].summary()\n",
    "model[i].compile(loss=\"mean_absolute_error\", optimizer=\"adam\", metrics=[\"mean_absolute_error\"])\n",
    "history = model[i].fit(\n",
    "    X_train_9x9, \n",
    "    y_train, \n",
    "    epochs=1000, \n",
    "    batch_size=256, \n",
    "    validation_split=0.2,\n",
    "    verbose=0,\n",
    "    callbacks=[keras.callbacks.TensorBoard(get_run_logdir(i)), earlystopping_cb])\n",
    "model[i].save(f'cnn_models/model_{i}')"
   ]
  },
  {
   "attachments": {},
   "cell_type": "markdown",
   "metadata": {},
   "source": [
    "## Model 31: 7x7 Input, 3x3x12 Kernel, 0.1 Dropout, 50 Dense, 0.1 Dropout, 10 Dense"
   ]
  },
  {
   "cell_type": "code",
   "execution_count": 17,
   "metadata": {},
   "outputs": [
    {
     "name": "stdout",
     "output_type": "stream",
     "text": [
      "Model: \"sequential_8\"\n",
      "_________________________________________________________________\n",
      " Layer (type)                Output Shape              Param #   \n",
      "=================================================================\n",
      " conv2d_12 (Conv2D)          (None, 5, 5, 12)          1092      \n",
      "                                                                 \n",
      " flatten_8 (Flatten)         (None, 300)               0         \n",
      "                                                                 \n",
      " dropout_16 (Dropout)        (None, 300)               0         \n",
      "                                                                 \n",
      " dense_27 (Dense)            (None, 50)                15050     \n",
      "                                                                 \n",
      " dropout_17 (Dropout)        (None, 50)                0         \n",
      "                                                                 \n",
      " dense_28 (Dense)            (None, 10)                510       \n",
      "                                                                 \n",
      " dense_29 (Dense)            (None, 1)                 11        \n",
      "                                                                 \n",
      "=================================================================\n",
      "Total params: 16,663\n",
      "Trainable params: 16,663\n",
      "Non-trainable params: 0\n",
      "_________________________________________________________________\n"
     ]
    },
    {
     "name": "stderr",
     "output_type": "stream",
     "text": [
      "2023-06-26 22:24:50.160938: I tensorflow/core/common_runtime/executor.cc:1197] [/device:CPU:0] (DEBUG INFO) Executor start aborting (this does not indicate an error and you can ignore this message): INVALID_ARGUMENT: You must feed a value for placeholder tensor 'inputs' with dtype float and shape [?,300]\n",
      "\t [[{{node inputs}}]]\n",
      "2023-06-26 22:24:50.171285: I tensorflow/core/common_runtime/executor.cc:1197] [/device:CPU:0] (DEBUG INFO) Executor start aborting (this does not indicate an error and you can ignore this message): INVALID_ARGUMENT: You must feed a value for placeholder tensor 'inputs' with dtype float and shape [?,50]\n",
      "\t [[{{node inputs}}]]\n",
      "2023-06-26 22:24:50.298074: I tensorflow/core/common_runtime/executor.cc:1197] [/device:CPU:0] (DEBUG INFO) Executor start aborting (this does not indicate an error and you can ignore this message): INVALID_ARGUMENT: You must feed a value for placeholder tensor 'inputs' with dtype float and shape [?,300]\n",
      "\t [[{{node inputs}}]]\n",
      "2023-06-26 22:24:50.321525: I tensorflow/core/common_runtime/executor.cc:1197] [/device:CPU:0] (DEBUG INFO) Executor start aborting (this does not indicate an error and you can ignore this message): INVALID_ARGUMENT: You must feed a value for placeholder tensor 'inputs' with dtype float and shape [?,50]\n",
      "\t [[{{node inputs}}]]\n",
      "WARNING:absl:Found untraced functions such as _jit_compiled_convolution_op, _update_step_xla while saving (showing 2 of 2). These functions will not be directly callable after loading.\n"
     ]
    },
    {
     "name": "stdout",
     "output_type": "stream",
     "text": [
      "INFO:tensorflow:Assets written to: cnn_models/model_31/assets\n"
     ]
    },
    {
     "name": "stderr",
     "output_type": "stream",
     "text": [
      "INFO:tensorflow:Assets written to: cnn_models/model_31/assets\n"
     ]
    }
   ],
   "source": [
    "i = 31\n",
    "model[i] = Sequential([\n",
    "    InputLayer(input_shape=[7, 7, 10]),\n",
    "    Conv2D(filters=12, kernel_size=3, strides=1, activation='relu'),\n",
    "    Flatten(),\n",
    "    Dropout(0.1),\n",
    "    Dense(50, activation='relu'),\n",
    "    Dropout(0.1),\n",
    "    Dense(10, activation='relu'),\n",
    "    Dense(1, activation='relu')\n",
    "])\n",
    "model[i].summary()\n",
    "model[i].compile(loss=\"mean_absolute_error\", optimizer=\"adam\", metrics=[\"mean_absolute_error\"])\n",
    "history = model[i].fit(\n",
    "    X_train_7x7, \n",
    "    y_train, \n",
    "    epochs=1000, \n",
    "    batch_size=256, \n",
    "    validation_split=0.2,\n",
    "    verbose=0,\n",
    "    callbacks=[keras.callbacks.TensorBoard(get_run_logdir(i)), earlystopping_cb])\n",
    "model[i].save(f'cnn_models/model_{i}')"
   ]
  },
  {
   "attachments": {},
   "cell_type": "markdown",
   "metadata": {},
   "source": [
    "## Model 32: 7x7 Input, 3x3x20 Kernel, 0.1 Dropout, 50 Dense, 0.1 Dropout, 10 Dense"
   ]
  },
  {
   "cell_type": "code",
   "execution_count": 18,
   "metadata": {},
   "outputs": [
    {
     "name": "stdout",
     "output_type": "stream",
     "text": [
      "Model: \"sequential_9\"\n",
      "_________________________________________________________________\n",
      " Layer (type)                Output Shape              Param #   \n",
      "=================================================================\n",
      " conv2d_13 (Conv2D)          (None, 5, 5, 20)          1820      \n",
      "                                                                 \n",
      " flatten_9 (Flatten)         (None, 500)               0         \n",
      "                                                                 \n",
      " dropout_18 (Dropout)        (None, 500)               0         \n",
      "                                                                 \n",
      " dense_30 (Dense)            (None, 50)                25050     \n",
      "                                                                 \n",
      " dropout_19 (Dropout)        (None, 50)                0         \n",
      "                                                                 \n",
      " dense_31 (Dense)            (None, 10)                510       \n",
      "                                                                 \n",
      " dense_32 (Dense)            (None, 1)                 11        \n",
      "                                                                 \n",
      "=================================================================\n",
      "Total params: 27,391\n",
      "Trainable params: 27,391\n",
      "Non-trainable params: 0\n",
      "_________________________________________________________________\n"
     ]
    },
    {
     "name": "stderr",
     "output_type": "stream",
     "text": [
      "2023-06-26 22:28:49.678566: I tensorflow/core/common_runtime/executor.cc:1197] [/device:CPU:0] (DEBUG INFO) Executor start aborting (this does not indicate an error and you can ignore this message): INVALID_ARGUMENT: You must feed a value for placeholder tensor 'inputs' with dtype float and shape [?,500]\n",
      "\t [[{{node inputs}}]]\n",
      "2023-06-26 22:28:49.690315: I tensorflow/core/common_runtime/executor.cc:1197] [/device:CPU:0] (DEBUG INFO) Executor start aborting (this does not indicate an error and you can ignore this message): INVALID_ARGUMENT: You must feed a value for placeholder tensor 'inputs' with dtype float and shape [?,50]\n",
      "\t [[{{node inputs}}]]\n",
      "2023-06-26 22:28:49.814404: I tensorflow/core/common_runtime/executor.cc:1197] [/device:CPU:0] (DEBUG INFO) Executor start aborting (this does not indicate an error and you can ignore this message): INVALID_ARGUMENT: You must feed a value for placeholder tensor 'inputs' with dtype float and shape [?,500]\n",
      "\t [[{{node inputs}}]]\n",
      "2023-06-26 22:28:49.852397: I tensorflow/core/common_runtime/executor.cc:1197] [/device:CPU:0] (DEBUG INFO) Executor start aborting (this does not indicate an error and you can ignore this message): INVALID_ARGUMENT: You must feed a value for placeholder tensor 'inputs' with dtype float and shape [?,50]\n",
      "\t [[{{node inputs}}]]\n",
      "WARNING:absl:Found untraced functions such as _jit_compiled_convolution_op, _update_step_xla while saving (showing 2 of 2). These functions will not be directly callable after loading.\n"
     ]
    },
    {
     "name": "stdout",
     "output_type": "stream",
     "text": [
      "INFO:tensorflow:Assets written to: cnn_models/model_32/assets\n"
     ]
    },
    {
     "name": "stderr",
     "output_type": "stream",
     "text": [
      "INFO:tensorflow:Assets written to: cnn_models/model_32/assets\n"
     ]
    }
   ],
   "source": [
    "i = 32\n",
    "model[i] = Sequential([\n",
    "    InputLayer(input_shape=[7, 7, 10]),\n",
    "    Conv2D(filters=20, kernel_size=3, strides=1, activation='relu'),\n",
    "    Flatten(),\n",
    "    Dropout(0.1),\n",
    "    Dense(50, activation='relu'),\n",
    "    Dropout(0.1),\n",
    "    Dense(10, activation='relu'),\n",
    "    Dense(1, activation='relu')\n",
    "])\n",
    "model[i].summary()\n",
    "model[i].compile(loss=\"mean_absolute_error\", optimizer=\"adam\", metrics=[\"mean_absolute_error\"])\n",
    "history = model[i].fit(\n",
    "    X_train_7x7, \n",
    "    y_train, \n",
    "    epochs=1000, \n",
    "    batch_size=256, \n",
    "    validation_split=0.2,\n",
    "    verbose=0,\n",
    "    callbacks=[keras.callbacks.TensorBoard(get_run_logdir(i)), earlystopping_cb])\n",
    "model[i].save(f'cnn_models/model_{i}')"
   ]
  },
  {
   "attachments": {},
   "cell_type": "markdown",
   "metadata": {},
   "source": [
    "## Model 33: 7x7 Input, 3x3x20 Kernel, 0.2 Dropout, 100 Dense, 0.2 Dropout, 50 Dense, 0.2 Dropout, 10 Dense"
   ]
  },
  {
   "cell_type": "code",
   "execution_count": 19,
   "metadata": {},
   "outputs": [
    {
     "name": "stdout",
     "output_type": "stream",
     "text": [
      "Model: \"sequential_10\"\n",
      "_________________________________________________________________\n",
      " Layer (type)                Output Shape              Param #   \n",
      "=================================================================\n",
      " conv2d_14 (Conv2D)          (None, 5, 5, 20)          1820      \n",
      "                                                                 \n",
      " flatten_10 (Flatten)        (None, 500)               0         \n",
      "                                                                 \n",
      " dropout_20 (Dropout)        (None, 500)               0         \n",
      "                                                                 \n",
      " dense_33 (Dense)            (None, 100)               50100     \n",
      "                                                                 \n",
      " dropout_21 (Dropout)        (None, 100)               0         \n",
      "                                                                 \n",
      " dense_34 (Dense)            (None, 50)                5050      \n",
      "                                                                 \n",
      " dropout_22 (Dropout)        (None, 50)                0         \n",
      "                                                                 \n",
      " dense_35 (Dense)            (None, 10)                510       \n",
      "                                                                 \n",
      " dense_36 (Dense)            (None, 1)                 11        \n",
      "                                                                 \n",
      "=================================================================\n",
      "Total params: 57,491\n",
      "Trainable params: 57,491\n",
      "Non-trainable params: 0\n",
      "_________________________________________________________________\n"
     ]
    },
    {
     "name": "stderr",
     "output_type": "stream",
     "text": [
      "2023-06-26 22:32:04.429808: I tensorflow/core/common_runtime/executor.cc:1197] [/device:CPU:0] (DEBUG INFO) Executor start aborting (this does not indicate an error and you can ignore this message): INVALID_ARGUMENT: You must feed a value for placeholder tensor 'inputs' with dtype float and shape [?,500]\n",
      "\t [[{{node inputs}}]]\n",
      "2023-06-26 22:32:04.441930: I tensorflow/core/common_runtime/executor.cc:1197] [/device:CPU:0] (DEBUG INFO) Executor start aborting (this does not indicate an error and you can ignore this message): INVALID_ARGUMENT: You must feed a value for placeholder tensor 'inputs' with dtype float and shape [?,100]\n",
      "\t [[{{node inputs}}]]\n",
      "2023-06-26 22:32:04.453880: I tensorflow/core/common_runtime/executor.cc:1197] [/device:CPU:0] (DEBUG INFO) Executor start aborting (this does not indicate an error and you can ignore this message): INVALID_ARGUMENT: You must feed a value for placeholder tensor 'inputs' with dtype float and shape [?,50]\n",
      "\t [[{{node inputs}}]]\n",
      "2023-06-26 22:32:04.621914: I tensorflow/core/common_runtime/executor.cc:1197] [/device:CPU:0] (DEBUG INFO) Executor start aborting (this does not indicate an error and you can ignore this message): INVALID_ARGUMENT: You must feed a value for placeholder tensor 'inputs' with dtype float and shape [?,500]\n",
      "\t [[{{node inputs}}]]\n",
      "2023-06-26 22:32:04.652089: I tensorflow/core/common_runtime/executor.cc:1197] [/device:CPU:0] (DEBUG INFO) Executor start aborting (this does not indicate an error and you can ignore this message): INVALID_ARGUMENT: You must feed a value for placeholder tensor 'inputs' with dtype float and shape [?,100]\n",
      "\t [[{{node inputs}}]]\n",
      "2023-06-26 22:32:04.695913: I tensorflow/core/common_runtime/executor.cc:1197] [/device:CPU:0] (DEBUG INFO) Executor start aborting (this does not indicate an error and you can ignore this message): INVALID_ARGUMENT: You must feed a value for placeholder tensor 'inputs' with dtype float and shape [?,50]\n",
      "\t [[{{node inputs}}]]\n",
      "WARNING:absl:Found untraced functions such as _jit_compiled_convolution_op, _update_step_xla while saving (showing 2 of 2). These functions will not be directly callable after loading.\n"
     ]
    },
    {
     "name": "stdout",
     "output_type": "stream",
     "text": [
      "INFO:tensorflow:Assets written to: cnn_models/model_33/assets\n"
     ]
    },
    {
     "name": "stderr",
     "output_type": "stream",
     "text": [
      "INFO:tensorflow:Assets written to: cnn_models/model_33/assets\n"
     ]
    }
   ],
   "source": [
    "i = 33\n",
    "model[i] = Sequential([\n",
    "    InputLayer(input_shape=[7, 7, 10]),\n",
    "    Conv2D(filters=20, kernel_size=3, strides=1, activation='relu'),\n",
    "    Flatten(),\n",
    "    Dropout(0.2),\n",
    "    Dense(100, activation='relu'),\n",
    "    Dropout(0.2),\n",
    "    Dense(50, activation='relu'),\n",
    "    Dropout(0.2),\n",
    "    Dense(10, activation='relu'),\n",
    "    Dense(1, activation='relu')\n",
    "])\n",
    "model[i].summary()\n",
    "model[i].compile(loss=\"mean_absolute_error\", optimizer=\"adam\", metrics=[\"mean_absolute_error\"])\n",
    "history = model[i].fit(\n",
    "    X_train_7x7, \n",
    "    y_train, \n",
    "    epochs=1000, \n",
    "    batch_size=256, \n",
    "    validation_split=0.2,\n",
    "    verbose=0,\n",
    "    callbacks=[keras.callbacks.TensorBoard(get_run_logdir(i)), earlystopping_cb])\n",
    "model[i].save(f'cnn_models/model_{i}')"
   ]
  },
  {
   "attachments": {},
   "cell_type": "markdown",
   "metadata": {},
   "source": [
    "## Model 34: 7x7 Input, 3x3x20 Kernel, 0.3 Dropout, 100 Dense, 0.3 Dropout, 50 Dense, 0.3 Dropout, 10 Dense"
   ]
  },
  {
   "cell_type": "code",
   "execution_count": 20,
   "metadata": {},
   "outputs": [
    {
     "name": "stdout",
     "output_type": "stream",
     "text": [
      "Model: \"sequential_11\"\n",
      "_________________________________________________________________\n",
      " Layer (type)                Output Shape              Param #   \n",
      "=================================================================\n",
      " conv2d_15 (Conv2D)          (None, 5, 5, 20)          1820      \n",
      "                                                                 \n",
      " flatten_11 (Flatten)        (None, 500)               0         \n",
      "                                                                 \n",
      " dropout_23 (Dropout)        (None, 500)               0         \n",
      "                                                                 \n",
      " dense_37 (Dense)            (None, 100)               50100     \n",
      "                                                                 \n",
      " dropout_24 (Dropout)        (None, 100)               0         \n",
      "                                                                 \n",
      " dense_38 (Dense)            (None, 50)                5050      \n",
      "                                                                 \n",
      " dropout_25 (Dropout)        (None, 50)                0         \n",
      "                                                                 \n",
      " dense_39 (Dense)            (None, 10)                510       \n",
      "                                                                 \n",
      " dense_40 (Dense)            (None, 1)                 11        \n",
      "                                                                 \n",
      "=================================================================\n",
      "Total params: 57,491\n",
      "Trainable params: 57,491\n",
      "Non-trainable params: 0\n",
      "_________________________________________________________________\n"
     ]
    },
    {
     "name": "stderr",
     "output_type": "stream",
     "text": [
      "2023-06-26 22:40:38.341175: I tensorflow/core/common_runtime/executor.cc:1197] [/device:CPU:0] (DEBUG INFO) Executor start aborting (this does not indicate an error and you can ignore this message): INVALID_ARGUMENT: You must feed a value for placeholder tensor 'inputs' with dtype float and shape [?,500]\n",
      "\t [[{{node inputs}}]]\n",
      "2023-06-26 22:40:38.351941: I tensorflow/core/common_runtime/executor.cc:1197] [/device:CPU:0] (DEBUG INFO) Executor start aborting (this does not indicate an error and you can ignore this message): INVALID_ARGUMENT: You must feed a value for placeholder tensor 'inputs' with dtype float and shape [?,100]\n",
      "\t [[{{node inputs}}]]\n",
      "2023-06-26 22:40:38.361613: I tensorflow/core/common_runtime/executor.cc:1197] [/device:CPU:0] (DEBUG INFO) Executor start aborting (this does not indicate an error and you can ignore this message): INVALID_ARGUMENT: You must feed a value for placeholder tensor 'inputs' with dtype float and shape [?,50]\n",
      "\t [[{{node inputs}}]]\n",
      "2023-06-26 22:40:38.505071: I tensorflow/core/common_runtime/executor.cc:1197] [/device:CPU:0] (DEBUG INFO) Executor start aborting (this does not indicate an error and you can ignore this message): INVALID_ARGUMENT: You must feed a value for placeholder tensor 'inputs' with dtype float and shape [?,500]\n",
      "\t [[{{node inputs}}]]\n",
      "2023-06-26 22:40:38.527465: I tensorflow/core/common_runtime/executor.cc:1197] [/device:CPU:0] (DEBUG INFO) Executor start aborting (this does not indicate an error and you can ignore this message): INVALID_ARGUMENT: You must feed a value for placeholder tensor 'inputs' with dtype float and shape [?,100]\n",
      "\t [[{{node inputs}}]]\n",
      "2023-06-26 22:40:38.555235: I tensorflow/core/common_runtime/executor.cc:1197] [/device:CPU:0] (DEBUG INFO) Executor start aborting (this does not indicate an error and you can ignore this message): INVALID_ARGUMENT: You must feed a value for placeholder tensor 'inputs' with dtype float and shape [?,50]\n",
      "\t [[{{node inputs}}]]\n",
      "WARNING:absl:Found untraced functions such as _jit_compiled_convolution_op, _update_step_xla while saving (showing 2 of 2). These functions will not be directly callable after loading.\n"
     ]
    },
    {
     "name": "stdout",
     "output_type": "stream",
     "text": [
      "INFO:tensorflow:Assets written to: cnn_models/model_34/assets\n"
     ]
    },
    {
     "name": "stderr",
     "output_type": "stream",
     "text": [
      "INFO:tensorflow:Assets written to: cnn_models/model_34/assets\n"
     ]
    }
   ],
   "source": [
    "i = 34\n",
    "model[i] = Sequential([\n",
    "    InputLayer(input_shape=[7, 7, 10]),\n",
    "    Conv2D(filters=20, kernel_size=3, strides=1, activation='relu'),\n",
    "    Flatten(),\n",
    "    Dropout(0.3),\n",
    "    Dense(100, activation='relu'),\n",
    "    Dropout(0.3),\n",
    "    Dense(50, activation='relu'),\n",
    "    Dropout(0.3),\n",
    "    Dense(10, activation='relu'),\n",
    "    Dense(1, activation='relu')\n",
    "])\n",
    "model[i].summary()\n",
    "model[i].compile(loss=\"mean_absolute_error\", optimizer=\"adam\", metrics=[\"mean_absolute_error\"])\n",
    "history = model[i].fit(\n",
    "    X_train_7x7, \n",
    "    y_train, \n",
    "    epochs=1000, \n",
    "    batch_size=256, \n",
    "    validation_split=0.2,\n",
    "    verbose=0,\n",
    "    callbacks=[keras.callbacks.TensorBoard(get_run_logdir(i)), earlystopping_cb])\n",
    "model[i].save(f'cnn_models/model_{i}')"
   ]
  },
  {
   "attachments": {},
   "cell_type": "markdown",
   "metadata": {},
   "source": [
    "## Model 35: 7x7 Input, 3x3x20 Kernel, 0.25 Dropout, 100 Dense, 10 Dense"
   ]
  },
  {
   "cell_type": "code",
   "execution_count": 21,
   "metadata": {},
   "outputs": [
    {
     "name": "stdout",
     "output_type": "stream",
     "text": [
      "Model: \"sequential_12\"\n",
      "_________________________________________________________________\n",
      " Layer (type)                Output Shape              Param #   \n",
      "=================================================================\n",
      " conv2d_16 (Conv2D)          (None, 5, 5, 20)          1820      \n",
      "                                                                 \n",
      " flatten_12 (Flatten)        (None, 500)               0         \n",
      "                                                                 \n",
      " dropout_26 (Dropout)        (None, 500)               0         \n",
      "                                                                 \n",
      " dense_41 (Dense)            (None, 100)               50100     \n",
      "                                                                 \n",
      " dense_42 (Dense)            (None, 10)                1010      \n",
      "                                                                 \n",
      " dense_43 (Dense)            (None, 1)                 11        \n",
      "                                                                 \n",
      "=================================================================\n",
      "Total params: 52,941\n",
      "Trainable params: 52,941\n",
      "Non-trainable params: 0\n",
      "_________________________________________________________________\n"
     ]
    },
    {
     "name": "stderr",
     "output_type": "stream",
     "text": [
      "2023-06-27 09:08:11.834758: I tensorflow/core/common_runtime/executor.cc:1197] [/device:CPU:0] (DEBUG INFO) Executor start aborting (this does not indicate an error and you can ignore this message): INVALID_ARGUMENT: You must feed a value for placeholder tensor 'inputs' with dtype float and shape [?,500]\n",
      "\t [[{{node inputs}}]]\n",
      "2023-06-27 09:08:12.434970: I tensorflow/core/common_runtime/executor.cc:1197] [/device:CPU:0] (DEBUG INFO) Executor start aborting (this does not indicate an error and you can ignore this message): INVALID_ARGUMENT: You must feed a value for placeholder tensor 'inputs' with dtype float and shape [?,500]\n",
      "\t [[{{node inputs}}]]\n",
      "WARNING:absl:Found untraced functions such as _jit_compiled_convolution_op, _update_step_xla while saving (showing 2 of 2). These functions will not be directly callable after loading.\n"
     ]
    },
    {
     "name": "stdout",
     "output_type": "stream",
     "text": [
      "INFO:tensorflow:Assets written to: cnn_models/model_35/assets\n"
     ]
    },
    {
     "name": "stderr",
     "output_type": "stream",
     "text": [
      "INFO:tensorflow:Assets written to: cnn_models/model_35/assets\n"
     ]
    }
   ],
   "source": [
    "i = 35\n",
    "model[i] = Sequential([\n",
    "    InputLayer(input_shape=[7, 7, 10]),\n",
    "    Conv2D(filters=20, kernel_size=3, strides=1, activation='relu'),\n",
    "    Flatten(),\n",
    "    Dropout(0.25),\n",
    "    Dense(100, activation='relu'),\n",
    "    Dense(10, activation='relu'),\n",
    "    Dense(1, activation='relu')\n",
    "])\n",
    "model[i].summary()\n",
    "model[i].compile(loss=\"mean_absolute_error\", optimizer=\"adam\", metrics=[\"mean_absolute_error\"])\n",
    "history = model[i].fit(\n",
    "    X_train_7x7, \n",
    "    y_train, \n",
    "    epochs=1000, \n",
    "    batch_size=256, \n",
    "    validation_split=0.2,\n",
    "    verbose=0,\n",
    "    callbacks=[keras.callbacks.TensorBoard(get_run_logdir(i)), earlystopping_cb])\n",
    "model[i].save(f'cnn_models/model_{i}')"
   ]
  },
  {
   "attachments": {},
   "cell_type": "markdown",
   "metadata": {},
   "source": [
    "## Model 36: 7x7 Input, 3x3x20 Kernel, 0.2 Dropout, 75 Dense, 25 Dense"
   ]
  },
  {
   "cell_type": "code",
   "execution_count": 22,
   "metadata": {},
   "outputs": [
    {
     "name": "stdout",
     "output_type": "stream",
     "text": [
      "Model: \"sequential_13\"\n",
      "_________________________________________________________________\n",
      " Layer (type)                Output Shape              Param #   \n",
      "=================================================================\n",
      " conv2d_17 (Conv2D)          (None, 5, 5, 20)          1820      \n",
      "                                                                 \n",
      " flatten_13 (Flatten)        (None, 500)               0         \n",
      "                                                                 \n",
      " dropout_27 (Dropout)        (None, 500)               0         \n",
      "                                                                 \n",
      " dense_44 (Dense)            (None, 75)                37575     \n",
      "                                                                 \n",
      " dense_45 (Dense)            (None, 25)                1900      \n",
      "                                                                 \n",
      " dense_46 (Dense)            (None, 1)                 26        \n",
      "                                                                 \n",
      "=================================================================\n",
      "Total params: 41,321\n",
      "Trainable params: 41,321\n",
      "Non-trainable params: 0\n",
      "_________________________________________________________________\n"
     ]
    },
    {
     "ename": "KeyboardInterrupt",
     "evalue": "",
     "output_type": "error",
     "traceback": [
      "\u001b[0;31m---------------------------------------------------------------------------\u001b[0m",
      "\u001b[0;31mKeyboardInterrupt\u001b[0m                         Traceback (most recent call last)",
      "Cell \u001b[0;32mIn[22], line 13\u001b[0m\n\u001b[1;32m     11\u001b[0m model[i]\u001b[39m.\u001b[39msummary()\n\u001b[1;32m     12\u001b[0m model[i]\u001b[39m.\u001b[39mcompile(loss\u001b[39m=\u001b[39m\u001b[39m\"\u001b[39m\u001b[39mmean_absolute_error\u001b[39m\u001b[39m\"\u001b[39m, optimizer\u001b[39m=\u001b[39m\u001b[39m\"\u001b[39m\u001b[39madam\u001b[39m\u001b[39m\"\u001b[39m, metrics\u001b[39m=\u001b[39m[\u001b[39m\"\u001b[39m\u001b[39mmean_absolute_error\u001b[39m\u001b[39m\"\u001b[39m])\n\u001b[0;32m---> 13\u001b[0m history \u001b[39m=\u001b[39m model[i]\u001b[39m.\u001b[39;49mfit(\n\u001b[1;32m     14\u001b[0m     X_train_7x7, \n\u001b[1;32m     15\u001b[0m     y_train, \n\u001b[1;32m     16\u001b[0m     epochs\u001b[39m=\u001b[39;49m\u001b[39m1000\u001b[39;49m, \n\u001b[1;32m     17\u001b[0m     batch_size\u001b[39m=\u001b[39;49m\u001b[39m256\u001b[39;49m, \n\u001b[1;32m     18\u001b[0m     validation_split\u001b[39m=\u001b[39;49m\u001b[39m0.2\u001b[39;49m,\n\u001b[1;32m     19\u001b[0m     verbose\u001b[39m=\u001b[39;49m\u001b[39m0\u001b[39;49m,\n\u001b[1;32m     20\u001b[0m     callbacks\u001b[39m=\u001b[39;49m[keras\u001b[39m.\u001b[39;49mcallbacks\u001b[39m.\u001b[39;49mTensorBoard(get_run_logdir(i)), earlystopping_cb])\n\u001b[1;32m     21\u001b[0m model[i]\u001b[39m.\u001b[39msave(\u001b[39mf\u001b[39m\u001b[39m'\u001b[39m\u001b[39mcnn_models/model_\u001b[39m\u001b[39m{\u001b[39;00mi\u001b[39m}\u001b[39;00m\u001b[39m'\u001b[39m)\n",
      "File \u001b[0;32m~/.local/lib/python3.11/site-packages/keras/utils/traceback_utils.py:65\u001b[0m, in \u001b[0;36mfilter_traceback.<locals>.error_handler\u001b[0;34m(*args, **kwargs)\u001b[0m\n\u001b[1;32m     63\u001b[0m filtered_tb \u001b[39m=\u001b[39m \u001b[39mNone\u001b[39;00m\n\u001b[1;32m     64\u001b[0m \u001b[39mtry\u001b[39;00m:\n\u001b[0;32m---> 65\u001b[0m     \u001b[39mreturn\u001b[39;00m fn(\u001b[39m*\u001b[39;49margs, \u001b[39m*\u001b[39;49m\u001b[39m*\u001b[39;49mkwargs)\n\u001b[1;32m     66\u001b[0m \u001b[39mexcept\u001b[39;00m \u001b[39mException\u001b[39;00m \u001b[39mas\u001b[39;00m e:\n\u001b[1;32m     67\u001b[0m     filtered_tb \u001b[39m=\u001b[39m _process_traceback_frames(e\u001b[39m.\u001b[39m__traceback__)\n",
      "File \u001b[0;32m~/.local/lib/python3.11/site-packages/keras/engine/training.py:1676\u001b[0m, in \u001b[0;36mModel.fit\u001b[0;34m(self, x, y, batch_size, epochs, verbose, callbacks, validation_split, validation_data, shuffle, class_weight, sample_weight, initial_epoch, steps_per_epoch, validation_steps, validation_batch_size, validation_freq, max_queue_size, workers, use_multiprocessing)\u001b[0m\n\u001b[1;32m   1674\u001b[0m callbacks\u001b[39m.\u001b[39mon_epoch_begin(epoch)\n\u001b[1;32m   1675\u001b[0m \u001b[39mwith\u001b[39;00m data_handler\u001b[39m.\u001b[39mcatch_stop_iteration():\n\u001b[0;32m-> 1676\u001b[0m     \u001b[39mfor\u001b[39;00m step \u001b[39min\u001b[39;00m data_handler\u001b[39m.\u001b[39msteps():\n\u001b[1;32m   1677\u001b[0m         \u001b[39mwith\u001b[39;00m tf\u001b[39m.\u001b[39mprofiler\u001b[39m.\u001b[39mexperimental\u001b[39m.\u001b[39mTrace(\n\u001b[1;32m   1678\u001b[0m             \u001b[39m\"\u001b[39m\u001b[39mtrain\u001b[39m\u001b[39m\"\u001b[39m,\n\u001b[1;32m   1679\u001b[0m             epoch_num\u001b[39m=\u001b[39mepoch,\n\u001b[0;32m   (...)\u001b[0m\n\u001b[1;32m   1682\u001b[0m             _r\u001b[39m=\u001b[39m\u001b[39m1\u001b[39m,\n\u001b[1;32m   1683\u001b[0m         ):\n\u001b[1;32m   1684\u001b[0m             callbacks\u001b[39m.\u001b[39mon_train_batch_begin(step)\n",
      "File \u001b[0;32m~/.local/lib/python3.11/site-packages/keras/engine/data_adapter.py:1375\u001b[0m, in \u001b[0;36mDataHandler.steps\u001b[0;34m(self)\u001b[0m\n\u001b[1;32m   1373\u001b[0m \u001b[39mif\u001b[39;00m \u001b[39mself\u001b[39m\u001b[39m.\u001b[39m_insufficient_data:  \u001b[39m# Set by `catch_stop_iteration`.\u001b[39;00m\n\u001b[1;32m   1374\u001b[0m     \u001b[39mbreak\u001b[39;00m\n\u001b[0;32m-> 1375\u001b[0m original_spe \u001b[39m=\u001b[39m \u001b[39mself\u001b[39;49m\u001b[39m.\u001b[39;49m_steps_per_execution\u001b[39m.\u001b[39;49mnumpy()\u001b[39m.\u001b[39;49mitem()\n\u001b[1;32m   1376\u001b[0m can_run_full_execution \u001b[39m=\u001b[39m (\n\u001b[1;32m   1377\u001b[0m     original_spe \u001b[39m==\u001b[39m \u001b[39m1\u001b[39m\n\u001b[1;32m   1378\u001b[0m     \u001b[39mor\u001b[39;00m \u001b[39mself\u001b[39m\u001b[39m.\u001b[39m_inferred_steps \u001b[39mis\u001b[39;00m \u001b[39mNone\u001b[39;00m\n\u001b[1;32m   1379\u001b[0m     \u001b[39mor\u001b[39;00m \u001b[39mself\u001b[39m\u001b[39m.\u001b[39m_inferred_steps \u001b[39m-\u001b[39m \u001b[39mself\u001b[39m\u001b[39m.\u001b[39m_current_step \u001b[39m>\u001b[39m\u001b[39m=\u001b[39m original_spe\n\u001b[1;32m   1380\u001b[0m )\n\u001b[1;32m   1382\u001b[0m \u001b[39mif\u001b[39;00m can_run_full_execution:\n",
      "\u001b[0;31mKeyboardInterrupt\u001b[0m: "
     ]
    }
   ],
   "source": [
    "i = 36\n",
    "model[i] = Sequential([\n",
    "    InputLayer(input_shape=[7, 7, 10]),\n",
    "    Conv2D(filters=20, kernel_size=3, strides=1, activation='relu'),\n",
    "    Flatten(),\n",
    "    Dropout(0.2),\n",
    "    Dense(75, activation='relu'),\n",
    "    Dense(25, activation='relu'),\n",
    "    Dense(1, activation='relu')\n",
    "])\n",
    "model[i].summary()\n",
    "model[i].compile(loss=\"mean_absolute_error\", optimizer=\"adam\", metrics=[\"mean_absolute_error\"])\n",
    "history = model[i].fit(\n",
    "    X_train_7x7, \n",
    "    y_train, \n",
    "    epochs=1000, \n",
    "    batch_size=256, \n",
    "    validation_split=0.2,\n",
    "    verbose=0,\n",
    "    callbacks=[keras.callbacks.TensorBoard(get_run_logdir(i)), earlystopping_cb])\n",
    "model[i].save(f'cnn_models/model_{i}')"
   ]
  },
  {
   "attachments": {},
   "cell_type": "markdown",
   "metadata": {},
   "source": [
    "## Model 37: 7x7 Input, 3x3x20 Kernel, 0.1 Dropout, 20 Dense, 10 Dense"
   ]
  },
  {
   "cell_type": "code",
   "execution_count": 23,
   "metadata": {},
   "outputs": [
    {
     "name": "stdout",
     "output_type": "stream",
     "text": [
      "Model: \"sequential_14\"\n",
      "_________________________________________________________________\n",
      " Layer (type)                Output Shape              Param #   \n",
      "=================================================================\n",
      " conv2d_18 (Conv2D)          (None, 5, 5, 20)          1820      \n",
      "                                                                 \n",
      " flatten_14 (Flatten)        (None, 500)               0         \n",
      "                                                                 \n",
      " dropout_28 (Dropout)        (None, 500)               0         \n",
      "                                                                 \n",
      " dense_47 (Dense)            (None, 20)                10020     \n",
      "                                                                 \n",
      " dense_48 (Dense)            (None, 10)                210       \n",
      "                                                                 \n",
      " dense_49 (Dense)            (None, 1)                 11        \n",
      "                                                                 \n",
      "=================================================================\n",
      "Total params: 12,061\n",
      "Trainable params: 12,061\n",
      "Non-trainable params: 0\n",
      "_________________________________________________________________\n"
     ]
    },
    {
     "name": "stderr",
     "output_type": "stream",
     "text": [
      "2023-06-27 09:17:51.401235: I tensorflow/core/common_runtime/executor.cc:1197] [/device:CPU:0] (DEBUG INFO) Executor start aborting (this does not indicate an error and you can ignore this message): INVALID_ARGUMENT: You must feed a value for placeholder tensor 'inputs' with dtype float and shape [?,500]\n",
      "\t [[{{node inputs}}]]\n",
      "2023-06-27 09:17:51.880098: I tensorflow/core/common_runtime/executor.cc:1197] [/device:CPU:0] (DEBUG INFO) Executor start aborting (this does not indicate an error and you can ignore this message): INVALID_ARGUMENT: You must feed a value for placeholder tensor 'inputs' with dtype float and shape [?,500]\n",
      "\t [[{{node inputs}}]]\n",
      "WARNING:absl:Found untraced functions such as _jit_compiled_convolution_op, _update_step_xla while saving (showing 2 of 2). These functions will not be directly callable after loading.\n"
     ]
    },
    {
     "name": "stdout",
     "output_type": "stream",
     "text": [
      "INFO:tensorflow:Assets written to: cnn_models/model_37/assets\n"
     ]
    },
    {
     "name": "stderr",
     "output_type": "stream",
     "text": [
      "INFO:tensorflow:Assets written to: cnn_models/model_37/assets\n"
     ]
    }
   ],
   "source": [
    "i = 37\n",
    "model[i] = Sequential([\n",
    "    InputLayer(input_shape=[7, 7, 10]),\n",
    "    Conv2D(filters=20, kernel_size=3, strides=1, activation='relu'),\n",
    "    Flatten(),\n",
    "    Dropout(0.1),\n",
    "    Dense(20, activation='relu'),\n",
    "    Dense(10, activation='relu'),\n",
    "    Dense(1, activation='relu')\n",
    "])\n",
    "model[i].summary()\n",
    "model[i].compile(loss=\"mean_absolute_error\", optimizer=\"adam\", metrics=[\"mean_absolute_error\"])\n",
    "history = model[i].fit(\n",
    "    X_train_7x7, \n",
    "    y_train, \n",
    "    epochs=1000, \n",
    "    batch_size=256, \n",
    "    validation_split=0.2,\n",
    "    verbose=0,\n",
    "    callbacks=[keras.callbacks.TensorBoard(get_run_logdir(i)), earlystopping_cb])\n",
    "model[i].save(f'cnn_models/model_{i}')"
   ]
  },
  {
   "attachments": {},
   "cell_type": "markdown",
   "metadata": {},
   "source": [
    "## Model 38: 7x7 Input, 3x3x20 Kernel, 10 Dense"
   ]
  },
  {
   "cell_type": "code",
   "execution_count": 24,
   "metadata": {},
   "outputs": [
    {
     "name": "stdout",
     "output_type": "stream",
     "text": [
      "Model: \"sequential_15\"\n",
      "_________________________________________________________________\n",
      " Layer (type)                Output Shape              Param #   \n",
      "=================================================================\n",
      " conv2d_19 (Conv2D)          (None, 5, 5, 20)          1820      \n",
      "                                                                 \n",
      " flatten_15 (Flatten)        (None, 500)               0         \n",
      "                                                                 \n",
      " dense_50 (Dense)            (None, 10)                5010      \n",
      "                                                                 \n",
      " dense_51 (Dense)            (None, 1)                 11        \n",
      "                                                                 \n",
      "=================================================================\n",
      "Total params: 6,841\n",
      "Trainable params: 6,841\n",
      "Non-trainable params: 0\n",
      "_________________________________________________________________\n"
     ]
    },
    {
     "name": "stderr",
     "output_type": "stream",
     "text": [
      "WARNING:absl:Found untraced functions such as _jit_compiled_convolution_op, _update_step_xla while saving (showing 2 of 2). These functions will not be directly callable after loading.\n"
     ]
    },
    {
     "name": "stdout",
     "output_type": "stream",
     "text": [
      "INFO:tensorflow:Assets written to: cnn_models/model_38/assets\n"
     ]
    },
    {
     "name": "stderr",
     "output_type": "stream",
     "text": [
      "INFO:tensorflow:Assets written to: cnn_models/model_38/assets\n"
     ]
    }
   ],
   "source": [
    "i = 38\n",
    "model[i] = Sequential([\n",
    "    InputLayer(input_shape=[7, 7, 10]),\n",
    "    Conv2D(filters=20, kernel_size=3, strides=1, activation='relu'),\n",
    "    Flatten(),\n",
    "    Dense(10, activation='relu'),\n",
    "    Dense(1, activation='relu')\n",
    "])\n",
    "model[i].summary()\n",
    "model[i].compile(loss=\"mean_absolute_error\", optimizer=\"adam\", metrics=[\"mean_absolute_error\"])\n",
    "history = model[i].fit(\n",
    "    X_train_7x7, \n",
    "    y_train, \n",
    "    epochs=1000, \n",
    "    batch_size=256, \n",
    "    validation_split=0.2,\n",
    "    verbose=0,\n",
    "    callbacks=[keras.callbacks.TensorBoard(get_run_logdir(i)), earlystopping_cb])\n",
    "model[i].save(f'cnn_models/model_{i}')"
   ]
  },
  {
   "attachments": {},
   "cell_type": "markdown",
   "metadata": {},
   "source": [
    "## Model 39: 7x7 Input, 3x3x20 Kernel, 0.1 Dropout, 10 Dense"
   ]
  },
  {
   "cell_type": "code",
   "execution_count": 25,
   "metadata": {},
   "outputs": [
    {
     "name": "stdout",
     "output_type": "stream",
     "text": [
      "Model: \"sequential_16\"\n",
      "_________________________________________________________________\n",
      " Layer (type)                Output Shape              Param #   \n",
      "=================================================================\n",
      " conv2d_20 (Conv2D)          (None, 5, 5, 20)          1820      \n",
      "                                                                 \n",
      " flatten_16 (Flatten)        (None, 500)               0         \n",
      "                                                                 \n",
      " dropout_29 (Dropout)        (None, 500)               0         \n",
      "                                                                 \n",
      " dense_52 (Dense)            (None, 10)                5010      \n",
      "                                                                 \n",
      " dense_53 (Dense)            (None, 1)                 11        \n",
      "                                                                 \n",
      "=================================================================\n",
      "Total params: 6,841\n",
      "Trainable params: 6,841\n",
      "Non-trainable params: 0\n",
      "_________________________________________________________________\n"
     ]
    },
    {
     "name": "stderr",
     "output_type": "stream",
     "text": [
      "2023-06-27 09:23:17.864747: I tensorflow/core/common_runtime/executor.cc:1197] [/device:CPU:0] (DEBUG INFO) Executor start aborting (this does not indicate an error and you can ignore this message): INVALID_ARGUMENT: You must feed a value for placeholder tensor 'inputs' with dtype float and shape [?,500]\n",
      "\t [[{{node inputs}}]]\n",
      "2023-06-27 09:23:18.006770: I tensorflow/core/common_runtime/executor.cc:1197] [/device:CPU:0] (DEBUG INFO) Executor start aborting (this does not indicate an error and you can ignore this message): INVALID_ARGUMENT: You must feed a value for placeholder tensor 'inputs' with dtype float and shape [?,500]\n",
      "\t [[{{node inputs}}]]\n",
      "WARNING:absl:Found untraced functions such as _jit_compiled_convolution_op, _update_step_xla while saving (showing 2 of 2). These functions will not be directly callable after loading.\n"
     ]
    },
    {
     "name": "stdout",
     "output_type": "stream",
     "text": [
      "INFO:tensorflow:Assets written to: cnn_models/model_39/assets\n"
     ]
    },
    {
     "name": "stderr",
     "output_type": "stream",
     "text": [
      "INFO:tensorflow:Assets written to: cnn_models/model_39/assets\n"
     ]
    }
   ],
   "source": [
    "i = 39\n",
    "model[i] = Sequential([\n",
    "    InputLayer(input_shape=[7, 7, 10]),\n",
    "    Conv2D(filters=20, kernel_size=3, strides=1, activation='relu'),\n",
    "    Flatten(),\n",
    "    Dropout(0.1),\n",
    "    Dense(10, activation='relu'),\n",
    "    Dense(1, activation='relu')\n",
    "])\n",
    "model[i].summary()\n",
    "model[i].compile(loss=\"mean_absolute_error\", optimizer=\"adam\", metrics=[\"mean_absolute_error\"])\n",
    "history = model[i].fit(\n",
    "    X_train_7x7, \n",
    "    y_train, \n",
    "    epochs=1000, \n",
    "    batch_size=256, \n",
    "    validation_split=0.2,\n",
    "    verbose=0,\n",
    "    callbacks=[keras.callbacks.TensorBoard(get_run_logdir(i)), earlystopping_cb])\n",
    "model[i].save(f'cnn_models/model_{i}')"
   ]
  },
  {
   "attachments": {},
   "cell_type": "markdown",
   "metadata": {},
   "source": [
    "## Model 40: 7x7 Input, 3x3x20 Kernel, 0.15 Dropout, 20 Dense"
   ]
  },
  {
   "cell_type": "code",
   "execution_count": 26,
   "metadata": {},
   "outputs": [
    {
     "name": "stdout",
     "output_type": "stream",
     "text": [
      "Model: \"sequential_17\"\n",
      "_________________________________________________________________\n",
      " Layer (type)                Output Shape              Param #   \n",
      "=================================================================\n",
      " conv2d_21 (Conv2D)          (None, 5, 5, 20)          1820      \n",
      "                                                                 \n",
      " flatten_17 (Flatten)        (None, 500)               0         \n",
      "                                                                 \n",
      " dropout_30 (Dropout)        (None, 500)               0         \n",
      "                                                                 \n",
      " dense_54 (Dense)            (None, 20)                10020     \n",
      "                                                                 \n",
      " dense_55 (Dense)            (None, 1)                 21        \n",
      "                                                                 \n",
      "=================================================================\n",
      "Total params: 11,861\n",
      "Trainable params: 11,861\n",
      "Non-trainable params: 0\n",
      "_________________________________________________________________\n"
     ]
    },
    {
     "name": "stderr",
     "output_type": "stream",
     "text": [
      "2023-06-27 09:28:28.859844: I tensorflow/core/common_runtime/executor.cc:1197] [/device:CPU:0] (DEBUG INFO) Executor start aborting (this does not indicate an error and you can ignore this message): INVALID_ARGUMENT: You must feed a value for placeholder tensor 'inputs' with dtype float and shape [?,500]\n",
      "\t [[{{node inputs}}]]\n",
      "2023-06-27 09:28:29.300534: I tensorflow/core/common_runtime/executor.cc:1197] [/device:CPU:0] (DEBUG INFO) Executor start aborting (this does not indicate an error and you can ignore this message): INVALID_ARGUMENT: You must feed a value for placeholder tensor 'inputs' with dtype float and shape [?,500]\n",
      "\t [[{{node inputs}}]]\n",
      "WARNING:absl:Found untraced functions such as _jit_compiled_convolution_op, _update_step_xla while saving (showing 2 of 2). These functions will not be directly callable after loading.\n"
     ]
    },
    {
     "name": "stdout",
     "output_type": "stream",
     "text": [
      "INFO:tensorflow:Assets written to: cnn_models/model_40/assets\n"
     ]
    },
    {
     "name": "stderr",
     "output_type": "stream",
     "text": [
      "INFO:tensorflow:Assets written to: cnn_models/model_40/assets\n"
     ]
    }
   ],
   "source": [
    "i = 40\n",
    "model[i] = Sequential([\n",
    "    InputLayer(input_shape=[7, 7, 10]),\n",
    "    Conv2D(filters=20, kernel_size=3, strides=1, activation='relu'),\n",
    "    Flatten(),\n",
    "    Dropout(0.15),\n",
    "    Dense(20, activation='relu'),\n",
    "    Dense(1, activation='relu')\n",
    "])\n",
    "model[i].summary()\n",
    "model[i].compile(loss=\"mean_absolute_error\", optimizer=\"adam\", metrics=[\"mean_absolute_error\"])\n",
    "history = model[i].fit(\n",
    "    X_train_7x7, \n",
    "    y_train, \n",
    "    epochs=1000, \n",
    "    batch_size=256, \n",
    "    validation_split=0.2,\n",
    "    verbose=0,\n",
    "    callbacks=[keras.callbacks.TensorBoard(get_run_logdir(i)), earlystopping_cb])\n",
    "model[i].save(f'cnn_models/model_{i}')"
   ]
  },
  {
   "attachments": {},
   "cell_type": "markdown",
   "metadata": {},
   "source": [
    "## Model 41: 7x7 Input, 3x3x20 Kernel, 0.1 Dropout, 25 Dense"
   ]
  },
  {
   "cell_type": "code",
   "execution_count": 27,
   "metadata": {},
   "outputs": [
    {
     "name": "stdout",
     "output_type": "stream",
     "text": [
      "Model: \"sequential_18\"\n",
      "_________________________________________________________________\n",
      " Layer (type)                Output Shape              Param #   \n",
      "=================================================================\n",
      " conv2d_22 (Conv2D)          (None, 5, 5, 20)          1820      \n",
      "                                                                 \n",
      " flatten_18 (Flatten)        (None, 500)               0         \n",
      "                                                                 \n",
      " dropout_31 (Dropout)        (None, 500)               0         \n",
      "                                                                 \n",
      " dense_56 (Dense)            (None, 25)                12525     \n",
      "                                                                 \n",
      " dense_57 (Dense)            (None, 1)                 26        \n",
      "                                                                 \n",
      "=================================================================\n",
      "Total params: 14,371\n",
      "Trainable params: 14,371\n",
      "Non-trainable params: 0\n",
      "_________________________________________________________________\n"
     ]
    },
    {
     "name": "stderr",
     "output_type": "stream",
     "text": [
      "2023-06-27 09:31:26.934705: I tensorflow/core/common_runtime/executor.cc:1197] [/device:CPU:0] (DEBUG INFO) Executor start aborting (this does not indicate an error and you can ignore this message): INVALID_ARGUMENT: You must feed a value for placeholder tensor 'inputs' with dtype float and shape [?,500]\n",
      "\t [[{{node inputs}}]]\n",
      "2023-06-27 09:31:27.135236: I tensorflow/core/common_runtime/executor.cc:1197] [/device:CPU:0] (DEBUG INFO) Executor start aborting (this does not indicate an error and you can ignore this message): INVALID_ARGUMENT: You must feed a value for placeholder tensor 'inputs' with dtype float and shape [?,500]\n",
      "\t [[{{node inputs}}]]\n",
      "WARNING:absl:Found untraced functions such as _jit_compiled_convolution_op, _update_step_xla while saving (showing 2 of 2). These functions will not be directly callable after loading.\n"
     ]
    },
    {
     "name": "stdout",
     "output_type": "stream",
     "text": [
      "INFO:tensorflow:Assets written to: cnn_models/model_41/assets\n"
     ]
    },
    {
     "name": "stderr",
     "output_type": "stream",
     "text": [
      "INFO:tensorflow:Assets written to: cnn_models/model_41/assets\n"
     ]
    }
   ],
   "source": [
    "i = 41\n",
    "model[i] = Sequential([\n",
    "    InputLayer(input_shape=[7, 7, 10]),\n",
    "    Conv2D(filters=20, kernel_size=3, strides=1, activation='relu'),\n",
    "    Flatten(),\n",
    "    Dropout(0.1),\n",
    "    Dense(25, activation='relu'),\n",
    "    Dense(1, activation='relu')\n",
    "])\n",
    "model[i].summary()\n",
    "model[i].compile(loss=\"mean_absolute_error\", optimizer=\"adam\", metrics=[\"mean_absolute_error\"])\n",
    "history = model[i].fit(\n",
    "    X_train_7x7, \n",
    "    y_train, \n",
    "    epochs=1000, \n",
    "    batch_size=256, \n",
    "    validation_split=0.2,\n",
    "    verbose=0,\n",
    "    callbacks=[keras.callbacks.TensorBoard(get_run_logdir(i)), earlystopping_cb])\n",
    "model[i].save(f'cnn_models/model_{i}')"
   ]
  },
  {
   "attachments": {},
   "cell_type": "markdown",
   "metadata": {},
   "source": [
    "# Best Model: 39"
   ]
  },
  {
   "attachments": {},
   "cell_type": "markdown",
   "metadata": {},
   "source": [
    "Very good fit, comparably few parameters, fast training."
   ]
  },
  {
   "cell_type": "code",
   "execution_count": 31,
   "metadata": {},
   "outputs": [
    {
     "name": "stdout",
     "output_type": "stream",
     "text": [
      "Model: \"sequential_22\"\n",
      "_________________________________________________________________\n",
      " Layer (type)                Output Shape              Param #   \n",
      "=================================================================\n",
      " conv2d_26 (Conv2D)          (None, 5, 5, 20)          1820      \n",
      "                                                                 \n",
      " flatten_22 (Flatten)        (None, 500)               0         \n",
      "                                                                 \n",
      " dropout_35 (Dropout)        (None, 500)               0         \n",
      "                                                                 \n",
      " dense_64 (Dense)            (None, 10)                5010      \n",
      "                                                                 \n",
      " dense_65 (Dense)            (None, 1)                 11        \n",
      "                                                                 \n",
      "=================================================================\n",
      "Total params: 6,841\n",
      "Trainable params: 6,841\n",
      "Non-trainable params: 0\n",
      "_________________________________________________________________\n"
     ]
    },
    {
     "name": "stderr",
     "output_type": "stream",
     "text": [
      "2023-06-27 10:05:14.906255: I tensorflow/core/common_runtime/executor.cc:1197] [/device:CPU:0] (DEBUG INFO) Executor start aborting (this does not indicate an error and you can ignore this message): INVALID_ARGUMENT: You must feed a value for placeholder tensor 'inputs' with dtype float and shape [?,500]\n",
      "\t [[{{node inputs}}]]\n",
      "2023-06-27 10:05:15.062410: I tensorflow/core/common_runtime/executor.cc:1197] [/device:CPU:0] (DEBUG INFO) Executor start aborting (this does not indicate an error and you can ignore this message): INVALID_ARGUMENT: You must feed a value for placeholder tensor 'inputs' with dtype float and shape [?,500]\n",
      "\t [[{{node inputs}}]]\n",
      "WARNING:absl:Found untraced functions such as _jit_compiled_convolution_op, _update_step_xla while saving (showing 2 of 2). These functions will not be directly callable after loading.\n"
     ]
    },
    {
     "name": "stdout",
     "output_type": "stream",
     "text": [
      "INFO:tensorflow:Assets written to: ../models/cnn/assets\n"
     ]
    },
    {
     "name": "stderr",
     "output_type": "stream",
     "text": [
      "INFO:tensorflow:Assets written to: ../models/cnn/assets\n"
     ]
    }
   ],
   "source": [
    "model = Sequential([\n",
    "    InputLayer(input_shape=[7, 7, 10]),\n",
    "    Conv2D(filters=20, kernel_size=3, strides=1, activation='relu'),\n",
    "    Flatten(),\n",
    "    Dropout(0.1),\n",
    "    Dense(10, activation='relu'),\n",
    "    Dense(1, activation='relu')\n",
    "])\n",
    "model.summary()\n",
    "model.compile(loss=\"mean_absolute_error\", optimizer=\"adam\", metrics=[\"mean_absolute_error\"])\n",
    "history = model.fit(\n",
    "    X_train_7x7, \n",
    "    y_train, \n",
    "    epochs=1000, \n",
    "    batch_size=256, \n",
    "    validation_split=0.2,\n",
    "    verbose=0,\n",
    "    callbacks=[keras.callbacks.TensorBoard(get_run_logdir(0)), earlystopping_cb])\n",
    "model.save('../models/cnn')"
   ]
  }
 ],
 "metadata": {
  "kernelspec": {
   "display_name": "Python 3",
   "language": "python",
   "name": "python3"
  },
  "language_info": {
   "codemirror_mode": {
    "name": "ipython",
    "version": 3
   },
   "file_extension": ".py",
   "mimetype": "text/x-python",
   "name": "python",
   "nbconvert_exporter": "python",
   "pygments_lexer": "ipython3",
   "version": "3.11.3"
  },
  "orig_nbformat": 4
 },
 "nbformat": 4,
 "nbformat_minor": 2
}
