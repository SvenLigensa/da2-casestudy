{
 "cells": [
  {
   "attachments": {},
   "cell_type": "markdown",
   "metadata": {},
   "source": [
    "# Setup"
   ]
  },
  {
   "cell_type": "code",
   "execution_count": null,
   "metadata": {},
   "outputs": [],
   "source": [
    "import numpy as np\n",
    "import pandas as pd\n",
    "import matplotlib.pyplot as plt\n",
    "from sklearn.ensemble import ExtraTreesRegressor\n",
    "from sklearn.model_selection import GridSearchCV\n",
    "from sklearn.metrics import mean_absolute_error\n",
    "from joblib import dump"
   ]
  },
  {
   "cell_type": "code",
   "execution_count": null,
   "metadata": {},
   "outputs": [],
   "source": [
    "X_train_all_indices = np.load('../data/X_train_all_indices.npy')\n",
    "y_train = np.load('../data/y_train.npy')"
   ]
  },
  {
   "attachments": {},
   "cell_type": "markdown",
   "metadata": {},
   "source": [
    "# Model Training"
   ]
  },
  {
   "cell_type": "code",
   "execution_count": null,
   "metadata": {},
   "outputs": [],
   "source": [
    "model_all_indices = ExtraTreesRegressor()\n",
    "\n",
    "param_grid = {\n",
    "    'n_estimators': [250, 500, 750],\n",
    "    'max_depth': [10, 20, None],\n",
    "    'min_samples_split': [10, 20, 30],\n",
    "    'min_samples_leaf': [5, 10, 20],\n",
    "    'max_features': [0.5, 0.75, 1.0]\n",
    "}\n",
    "\n",
    "grid_search = GridSearchCV(model_all_indices, param_grid, cv=3, n_jobs=-1, verbose=1, scoring='neg_mean_absolute_error')\n",
    "grid_search.fit(X_train_all_indices, y_train)\n",
    "print(f\"Best parameters: {grid_search.best_params_}\")"
   ]
  },
  {
   "cell_type": "code",
   "execution_count": null,
   "metadata": {},
   "outputs": [],
   "source": [
    "model_all_indices = ExtraTreesRegressor()\n",
    "\n",
    "param_grid = {\n",
    "    'n_estimators': [500],\n",
    "    'max_depth': [20],\n",
    "    'min_samples_split': [2, 5, 10],\n",
    "    'min_samples_leaf': [1, 3, 5],\n",
    "    'max_features': [0.9, 1.0]\n",
    "}\n",
    "\n",
    "grid_search = GridSearchCV(model_all_indices, param_grid, cv=3, n_jobs=-1, verbose=1, scoring='neg_mean_absolute_error')\n",
    "grid_search.fit(X_train_all_indices, y_train)\n",
    "print(f\"Best parameters: {grid_search.best_params_}\")"
   ]
  },
  {
   "cell_type": "code",
   "execution_count": null,
   "metadata": {},
   "outputs": [],
   "source": [
    "model_all_indices = ExtraTreesRegressor(max_depth=20, max_features=1.0, min_samples_leaf=3, min_samples_split=10, n_estimators=500)\n",
    "model_all_indices.fit(X_train_all_indices, y_train)\n",
    "dump(model_all_indices, '../models/extra_trees.joblib')"
   ]
  }
 ],
 "metadata": {
  "kernelspec": {
   "display_name": "Python 3",
   "language": "python",
   "name": "python3"
  },
  "language_info": {
   "codemirror_mode": {
    "name": "ipython",
    "version": 3
   },
   "file_extension": ".py",
   "mimetype": "text/x-python",
   "name": "python",
   "nbconvert_exporter": "python",
   "pygments_lexer": "ipython3",
   "version": "3.11.3"
  },
  "orig_nbformat": 4
 },
 "nbformat": 4,
 "nbformat_minor": 2
}
