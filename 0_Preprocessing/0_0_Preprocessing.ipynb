{
 "cells": [
  {
   "attachments": {},
   "cell_type": "markdown",
   "metadata": {},
   "source": [
    "# Setup"
   ]
  },
  {
   "cell_type": "code",
   "execution_count": 1,
   "metadata": {},
   "outputs": [],
   "source": [
    "from pathlib import Path\n",
    "import numpy as np\n",
    "from sklearn.model_selection import train_test_split"
   ]
  },
  {
   "attachments": {},
   "cell_type": "markdown",
   "metadata": {},
   "source": [
    "# Preprocessing"
   ]
  },
  {
   "attachments": {},
   "cell_type": "markdown",
   "metadata": {},
   "source": [
    "Load multiple images/masks and stack them into a single `numpy` array."
   ]
  },
  {
   "cell_type": "code",
   "execution_count": 2,
   "metadata": {},
   "outputs": [
    {
     "name": "stdout",
     "output_type": "stream",
     "text": [
      "Number of images: 40\n",
      "Channels: 10\n",
      "Height: 1024\n",
      "Width: 1024\n"
     ]
    }
   ],
   "source": [
    "images = np.stack(list(map(lambda index: np.load(f'../data/images_train/image_{index:03d}.npy'), range(40))))\n",
    "masks = np.stack(list(map(lambda index: np.load(f'../data/masks_train/mask_{index:03d}.npy'), range(40))))\n",
    "\n",
    "if (len(images.shape) != 4 or len(masks.shape) != 4):\n",
    "    raise Exception(f\"Unexpected shape of images/masks: {images.shape}, {masks.shape}\")\n",
    "if (images.shape[0] != masks.shape[0] \n",
    "    or images.shape[2] != masks.shape[2] \n",
    "    or images.shape[3] != masks.shape[3]):\n",
    "    raise Exception(f\"Shape mismatch between images and masks: {images.shape} != {masks.shape}\")\n",
    "\n",
    "print(f\"Number of images: {images.shape[0]}\\nChannels: {images.shape[1]}\\nHeight: {images.shape[2]}\\nWidth: {images.shape[3]}\")"
   ]
  },
  {
   "attachments": {},
   "cell_type": "markdown",
   "metadata": {},
   "source": [
    "Obtain the indices of the instances for which labels are given."
   ]
  },
  {
   "cell_type": "code",
   "execution_count": 3,
   "metadata": {},
   "outputs": [],
   "source": [
    "indices = np.argwhere(masks)"
   ]
  },
  {
   "attachments": {},
   "cell_type": "markdown",
   "metadata": {},
   "source": [
    "Perform the train-test split."
   ]
  },
  {
   "cell_type": "code",
   "execution_count": 4,
   "metadata": {},
   "outputs": [
    {
     "name": "stdout",
     "output_type": "stream",
     "text": [
      "Generated 34976 training and 3887 testing indices and saved them to 'indices_train.npy' and 'indices_test.npy'\n"
     ]
    }
   ],
   "source": [
    "indices_train, indices_test = train_test_split(indices, train_size=0.9, random_state=0)\n",
    "np.save('../data/indices_train.npy', indices_train)\n",
    "np.save('../data/indices_test.npy', indices_test)\n",
    "\n",
    "print(f\"Generated {indices_train.shape[0]} training and {indices_test.shape[0]} testing indices \"\n",
    "       \"and saved them to 'indices_train.npy' and 'indices_test.npy'\")"
   ]
  },
  {
   "attachments": {},
   "cell_type": "markdown",
   "metadata": {},
   "source": [
    "Create dataset for training/testing with instances in the rows and features in the columns."
   ]
  },
  {
   "cell_type": "code",
   "execution_count": 5,
   "metadata": {},
   "outputs": [],
   "source": [
    "X_train = images[indices_train[:, 0], :, indices_train[:, 2], indices_train[:, 3]]\n",
    "X_test = images[indices_test[:, 0], :, indices_test[:, 2], indices_test[:, 3]]\n",
    "y_train = masks[indices_train[:, 0], 0, indices_train[:, 2], indices_train[:, 3]]\n",
    "y_test = masks[indices_test[:, 0], 0, indices_test[:, 2], indices_test[:, 3]]\n",
    "\n",
    "np.save('../data/X_train.npy', X_train)\n",
    "np.save('../data/X_test.npy', X_test)\n",
    "np.save('../data/y_train.npy', y_train)\n",
    "np.save('../data/y_test.npy', y_test)"
   ]
  }
 ],
 "metadata": {
  "kernelspec": {
   "display_name": "Python 3",
   "language": "python",
   "name": "python3"
  },
  "language_info": {
   "codemirror_mode": {
    "name": "ipython",
    "version": 3
   },
   "file_extension": ".py",
   "mimetype": "text/x-python",
   "name": "python",
   "nbconvert_exporter": "python",
   "pygments_lexer": "ipython3",
   "version": "3.11.3"
  },
  "orig_nbformat": 4
 },
 "nbformat": 4,
 "nbformat_minor": 2
}
