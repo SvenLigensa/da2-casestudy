{
 "cells": [
  {
   "cell_type": "code",
   "execution_count": 1,
   "metadata": {},
   "outputs": [],
   "source": [
    "import numpy as np\n",
    "from joblib import load\n",
    "import matplotlib.pyplot as plt\n",
    "import matplotlib.colors as mcolors\n",
    "from mpl_toolkits.axes_grid1 import make_axes_locatable"
   ]
  },
  {
   "cell_type": "code",
   "execution_count": 2,
   "metadata": {},
   "outputs": [
    {
     "name": "stdout",
     "output_type": "stream",
     "text": [
      "Loaded image with channels: 10, height: 16384, width: 16384\n"
     ]
    }
   ],
   "source": [
    "X_test = np.load('./private_test.npy')\n",
    "\n",
    "channels = X_test.shape[0]\n",
    "height = X_test.shape[1]\n",
    "width = X_test.shape[2]\n",
    "\n",
    "print(f\"Loaded image with channels: {channels}, height: {height}, width: {width}\")"
   ]
  },
  {
   "cell_type": "code",
   "execution_count": 3,
   "metadata": {},
   "outputs": [],
   "source": [
    "xgboost = load('../models/xgboost.joblib')"
   ]
  },
  {
   "cell_type": "code",
   "execution_count": 4,
   "metadata": {},
   "outputs": [],
   "source": [
    "def get_indices(X_test):\n",
    "    sr = X_test[6]/X_test[2]\n",
    "    ndvi = (X_test[6]-X_test[2])/(X_test[6]+X_test[2])\n",
    "    gndvi = (X_test[6]-X_test[1])/(X_test[6]+X_test[1])\n",
    "    VIgreen = (X_test[1]-X_test[2])/(X_test[1]+X_test[2])\n",
    "    RENDVI = (X_test[5]-X_test[2])/(X_test[5]+X_test[2])\n",
    "    SRRE = X_test[3]/X_test[2]\n",
    "    RR1 = X_test[7]/X_test[3]\n",
    "    IRECI = (X_test[5]-X_test[2])/(X_test[3]/X_test[4])\n",
    "    MSI = X_test[8]/X_test[7]\n",
    "    NDII = (X_test[7]-X_test[8])/(X_test[7]+X_test[8])\n",
    "    NBR = (X_test[7]-X_test[9])/(X_test[7]+X_test[9])\n",
    "    SLAVI = X_test[7]/(X_test[3]+X_test[9])\n",
    "    return np.stack([sr, ndvi, gndvi, VIgreen, RENDVI, SRRE, RR1, IRECI, MSI, NDII, NBR, SLAVI], axis=0)"
   ]
  },
  {
   "cell_type": "code",
   "execution_count": 5,
   "metadata": {},
   "outputs": [
    {
     "name": "stdout",
     "output_type": "stream",
     "text": [
      "Done with row: 0\n"
     ]
    }
   ],
   "source": [
    "predictions = np.zeros((1, width, height))\n",
    "\n",
    "for y in range(height):\n",
    "    X_test_batch = X_test[:, y, :]\n",
    "    X_indices = get_indices(X_test_batch)\n",
    "    X_test_batch_all_indices = np.concatenate((X_test_batch, X_indices), axis=0)\n",
    "    X_test_batch_all_indices = X_test_batch_all_indices.reshape(X_test_batch_all_indices.shape[0], -1).T\n",
    "    predictions[0, y, :] = xgboost.predict(X_test_batch_all_indices)\n",
    "    if y % 50 == 0:\n",
    "        print(\"Done with row:\", y)\n",
    "\n",
    "np.save(f'private_test_xgboost.npy', predictions)"
   ]
  },
  {
   "cell_type": "code",
   "execution_count": null,
   "metadata": {},
   "outputs": [],
   "source": [
    "fig, ax = plt.subplots(figsize=(20, 20))\n",
    "colors = [\"white\", \"green\"]\n",
    "cmap = mcolors.LinearSegmentedColormap.from_list(\"mycmap\", colors)\n",
    "im = ax.imshow(np.load('private_test_xgboost.npy')[0], cmap=cmap, vmin=0, vmax=40)\n",
    "divider = make_axes_locatable(ax)\n",
    "cax = divider.append_axes(\"right\", size=\"5%\", pad=0.2)\n",
    "plt.colorbar(im, cax=cax)\n",
    "ax.axis('off')\n",
    "plt.savefig('Private_Test_XGBoost.png', bbox_inches='tight')\n",
    "plt.show()"
   ]
  }
 ],
 "metadata": {
  "kernelspec": {
   "display_name": "Python 3",
   "language": "python",
   "name": "python3"
  },
  "language_info": {
   "codemirror_mode": {
    "name": "ipython",
    "version": 3
   },
   "file_extension": ".py",
   "mimetype": "text/x-python",
   "name": "python",
   "nbconvert_exporter": "python",
   "pygments_lexer": "ipython3",
   "version": "3.11.3"
  },
  "orig_nbformat": 4
 },
 "nbformat": 4,
 "nbformat_minor": 2
}
