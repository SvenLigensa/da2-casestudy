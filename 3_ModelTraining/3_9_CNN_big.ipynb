{
 "cells": [
  {
   "cell_type": "code",
   "execution_count": 1,
   "metadata": {},
   "outputs": [
    {
     "name": "stderr",
     "output_type": "stream",
     "text": [
      "2023-06-11 13:51:54.537392: I tensorflow/tsl/cuda/cudart_stub.cc:28] Could not find cuda drivers on your machine, GPU will not be used.\n",
      "2023-06-11 13:51:54.735831: I tensorflow/tsl/cuda/cudart_stub.cc:28] Could not find cuda drivers on your machine, GPU will not be used.\n",
      "2023-06-11 13:51:54.738244: I tensorflow/core/platform/cpu_feature_guard.cc:182] This TensorFlow binary is optimized to use available CPU instructions in performance-critical operations.\n",
      "To enable the following instructions: AVX2 FMA, in other operations, rebuild TensorFlow with the appropriate compiler flags.\n",
      "2023-06-11 13:51:56.192794: W tensorflow/compiler/tf2tensorrt/utils/py_utils.cc:38] TF-TRT Warning: Could not find TensorRT\n"
     ]
    }
   ],
   "source": [
    "import numpy as np\n",
    "import pandas as pd\n",
    "import matplotlib.pyplot as plt\n",
    "from pathlib import Path\n",
    "from sklearn.preprocessing import MinMaxScaler\n",
    "import tensorflow as tf\n",
    "from tensorflow import keras\n",
    "tf.random.set_seed(42)\n",
    "from keras.layers import InputLayer, Dense, Flatten, Conv2D, MaxPool2D\n",
    "from keras.models import Sequential"
   ]
  },
  {
   "cell_type": "code",
   "execution_count": 2,
   "metadata": {},
   "outputs": [],
   "source": [
    "def load_files(directory: str):\n",
    "    return np.stack(list(map(lambda path: np.load(path), Path(directory).glob('**/*.npy'))))\n",
    "\n",
    "X_train = load_files('../data/images_train')\n",
    "y_train = load_files('../data/masks_train').squeeze()  # squeeze removes the dimension of size 1\n",
    "\n",
    "# Channel as last dimension\n",
    "X_train = np.swapaxes(X_train,1,3)\n",
    "\n",
    "# Normalize the images\n",
    "# Original shape of images, e.g. (40, 1024, 1024, 10)\n",
    "original_shape = X_train.shape\n",
    "# Reshape the images to 2D array, (40*1024*1024, 10)\n",
    "X_train_2d = np.reshape(X_train, (-1, original_shape[-1]))\n",
    "# Initialize and fit the MinMaxScaler\n",
    "scaler = MinMaxScaler()\n",
    "X_train_2d_scaled = scaler.fit_transform(X_train_2d)\n",
    "# Reshape the images back to their original shape\n",
    "X_train_scaled = np.reshape(X_train_2d_scaled, original_shape)"
   ]
  },
  {
   "cell_type": "code",
   "execution_count": 3,
   "metadata": {},
   "outputs": [],
   "source": [
    "model = Sequential([\n",
    "    InputLayer(input_shape=[1024, 1024, 10]),\n",
    "    Conv2D(filters=1, kernel_size=5, strides=1, padding='same', activation='relu'),\n",
    "])"
   ]
  },
  {
   "cell_type": "code",
   "execution_count": 4,
   "metadata": {},
   "outputs": [
    {
     "name": "stdout",
     "output_type": "stream",
     "text": [
      "Model: \"sequential\"\n",
      "_________________________________________________________________\n",
      " Layer (type)                Output Shape              Param #   \n",
      "=================================================================\n",
      " conv2d (Conv2D)             (None, 1024, 1024, 1)     251       \n",
      "                                                                 \n",
      "=================================================================\n",
      "Total params: 251\n",
      "Trainable params: 251\n",
      "Non-trainable params: 0\n",
      "_________________________________________________________________\n"
     ]
    }
   ],
   "source": [
    "model.summary()"
   ]
  },
  {
   "cell_type": "code",
   "execution_count": 11,
   "metadata": {},
   "outputs": [],
   "source": [
    "class MaskedLoss(tf.keras.losses.Loss):\n",
    "    def call(self, y_true, y_pred):\n",
    "        # If y_true is zero, the loss is zero.\n",
    "        return tf.where(y_true == 0, 0.0, tf.keras.losses.mean_absolute_error(y_true - y_pred))"
   ]
  },
  {
   "cell_type": "code",
   "execution_count": 12,
   "metadata": {},
   "outputs": [],
   "source": [
    "model.compile(loss=MaskedLoss, optimizer=\"adam\", metrics=[MaskedLoss])"
   ]
  },
  {
   "cell_type": "code",
   "execution_count": 13,
   "metadata": {},
   "outputs": [],
   "source": [
    "history = model.fit(X_train_scaled, \n",
    "                    y_train, \n",
    "                    epochs=10, \n",
    "                    batch_size=1, \n",
    "                    validation_split=0.1)"
   ]
  },
  {
   "cell_type": "code",
   "execution_count": null,
   "metadata": {},
   "outputs": [],
   "source": []
  }
 ],
 "metadata": {
  "kernelspec": {
   "display_name": "Python 3",
   "language": "python",
   "name": "python3"
  },
  "language_info": {
   "codemirror_mode": {
    "name": "ipython",
    "version": 3
   },
   "file_extension": ".py",
   "mimetype": "text/x-python",
   "name": "python",
   "nbconvert_exporter": "python",
   "pygments_lexer": "ipython3",
   "version": "3.11.3"
  },
  "orig_nbformat": 4
 },
 "nbformat": 4,
 "nbformat_minor": 2
}
